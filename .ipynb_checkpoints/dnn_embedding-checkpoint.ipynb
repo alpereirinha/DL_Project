{
 "cells": [
  {
   "cell_type": "code",
   "execution_count": 1,
   "metadata": {},
   "outputs": [],
   "source": [
    "import pandas as pd\n",
    "import numpy as np\n",
    "import matplotlib.pyplot as plt\n",
    "from tensorflow.keras.preprocessing import text, sequence\n",
    "from tensorflow.keras.models import Sequential \n",
    "from tensorflow.keras.layers import Flatten, Dense, Embedding\n",
    "from tensorflow.keras.metrics import SparseCategoricalAccuracy\n",
    "from tensorflow.keras.losses import SparseCategoricalCrossentropy\n",
    "from tensorflow.keras import models, layers, optimizers\n",
    "from sklearn.preprocessing import LabelEncoder"
   ]
  },
  {
   "cell_type": "code",
   "execution_count": 2,
   "metadata": {},
   "outputs": [
    {
     "name": "stdout",
     "output_type": "stream",
     "text": [
      "(726, 500)\n",
      "(726,)\n",
      "(182, 500)\n",
      "(182,)\n",
      "[   0    0    0    0    0    0    0    0    0    0    0    0    0    0\n",
      "    0    0    0    0    0    0    0    0    0    0    0    0    0    0\n",
      "    0    0    0    0    0    0    0    0    0    0    0    0    0    0\n",
      "    0    0    0    0    0    0    0    0    0    0    0    0    0    0\n",
      "    0    0    0    0    0    0    0    0    0    0    0    0    0    0\n",
      "    0    0    0    0    0    0    0    0    0    0    0    0    0    0\n",
      "    0    0    0    0    0    0    0    0    0    0    0    0    0    0\n",
      "    0    0    0    0    0    0    0    0    0    0    0    0    0    0\n",
      "    0    0    0    0    0    0    0    0    0    0    0    0    0    0\n",
      "    0    0    0    0    0    0    0    0    0    0    0    0    0    0\n",
      "    0    0    0    0    0    0    0    0    0    0    0    0    0    0\n",
      "    0    0    0    0    0    0    0    0    0    0    0    0    0    0\n",
      "    0    0    0    0    0    0    0    0    0    0    0    0    0    0\n",
      "    0    0    0    0    0    0    0    0    0    0    0    0    0    0\n",
      "    0    0    0    0    0    0    0    0    0    0    0    0    0    0\n",
      "    0    0    0    0    0    0    0    0    0    0    0    0    0    0\n",
      "    0    0    0    0    0    0    0    0    0    0    0    0    0    0\n",
      "    0    0    0    0    0    0    0    0    0    0    0    0    0    0\n",
      "    0    0    0    0    0    0    0    0    0    0    0    0    0    0\n",
      "    0    0    0    0    0    0    0    0    0    0    0    0    0    0\n",
      "    0    0    0    0    0    0    0    0    0    0    0    0    0    0\n",
      "    0    0    0    0    0    0    0    0    0    0    0    0    0    0\n",
      "    0    0    0    0    0    0    0    0    0    0    0    0    0    0\n",
      "    0    0    0    0    0    0    0    0    0    0    0    0    0    0\n",
      "    0    0    0    0    0    0    0    0    0    0    0  206   16    3\n",
      "  619  619  619  206   16    3  619  619  619  206  206  206   16    3\n",
      "  619  619  619  626  302 3635  348   21   64 1416   55   28  738 5840\n",
      "   93    2  190   15    2   55   28  118 1698   35  174  755   68    2\n",
      " 2204    2  107  107  312    2 1699  525    2 1699  525    4  769  206\n",
      "  206   16    3  619  619  619  206   16    3  619  619  619  206  206\n",
      "  206   16    3  619  619  619  356    2    7   17    3    4    3 5841\n",
      "    2   35  857  126   40  679   15   93  255  165    4 1698  174  174\n",
      "  755   68    2 2204    4  769  206  206   16    3  619  619  619  206\n",
      "   16    3  619  619  619  206  206  206   16    3  619  619  619    2\n",
      "  770  188 3111    2  206   16    3  619  619  619  206   16    3  619\n",
      "  619  619  206  206  206   16    3  619  619  619]\n",
      "2\n"
     ]
    }
   ],
   "source": [
    "max_features = 10000\n",
    "maxlen = 500\n",
    "\n",
    "# Carregar os dados do arquivo CSV\n",
    "train_data = pd.read_csv('train.csv')\n",
    "test_data = pd.read_csv('test.csv')\n",
    "\n",
    "# Obter os textos das colunas relevantes\n",
    "x_train_text = train_data['LyricsClean']\n",
    "y_train = train_data['sentiment']\n",
    "x_test_text = test_data['LyricsClean']\n",
    "y_test = test_data['sentiment']\n",
    "\n",
    "# Tokenização dos textos\n",
    "tokenizer = text.Tokenizer(num_words=max_features)\n",
    "tokenizer.fit_on_texts(x_train_text)\n",
    "\n",
    "x_train = tokenizer.texts_to_sequences(x_train_text)\n",
    "x_test = tokenizer.texts_to_sequences(x_test_text)\n",
    "\n",
    "# Padding das sequências\n",
    "x_train = sequence.pad_sequences(x_train, maxlen=maxlen)\n",
    "x_test = sequence.pad_sequences(x_test, maxlen=maxlen)\n",
    "\n",
    "# Crie uma instância do LabelEncoder\n",
    "label_encoder = LabelEncoder()\n",
    "\n",
    "# Aplique a codificação aos rótulos de destino\n",
    "y_train_encoded = label_encoder.fit_transform(y_train)\n",
    "y_test_encoded = label_encoder.fit_transform(y_test)\n",
    "\n",
    "\n",
    "print(x_train.shape)\n",
    "print(y_train_encoded.shape)\n",
    "\n",
    "print(x_test.shape)\n",
    "print(y_test_encoded.shape)\n",
    "\n",
    "print(x_train[0])\n",
    "print(y_train_encoded[0])"
   ]
  },
  {
   "cell_type": "markdown",
   "metadata": {},
   "source": [
    "# Hiden=1, epoch=9, batch_size=32, softmax"
   ]
  },
  {
   "cell_type": "code",
   "execution_count": 16,
   "metadata": {},
   "outputs": [
    {
     "name": "stdout",
     "output_type": "stream",
     "text": [
      "Model: \"sequential_10\"\n",
      "_________________________________________________________________\n",
      " Layer (type)                Output Shape              Param #   \n",
      "=================================================================\n",
      " embedding_7 (Embedding)     (None, 500, 8)            80000     \n",
      "                                                                 \n",
      " flatten_7 (Flatten)         (None, 4000)              0         \n",
      "                                                                 \n",
      " dense_16 (Dense)            (None, 3)                 12003     \n",
      "                                                                 \n",
      "=================================================================\n",
      "Total params: 92,003\n",
      "Trainable params: 92,003\n",
      "Non-trainable params: 0\n",
      "_________________________________________________________________\n"
     ]
    },
    {
     "ename": "TypeError",
     "evalue": "fit() got an unexpected keyword argument 'bacth_size'",
     "output_type": "error",
     "traceback": [
      "\u001b[0;31m---------------------------------------------------------------------------\u001b[0m",
      "\u001b[0;31mTypeError\u001b[0m                                 Traceback (most recent call last)",
      "Cell \u001b[0;32mIn[16], line 10\u001b[0m\n\u001b[1;32m      6\u001b[0m model\u001b[38;5;241m.\u001b[39mcompile(optimizer\u001b[38;5;241m=\u001b[39m\u001b[38;5;124m'\u001b[39m\u001b[38;5;124mrmsprop\u001b[39m\u001b[38;5;124m'\u001b[39m, loss\u001b[38;5;241m=\u001b[39m\u001b[38;5;124m'\u001b[39m\u001b[38;5;124msparse_categorical_crossentropy\u001b[39m\u001b[38;5;124m'\u001b[39m, metrics\u001b[38;5;241m=\u001b[39m[SparseCategoricalAccuracy()])  \u001b[38;5;66;03m# Métrica alterada\u001b[39;00m\n\u001b[1;32m      8\u001b[0m model\u001b[38;5;241m.\u001b[39msummary()\n\u001b[0;32m---> 10\u001b[0m history \u001b[38;5;241m=\u001b[39m \u001b[43mmodel\u001b[49m\u001b[38;5;241;43m.\u001b[39;49m\u001b[43mfit\u001b[49m\u001b[43m(\u001b[49m\u001b[43mx_train\u001b[49m\u001b[43m,\u001b[49m\u001b[43m \u001b[49m\u001b[43my_train_encoded\u001b[49m\u001b[43m,\u001b[49m\u001b[43m \u001b[49m\u001b[43mepochs\u001b[49m\u001b[38;5;241;43m=\u001b[39;49m\u001b[38;5;241;43m50\u001b[39;49m\u001b[43m,\u001b[49m\u001b[43m \u001b[49m\u001b[43mbacth_size\u001b[49m\u001b[38;5;241;43m=\u001b[39;49m\u001b[38;5;241;43m32\u001b[39;49m\u001b[43m,\u001b[49m\u001b[43m \u001b[49m\u001b[43mvalidation_split\u001b[49m\u001b[38;5;241;43m=\u001b[39;49m\u001b[38;5;241;43m0.2\u001b[39;49m\u001b[43m)\u001b[49m\n\u001b[1;32m     12\u001b[0m \u001b[38;5;66;03m# Avaliar o modelo\u001b[39;00m\n\u001b[1;32m     13\u001b[0m results \u001b[38;5;241m=\u001b[39m model\u001b[38;5;241m.\u001b[39mevaluate(x_test, y_test_encoded, verbose \u001b[38;5;241m=\u001b[39m \u001b[38;5;241m0\u001b[39m)\n",
      "File \u001b[0;32m~/anaconda3/envs/daa/lib/python3.9/site-packages/keras/utils/traceback_utils.py:70\u001b[0m, in \u001b[0;36mfilter_traceback.<locals>.error_handler\u001b[0;34m(*args, **kwargs)\u001b[0m\n\u001b[1;32m     67\u001b[0m     filtered_tb \u001b[38;5;241m=\u001b[39m _process_traceback_frames(e\u001b[38;5;241m.\u001b[39m__traceback__)\n\u001b[1;32m     68\u001b[0m     \u001b[38;5;66;03m# To get the full stack trace, call:\u001b[39;00m\n\u001b[1;32m     69\u001b[0m     \u001b[38;5;66;03m# `tf.debugging.disable_traceback_filtering()`\u001b[39;00m\n\u001b[0;32m---> 70\u001b[0m     \u001b[38;5;28;01mraise\u001b[39;00m e\u001b[38;5;241m.\u001b[39mwith_traceback(filtered_tb) \u001b[38;5;28;01mfrom\u001b[39;00m \u001b[38;5;28mNone\u001b[39m\n\u001b[1;32m     71\u001b[0m \u001b[38;5;28;01mfinally\u001b[39;00m:\n\u001b[1;32m     72\u001b[0m     \u001b[38;5;28;01mdel\u001b[39;00m filtered_tb\n",
      "File \u001b[0;32m~/anaconda3/envs/daa/lib/python3.9/site-packages/keras/utils/traceback_utils.py:65\u001b[0m, in \u001b[0;36mfilter_traceback.<locals>.error_handler\u001b[0;34m(*args, **kwargs)\u001b[0m\n\u001b[1;32m     63\u001b[0m filtered_tb \u001b[38;5;241m=\u001b[39m \u001b[38;5;28;01mNone\u001b[39;00m\n\u001b[1;32m     64\u001b[0m \u001b[38;5;28;01mtry\u001b[39;00m:\n\u001b[0;32m---> 65\u001b[0m     \u001b[38;5;28;01mreturn\u001b[39;00m fn(\u001b[38;5;241m*\u001b[39margs, \u001b[38;5;241m*\u001b[39m\u001b[38;5;241m*\u001b[39mkwargs)\n\u001b[1;32m     66\u001b[0m \u001b[38;5;28;01mexcept\u001b[39;00m \u001b[38;5;167;01mException\u001b[39;00m \u001b[38;5;28;01mas\u001b[39;00m e:\n\u001b[1;32m     67\u001b[0m     filtered_tb \u001b[38;5;241m=\u001b[39m _process_traceback_frames(e\u001b[38;5;241m.\u001b[39m__traceback__)\n",
      "\u001b[0;31mTypeError\u001b[0m: fit() got an unexpected keyword argument 'bacth_size'"
     ]
    }
   ],
   "source": [
    "model = Sequential()\n",
    "model.add(Embedding(10000, 8, input_length=maxlen))\n",
    "model.add(Flatten())\n",
    "model.add(Dense(3, activation='softmax'))\n",
    "\n",
    "model.compile(optimizer='rmsprop', loss='sparse_categorical_crossentropy', metrics=[SparseCategoricalAccuracy()])  # Métrica alterada\n",
    "\n",
    "model.summary()\n",
    "\n",
    "history = model.fit(x_train, y_train_encoded, epochs=50, bacth_size=32, validation_split=0.2)\n",
    "\n",
    "# Avaliar o modelo\n",
    "results = model.evaluate(x_test, y_test_encoded, verbose = 0)\n",
    "print(results)\n",
    "\n",
    "# Plotar a curva de aprendizado\n",
    "loss_values = history.history['loss']\n",
    "val_loss_values = history.history['val_loss']\n",
    "epochs = range(1, len(loss_values) + 1)\n",
    "\n",
    "plt.plot(epochs, loss_values, 'bo', label='Training loss')\n",
    "plt.plot(epochs, val_loss_values, 'b', label='Validation loss')\n",
    "plt.title('Training and validation loss')\n",
    "plt.xlabel('Epochs')\n",
    "plt.ylabel('Loss')\n",
    "plt.legend()\n",
    "plt.show()"
   ]
  },
  {
   "cell_type": "code",
   "execution_count": 10,
   "metadata": {},
   "outputs": [
    {
     "data": {
      "image/png": "[encoded data removed]",
      "text/plain": [
       "<Figure size 432x288 with 1 Axes>"
      ]
     },
     "metadata": {
      "needs_background": "light"
     },
     "output_type": "display_data"
    }
   ],
   "source": [
    "acc_values = history.history['sparse_categorical_accuracy']\n",
    "val_acc_values = history.history['val_sparse_categorical_accuracy']\n",
    "epochs = range(1, len(acc_values) + 1)\n",
    "\n",
    "plt.plot(epochs, acc_values, 'bo', label='Training Accuracy')\n",
    "plt.plot(epochs, val_acc_values, 'b', label='Validation Accuracy')\n",
    "plt.title('Training and Validation Accuracy')\n",
    "plt.xlabel('Epochs')\n",
    "plt.ylabel('Accuracy')\n",
    "plt.legend()\n",
    "plt.show()\n"
   ]
  },
  {
   "cell_type": "code",
   "execution_count": 6,
   "metadata": {},
   "outputs": [
    {
     "name": "stdout",
     "output_type": "stream",
     "text": [
      "6/6 [==============================] - 0s 821us/step\n",
      "[[0.04740324 0.03930581 0.913291  ]\n",
      " [0.18636928 0.06795465 0.74567604]\n",
      " [0.13814105 0.0897048  0.7721541 ]\n",
      " [0.15628994 0.10913949 0.7345706 ]\n",
      " [0.18358108 0.07212105 0.7442979 ]]\n"
     ]
    },
    {
     "data": {
      "text/plain": [
       "array([[False, False,  True],\n",
       "       [False, False,  True],\n",
       "       [False, False,  True],\n",
       "       [False, False,  True],\n",
       "       [False, False,  True]])"
      ]
     },
     "execution_count": 6,
     "metadata": {},
     "output_type": "execute_result"
    }
   ],
   "source": [
    "preds = model.predict(x_test) # probabilities\n",
    "class_preds = preds > 0.5\n",
    "\n",
    "print(preds[0:5])\n",
    "class_preds[0:5]"
   ]
  },
  {
   "cell_type": "markdown",
   "metadata": {},
   "source": [
    "# Hiden=3, epoch=9, batch_size=32, softmax, relu"
   ]
  },
  {
   "cell_type": "code",
   "execution_count": 11,
   "metadata": {},
   "outputs": [
    {
     "name": "stdout",
     "output_type": "stream",
     "text": [
      "Model: \"sequential_6\"\n",
      "_________________________________________________________________\n",
      " Layer (type)                Output Shape              Param #   \n",
      "=================================================================\n",
      " dense_6 (Dense)             (None, 3)                 1503      \n",
      "                                                                 \n",
      " dense_7 (Dense)             (None, 3)                 12        \n",
      "                                                                 \n",
      " dense_8 (Dense)             (None, 3)                 12        \n",
      "                                                                 \n",
      "=================================================================\n",
      "Total params: 1,527\n",
      "Trainable params: 1,527\n",
      "Non-trainable params: 0\n",
      "_________________________________________________________________\n",
      "Epoch 1/9\n",
      "37/37 [==============================] - 0s 3ms/step - loss: 13.1572 - sparse_categorical_accuracy: 0.5621 - val_loss: 14.1199 - val_sparse_categorical_accuracy: 0.6301\n",
      "Epoch 2/9\n",
      "37/37 [==============================] - 0s 1ms/step - loss: 1.3432 - sparse_categorical_accuracy: 0.5897 - val_loss: 14.7217 - val_sparse_categorical_accuracy: 0.6370\n",
      "Epoch 3/9\n",
      "37/37 [==============================] - 0s 1ms/step - loss: 1.0816 - sparse_categorical_accuracy: 0.5914 - val_loss: 14.4220 - val_sparse_categorical_accuracy: 0.6370\n",
      "Epoch 4/9\n",
      "37/37 [==============================] - 0s 1ms/step - loss: 1.0104 - sparse_categorical_accuracy: 0.5948 - val_loss: 10.5333 - val_sparse_categorical_accuracy: 0.6370\n",
      "Epoch 5/9\n",
      "37/37 [==============================] - 0s 1ms/step - loss: 1.0007 - sparse_categorical_accuracy: 0.5948 - val_loss: 10.5200 - val_sparse_categorical_accuracy: 0.6370\n",
      "Epoch 6/9\n",
      "37/37 [==============================] - 0s 1ms/step - loss: 0.9887 - sparse_categorical_accuracy: 0.5948 - val_loss: 10.5094 - val_sparse_categorical_accuracy: 0.6370\n",
      "Epoch 7/9\n",
      "37/37 [==============================] - 0s 1ms/step - loss: 0.9777 - sparse_categorical_accuracy: 0.5948 - val_loss: 10.5080 - val_sparse_categorical_accuracy: 0.6370\n",
      "Epoch 8/9\n",
      "37/37 [==============================] - 0s 1ms/step - loss: 0.9674 - sparse_categorical_accuracy: 0.5948 - val_loss: 10.5005 - val_sparse_categorical_accuracy: 0.6370\n",
      "Epoch 9/9\n",
      "37/37 [==============================] - 0s 1ms/step - loss: 0.9575 - sparse_categorical_accuracy: 0.5948 - val_loss: 10.4954 - val_sparse_categorical_accuracy: 0.6370\n",
      "[0.932195782661438, 0.6098901033401489]\n"
     ]
    },
    {
     "data": {
      "image/png": "[encoded data removed]",
      "text/plain": [
       "<Figure size 432x288 with 1 Axes>"
      ]
     },
     "metadata": {
      "needs_background": "light"
     },
     "output_type": "display_data"
    }
   ],
   "source": [
    "hidden = 3\n",
    "\n",
    "model2 = Sequential()\n",
    "model2.add(layers.Dense(hidden, activation='relu', input_shape=(500,)))\n",
    "model2.add(layers.Dense(hidden, activation='relu'))\n",
    "model2.add(layers.Dense(3, activation='softmax'))\n",
    "\n",
    "model2.compile(optimizer='rmsprop',\n",
    "              loss='sparse_categorical_crossentropy',\n",
    "              metrics=[SparseCategoricalAccuracy()])\n",
    "\n",
    "model2.summary()\n",
    "\n",
    "history2 = model2.fit(x_train, y_train_encoded, epochs=9, batch_size=16, validation_split=0.2)\n",
    "\n",
    "\n",
    "# Avaliar o modelo\n",
    "results2 = model2.evaluate(x_test, y_test_encoded, verbose = 0)\n",
    "print(results2)\n",
    "\n",
    "# Plotar a curva de aprendizado\n",
    "loss_values2 = history2.history['loss']\n",
    "val_loss_values2 = history2.history['val_loss']\n",
    "epochs2 = range(1, len(loss_values2) + 1)\n",
    "\n",
    "plt.plot(epochs2, loss_values2, 'bo', label='Training loss')\n",
    "plt.plot(epochs2, val_loss_values2, 'b', label='Validation loss')\n",
    "plt.title('Training and validation loss (4 hidden neurons))')\n",
    "plt.xlabel('Epochs')\n",
    "plt.ylabel('Loss')\n",
    "plt.legend()\n",
    "plt.show()"
   ]
  },
  {
   "cell_type": "markdown",
   "metadata": {},
   "source": [
    "# Hiden=4"
   ]
  },
  {
   "cell_type": "code",
   "execution_count": 12,
   "metadata": {},
   "outputs": [
    {
     "name": "stdout",
     "output_type": "stream",
     "text": [
      "Model: \"sequential_7\"\n",
      "_________________________________________________________________\n",
      " Layer (type)                Output Shape              Param #   \n",
      "=================================================================\n",
      " dense_9 (Dense)             (None, 4)                 2004      \n",
      "                                                                 \n",
      " dense_10 (Dense)            (None, 4)                 20        \n",
      "                                                                 \n",
      " dense_11 (Dense)            (None, 3)                 15        \n",
      "                                                                 \n",
      "=================================================================\n",
      "Total params: 2,039\n",
      "Trainable params: 2,039\n",
      "Non-trainable params: 0\n",
      "_________________________________________________________________\n",
      "Epoch 1/9\n",
      "19/19 [==============================] - 0s 7ms/step - loss: 202.2912 - sparse_categorical_accuracy: 0.4000 - val_loss: 37.4105 - val_sparse_categorical_accuracy: 0.5000\n",
      "Epoch 2/9\n",
      "19/19 [==============================] - 0s 2ms/step - loss: 32.8667 - sparse_categorical_accuracy: 0.5259 - val_loss: 12.5768 - val_sparse_categorical_accuracy: 0.5685\n",
      "Epoch 3/9\n",
      "19/19 [==============================] - 0s 2ms/step - loss: 11.9306 - sparse_categorical_accuracy: 0.5672 - val_loss: 6.6424 - val_sparse_categorical_accuracy: 0.6096\n",
      "Epoch 4/9\n",
      "19/19 [==============================] - 0s 2ms/step - loss: 5.4541 - sparse_categorical_accuracy: 0.5862 - val_loss: 4.0271 - val_sparse_categorical_accuracy: 0.6233\n",
      "Epoch 5/9\n",
      "19/19 [==============================] - 0s 2ms/step - loss: 3.1509 - sparse_categorical_accuracy: 0.5828 - val_loss: 2.7382 - val_sparse_categorical_accuracy: 0.6370\n",
      "Epoch 6/9\n",
      "19/19 [==============================] - 0s 2ms/step - loss: 1.7122 - sparse_categorical_accuracy: 0.5897 - val_loss: 1.9158 - val_sparse_categorical_accuracy: 0.6370\n",
      "Epoch 7/9\n",
      "19/19 [==============================] - 0s 2ms/step - loss: 1.3886 - sparse_categorical_accuracy: 0.5966 - val_loss: 1.3868 - val_sparse_categorical_accuracy: 0.6370\n",
      "Epoch 8/9\n",
      "19/19 [==============================] - 0s 2ms/step - loss: 1.1491 - sparse_categorical_accuracy: 0.5983 - val_loss: 1.0230 - val_sparse_categorical_accuracy: 0.6438\n",
      "Epoch 9/9\n",
      "19/19 [==============================] - 0s 2ms/step - loss: 1.1060 - sparse_categorical_accuracy: 0.5948 - val_loss: 1.0152 - val_sparse_categorical_accuracy: 0.6438\n",
      "[1.4979846477508545, 0.598901093006134]\n"
     ]
    },
    {
     "data": {
      "image/png": "[encoded data removed]",
      "text/plain": [
       "<Figure size 432x288 with 1 Axes>"
      ]
     },
     "metadata": {
      "needs_background": "light"
     },
     "output_type": "display_data"
    }
   ],
   "source": [
    "hidden = 4\n",
    "\n",
    "model4 = Sequential()\n",
    "model4.add(layers.Dense(hidden, activation='relu', input_shape=(500,)))\n",
    "model4.add(layers.Dense(hidden, activation='relu'))\n",
    "model4.add(layers.Dense(3, activation='softmax'))\n",
    "\n",
    "model4.compile(optimizer='rmsprop',\n",
    "              loss='sparse_categorical_crossentropy',\n",
    "              metrics=[SparseCategoricalAccuracy()])\n",
    "\n",
    "model4.summary()\n",
    "\n",
    "history4 = model4.fit(x_train, y_train_encoded, epochs=9, batch_size=32, validation_split=0.2)\n",
    "\n",
    "\n",
    "# Avaliar o modelo\n",
    "results4 = model4.evaluate(x_test, y_test_encoded, verbose = 0)\n",
    "print(results4)\n",
    "\n",
    "\n",
    "# Plotar a curva de aprendizado\n",
    "loss_values4 = history4.history['loss']\n",
    "val_loss_values4 = history4.history['val_loss']\n",
    "epochs4 = range(1, len(loss_values4) + 1)\n",
    "\n",
    "plt.plot(epochs4, loss_values4, 'bo', label='Training loss')\n",
    "plt.plot(epochs4, val_loss_values4, 'b', label='Validation loss')\n",
    "plt.title('Training and validation loss (4 hidden neurons))')\n",
    "plt.xlabel('Epochs')\n",
    "plt.ylabel('Loss')\n",
    "plt.legend()\n",
    "plt.show()"
   ]
  },
  {
   "cell_type": "code",
   "execution_count": null,
   "metadata": {},
   "outputs": [],
   "source": [
    "acc_values = history.history['sparse_categorical_accuracy']\n",
    "val_acc_values = history.history['val_sparse_categorical_accuracy']\n",
    "epochs = range(1, len(acc_values) + 1)\n",
    "\n",
    "plt.plot(epochs, acc_values, 'bo', label='Training Accuracy')\n",
    "plt.plot(epochs, val_acc_values, 'b', label='Validation Accuracy')\n",
    "plt.title('Training and Validation Accuracy')\n",
    "plt.xlabel('Epochs')\n",
    "plt.ylabel('Accuracy')\n",
    "plt.legend()\n",
    "plt.show()\n"
   ]
  },
  {
   "cell_type": "markdown",
   "metadata": {},
   "source": [
    "# Hiden = 10"
   ]
  },
  {
   "cell_type": "code",
   "execution_count": 13,
   "metadata": {},
   "outputs": [
    {
     "name": "stdout",
     "output_type": "stream",
     "text": [
      "Model: \"sequential_8\"\n",
      "_________________________________________________________________\n",
      " Layer (type)                Output Shape              Param #   \n",
      "=================================================================\n",
      " dense_12 (Dense)            (None, 10)                5010      \n",
      "                                                                 \n",
      " dense_13 (Dense)            (None, 10)                110       \n",
      "                                                                 \n",
      " dense_14 (Dense)            (None, 3)                 33        \n",
      "                                                                 \n",
      "=================================================================\n",
      "Total params: 5,153\n",
      "Trainable params: 5,153\n",
      "Non-trainable params: 0\n",
      "_________________________________________________________________\n",
      "Epoch 1/9\n",
      "19/19 [==============================] - 0s 6ms/step - loss: 253.1812 - sparse_categorical_accuracy: 0.3672 - val_loss: 191.4128 - val_sparse_categorical_accuracy: 0.3904\n",
      "Epoch 2/9\n",
      "19/19 [==============================] - 0s 2ms/step - loss: 87.6773 - sparse_categorical_accuracy: 0.4397 - val_loss: 111.5683 - val_sparse_categorical_accuracy: 0.4110\n",
      "Epoch 3/9\n",
      "19/19 [==============================] - 0s 2ms/step - loss: 42.9582 - sparse_categorical_accuracy: 0.5155 - val_loss: 86.6003 - val_sparse_categorical_accuracy: 0.4589\n",
      "Epoch 4/9\n",
      "19/19 [==============================] - 0s 2ms/step - loss: 24.1903 - sparse_categorical_accuracy: 0.5328 - val_loss: 64.6622 - val_sparse_categorical_accuracy: 0.4384\n",
      "Epoch 5/9\n",
      "19/19 [==============================] - 0s 2ms/step - loss: 13.1785 - sparse_categorical_accuracy: 0.5241 - val_loss: 37.9478 - val_sparse_categorical_accuracy: 0.4863\n",
      "Epoch 6/9\n",
      "19/19 [==============================] - 0s 2ms/step - loss: 7.2758 - sparse_categorical_accuracy: 0.5948 - val_loss: 25.3389 - val_sparse_categorical_accuracy: 0.4315\n",
      "Epoch 7/9\n",
      "19/19 [==============================] - 0s 2ms/step - loss: 4.7264 - sparse_categorical_accuracy: 0.5793 - val_loss: 16.3205 - val_sparse_categorical_accuracy: 0.5479\n",
      "Epoch 8/9\n",
      "19/19 [==============================] - 0s 2ms/step - loss: 2.8275 - sparse_categorical_accuracy: 0.6069 - val_loss: 13.0541 - val_sparse_categorical_accuracy: 0.5137\n",
      "Epoch 9/9\n",
      "19/19 [==============================] - 0s 2ms/step - loss: 1.8774 - sparse_categorical_accuracy: 0.6190 - val_loss: 10.4755 - val_sparse_categorical_accuracy: 0.5205\n",
      "[12.696622848510742, 0.5494505763053894]\n"
     ]
    },
    {
     "data": {
      "image/png": "[encoded data removed]",
      "text/plain": [
       "<Figure size 432x288 with 1 Axes>"
      ]
     },
     "metadata": {
      "needs_background": "light"
     },
     "output_type": "display_data"
    }
   ],
   "source": [
    "hidden = 10\n",
    "\n",
    "model10 = Sequential()\n",
    "model10.add(layers.Dense(hidden, activation='relu', input_shape=(500,)))\n",
    "model10.add(layers.Dense(hidden, activation='relu'))\n",
    "model10.add(layers.Dense(3, activation='softmax'))\n",
    "\n",
    "model10.compile(optimizer='rmsprop',\n",
    "              loss='sparse_categorical_crossentropy',\n",
    "              metrics=[SparseCategoricalAccuracy()])\n",
    "\n",
    "model10.summary()\n",
    "\n",
    "history10 = model10.fit(x_train, y_train_encoded, epochs=9, batch_size=32, validation_split=0.2)\n",
    "\n",
    "# Avaliar o modelo\n",
    "results10 = model10.evaluate(x_test, y_test_encoded, verbose = 0)\n",
    "print(results10)\n",
    "\n",
    "\n",
    "# Plotar a curva de aprendizado\n",
    "loss_values10 = history10.history['loss']\n",
    "val_loss_values10 = history10.history['val_loss']\n",
    "epochs10 = range(1, len(loss_values10) + 1)\n",
    "\n",
    "plt.plot(epochs10, loss_values10, 'bo', label='Training loss')\n",
    "plt.plot(epochs10, val_loss_values10, 'b', label='Validation loss')\n",
    "plt.title('Training and validation loss (10 hidden neurons))')\n",
    "plt.xlabel('Epochs')\n",
    "plt.ylabel('Loss')\n",
    "plt.legend()\n",
    "plt.show()"
   ]
  },
  {
   "cell_type": "markdown",
   "metadata": {},
   "source": [
    "# L2 regularization"
   ]
  },
  {
   "cell_type": "code",
   "execution_count": 65,
   "metadata": {},
   "outputs": [
    {
     "name": "stdout",
     "output_type": "stream",
     "text": [
      "Model: \"sequential_51\"\n",
      "_________________________________________________________________\n",
      " Layer (type)                Output Shape              Param #   \n",
      "=================================================================\n",
      " dense_132 (Dense)           (None, 3)                 1503      \n",
      "                                                                 \n",
      " dense_133 (Dense)           (None, 3)                 12        \n",
      "                                                                 \n",
      " dense_134 (Dense)           (None, 3)                 12        \n",
      "                                                                 \n",
      "=================================================================\n",
      "Total params: 1,527\n",
      "Trainable params: 1,527\n",
      "Non-trainable params: 0\n",
      "_________________________________________________________________\n",
      "Epoch 1/9\n",
      "19/19 [==============================] - 1s 26ms/step - loss: 29.5364 - sparse_categorical_accuracy: 0.5603 - val_loss: 28.6482 - val_sparse_categorical_accuracy: 0.5753\n",
      "Epoch 2/9\n",
      "19/19 [==============================] - 0s 3ms/step - loss: 4.0355 - sparse_categorical_accuracy: 0.5879 - val_loss: 18.6953 - val_sparse_categorical_accuracy: 0.5959\n",
      "Epoch 3/9\n",
      "19/19 [==============================] - 0s 3ms/step - loss: 1.4374 - sparse_categorical_accuracy: 0.5879 - val_loss: 14.2225 - val_sparse_categorical_accuracy: 0.6164\n",
      "Epoch 4/9\n",
      "19/19 [==============================] - 0s 3ms/step - loss: 1.0752 - sparse_categorical_accuracy: 0.5897 - val_loss: 12.6639 - val_sparse_categorical_accuracy: 0.6164\n",
      "Epoch 5/9\n",
      "19/19 [==============================] - 0s 2ms/step - loss: 1.0650 - sparse_categorical_accuracy: 0.5914 - val_loss: 12.6548 - val_sparse_categorical_accuracy: 0.6164\n",
      "Epoch 6/9\n",
      "19/19 [==============================] - 0s 2ms/step - loss: 1.0568 - sparse_categorical_accuracy: 0.5914 - val_loss: 12.6453 - val_sparse_categorical_accuracy: 0.6164\n",
      "Epoch 7/9\n",
      "19/19 [==============================] - 0s 3ms/step - loss: 1.0487 - sparse_categorical_accuracy: 0.5914 - val_loss: 12.6370 - val_sparse_categorical_accuracy: 0.6164\n",
      "Epoch 8/9\n",
      "19/19 [==============================] - 0s 2ms/step - loss: 1.0409 - sparse_categorical_accuracy: 0.5914 - val_loss: 12.6309 - val_sparse_categorical_accuracy: 0.6164\n",
      "Epoch 9/9\n",
      "19/19 [==============================] - 0s 2ms/step - loss: 1.0334 - sparse_categorical_accuracy: 0.5914 - val_loss: 12.6324 - val_sparse_categorical_accuracy: 0.6164\n",
      "[1.0122334957122803, 0.6098901033401489]\n"
     ]
    },
    {
     "data": {
      "image/png": "[encoded data removed]",
      "text/plain": [
       "<Figure size 432x288 with 1 Axes>"
      ]
     },
     "metadata": {
      "needs_background": "light"
     },
     "output_type": "display_data"
    }
   ],
   "source": [
    "from tensorflow.keras import regularizers\n",
    "\n",
    "hidden = 3\n",
    "\n",
    "mode_l2 = Sequential()\n",
    "mode_l2.add(layers.Dense(hidden, activation='relu', kernel_regularizer=regularizers.l2(0.001), input_shape=(500,)))\n",
    "mode_l2.add(layers.Dense(hidden, activation='relu', kernel_regularizer=regularizers.l2(0.001)))\n",
    "mode_l2.add(layers.Dense(3, activation='softmax'))\n",
    "\n",
    "\n",
    "mode_l2.compile(optimizer='rmsprop', loss='sparse_categorical_crossentropy', metrics=[SparseCategoricalAccuracy()])  # Métrica alterada\n",
    "\n",
    "mode_l2.summary()\n",
    "\n",
    "history_l2 = mode_l2.fit(x_train, y_train_encoded, epochs=9, batch_size=32, validation_split=0.2)\n",
    "\n",
    "# Avaliar o modelo\n",
    "results_l2 = mode_l2.evaluate(x_test, y_test_encoded, verbose = 0)\n",
    "print(results_l2)\n",
    "\n",
    "# Plotar a curva de aprendizado\n",
    "loss_values_l2 = history_l2.history['loss']\n",
    "val_loss_values_l2 = history_l2.history['val_loss']\n",
    "epochs_l2 = range(1, len(loss_values_l2) + 1)\n",
    "\n",
    "plt.plot(epochs_l2, loss_values_l2, 'bo', label='Training loss')\n",
    "plt.plot(epochs_l2, val_loss_values_l2, 'b', label='Validation loss')\n",
    "plt.title('Training and validation loss - L2 regularization')\n",
    "plt.xlabel('Epochs')\n",
    "plt.ylabel('Loss')\n",
    "plt.legend()\n",
    "plt.show()\n"
   ]
  },
  {
   "cell_type": "code",
   "execution_count": 71,
   "metadata": {},
   "outputs": [
    {
     "name": "stdout",
     "output_type": "stream",
     "text": [
      "Model: \"sequential_57\"\n",
      "_________________________________________________________________\n",
      " Layer (type)                Output Shape              Param #   \n",
      "=================================================================\n",
      " dense_150 (Dense)           (None, 3)                 1503      \n",
      "                                                                 \n",
      " dropout_12 (Dropout)        (None, 3)                 0         \n",
      "                                                                 \n",
      " dense_151 (Dense)           (None, 3)                 12        \n",
      "                                                                 \n",
      " dropout_13 (Dropout)        (None, 3)                 0         \n",
      "                                                                 \n",
      " dense_152 (Dense)           (None, 3)                 12        \n",
      "                                                                 \n",
      "=================================================================\n",
      "Total params: 1,527\n",
      "Trainable params: 1,527\n",
      "Non-trainable params: 0\n",
      "_________________________________________________________________\n",
      "Epoch 1/9\n",
      "19/19 [==============================] - 0s 6ms/step - loss: 84.0540 - sparse_categorical_accuracy: 0.5517 - val_loss: 16.3442 - val_sparse_categorical_accuracy: 0.6301\n",
      "Epoch 2/9\n",
      "19/19 [==============================] - 0s 2ms/step - loss: 31.6973 - sparse_categorical_accuracy: 0.5741 - val_loss: 3.5439 - val_sparse_categorical_accuracy: 0.6301\n",
      "Epoch 3/9\n",
      "19/19 [==============================] - 0s 2ms/step - loss: 19.8359 - sparse_categorical_accuracy: 0.5828 - val_loss: 2.1349 - val_sparse_categorical_accuracy: 0.6301\n",
      "Epoch 4/9\n",
      "19/19 [==============================] - 0s 2ms/step - loss: 7.6309 - sparse_categorical_accuracy: 0.5897 - val_loss: 1.3552 - val_sparse_categorical_accuracy: 0.6301\n",
      "Epoch 5/9\n",
      "19/19 [==============================] - 0s 2ms/step - loss: 4.9234 - sparse_categorical_accuracy: 0.5914 - val_loss: 1.2589 - val_sparse_categorical_accuracy: 0.6301\n",
      "Epoch 6/9\n",
      "19/19 [==============================] - 0s 2ms/step - loss: 1.4698 - sparse_categorical_accuracy: 0.5914 - val_loss: 1.0980 - val_sparse_categorical_accuracy: 0.6370\n",
      "Epoch 7/9\n",
      "19/19 [==============================] - 0s 2ms/step - loss: 1.4617 - sparse_categorical_accuracy: 0.5897 - val_loss: 1.0394 - val_sparse_categorical_accuracy: 0.6370\n",
      "Epoch 8/9\n",
      "19/19 [==============================] - 0s 2ms/step - loss: 3.5036 - sparse_categorical_accuracy: 0.5914 - val_loss: 1.0212 - val_sparse_categorical_accuracy: 0.6438\n",
      "Epoch 9/9\n",
      "19/19 [==============================] - 0s 2ms/step - loss: 3.1790 - sparse_categorical_accuracy: 0.5879 - val_loss: 1.0134 - val_sparse_categorical_accuracy: 0.6438\n",
      "[1.1603736877441406, 0.593406617641449]\n"
     ]
    },
    {
     "data": {
      "image/png": "[encoded data removed]",
      "text/plain": [
       "<Figure size 432x288 with 1 Axes>"
      ]
     },
     "metadata": {
      "needs_background": "light"
     },
     "output_type": "display_data"
    }
   ],
   "source": [
    "from tensorflow.keras import regularizers\n",
    "\n",
    "hidden = 3\n",
    "\n",
    "mode_dr = Sequential()\n",
    "mode_dr.add(layers.Dense(hidden, activation='relu', input_shape=(500,)))\n",
    "mode_dr.add(layers.Dropout(0.5))\n",
    "mode_dr.add(layers.Dense(hidden, activation='relu'))\n",
    "mode_dr.add(layers.Dropout(0.5))\n",
    "mode_dr.add(layers.Dense(3, activation='softmax'))\n",
    "\n",
    "\n",
    "mode_dr.compile(optimizer='rmsprop', loss='sparse_categorical_crossentropy', metrics=[SparseCategoricalAccuracy()])  # Métrica alterada\n",
    "\n",
    "mode_dr.summary()\n",
    "\n",
    "history_dr = mode_dr.fit(x_train, y_train_encoded, epochs=9, batch_size=32, validation_split=0.2)\n",
    "\n",
    "# Avaliar o modelo\n",
    "results_dr = mode_dr.evaluate(x_test, y_test_encoded, verbose = 0)\n",
    "print(results_dr)\n",
    "\n",
    "# Plotar a curva de aprendizado\n",
    "loss_values_dr = history_dr.history['loss']\n",
    "val_loss_values_dr = history_dr.history['val_loss']\n",
    "epochs_dr = range(1, len(loss_values_dr) + 1)\n",
    "\n",
    "plt.plot(epochs_dr, loss_values_dr, 'bo', label='Training loss')\n",
    "plt.plot(epochs_dr, val_loss_values_dr, 'b', label='Validation loss')\n",
    "plt.title('Training and validation loss - dropout')\n",
    "plt.xlabel('Epochs')\n",
    "plt.ylabel('Loss')\n",
    "plt.legend()\n",
    "plt.show()"
   ]
  },
  {
   "cell_type": "code",
   "execution_count": null,
   "metadata": {},
   "outputs": [],
   "source": []
  }
 ],
 "metadata": {
  "kernelspec": {
   "display_name": "Python 3",
   "language": "python",
   "name": "python3"
  },
  "language_info": {
   "codemirror_mode": {
    "name": "ipython",
    "version": 3
   },
   "file_extension": ".py",
   "mimetype": "text/x-python",
   "name": "python",
   "nbconvert_exporter": "python",
   "pygments_lexer": "ipython3",
   "version": "3.9.0"
  }
 },
 "nbformat": 4,
 "nbformat_minor": 4
}
