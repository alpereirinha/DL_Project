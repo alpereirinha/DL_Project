{
 "cells": [
  {
   "cell_type": "code",
   "execution_count": 1,
   "metadata": {},
   "outputs": [],
   "source": [
    "import time\n",
    "import openai\n",
    "import pandas as pd\n",
    "import glob\n",
    "from tqdm import tqdm\n",
    "import os\n",
    "import dotenv\n",
    "import requests\n",
    "import json\n",
    "import csv"
   ]
  },
  {
   "cell_type": "code",
   "execution_count": 2,
   "metadata": {},
   "outputs": [],
   "source": [
    "#df = pd.read_csv('./dataset/test.csv')\n",
    "\n",
    "#random_sample = df.sample(n=100, random_state=42)\n",
    "\n",
    "#random_sample.to_csv('./dataset/gpt_test.csv', index=False)\n",
    "\n",
    "random_sample = pd.read_csv('./dataset/gpt_test.csv')\n",
    "\n",
    "text_list = random_sample['lyrics'].tolist()\n",
    "\n",
    "lyrics = text_list"
   ]
  },
  {
   "cell_type": "code",
   "execution_count": 10,
   "metadata": {},
   "outputs": [],
   "source": [
    "def dividir_por_tokens(lista):\n",
    "    grupos = []\n",
    "    grupo_atual = []\n",
    "    contador_tokens = 0\n",
    "\n",
    "    for string in lista:\n",
    "        tokens = len(string)\n",
    "\n",
    "        if contador_tokens + tokens <= 900:\n",
    "            grupo_atual.append(string)\n",
    "            contador_tokens += tokens\n",
    "        else:\n",
    "            grupos.append(grupo_atual)\n",
    "            grupo_atual = [string]\n",
    "            contador_tokens = tokens\n",
    "\n",
    "    if grupo_atual: \n",
    "        grupos.append(grupo_atual)\n",
    "    \n",
    "    return grupos"
   ]
  },
  {
   "cell_type": "code",
   "execution_count": null,
   "metadata": {},
   "outputs": [],
   "source": [
    "#Zero-shot comand:\n",
    "#Analyze the following lyrics and determine if their sentiment is either 'positive', 'negative' or 'neutral'. Format your answer as a CSV file with a column for the sentiment category and another for the lyrics. Lyrics to analyze: {texto}\"\n",
    "\n",
    "#One-shot command:\n",
    "#\"The following lyrics is POSITIVE: 'goodness sake got hippy hippy shake got shake got hippy hippy shake ooh cant sit still hippy hippy shake get fill hippy hippy shake yeah bag ooh hippy hippy shake well shake left shake right hippy shake shake might ooh baby ooh yeah come shake ooh bag ohthe hippy hippy shake well shake left shake right hippy shake shake might oh baby yeah come shake oh bag ooh hippy hippy shake ooh hippy hippy shake ooh hippy hippy shake'. \\\n",
    "#The following lyrics is NEGATIVE: 'long year since youve gone ive alone ive grown old fall piece im falling fell piece im still falling every time im falling alone fall piece keep journal memory im feeling lonely cant breathe fall piece im falling fell piece im still falling every time im falling alone fall piece every time im falling alone fall piece every time im falling alone fall piece year ive tried go memory die im waiting find find falling im falling every time im falling alone fall piece every time im falling alone fall piece every time im falling alone fall piece every time im falling alone fall piece'. \\\n",
    "# The following lyrics is NEUTRAL: 'say demon say demon rock im rock gibraltar say demon say think know im getting kind low think know im getting kind low made sun shine take air breathe let back tell make think know im getting kind low think know im getting kind low wanted dont say'. \\\n",
    "#Analyze the following lyrics and determine if their sentiment is either POSITIVE, NEGATIVE or NEUTRAL: '{texto}'\"\n",
    "\n",
    "#Few-shot command:\n",
    "#The following lyrics is POSITIVE: 'goodness sake got hippy hippy shake got shake got hippy hippy shake ooh cant sit still hippy hippy shake get fill hippy hippy shake yeah bag ooh hippy hippy shake well shake left shake right hippy shake shake might ooh baby ooh yeah come shake ooh bag ohthe hippy hippy shake well shake left shake right hippy shake shake might oh baby yeah come shake oh bag ooh hippy hippy shake ooh hippy hippy shake ooh hippy hippy shake'. \\\n",
    "#The following lyrics is NEGATIVE: 'long year since youve gone ive alone ive grown old fall piece im falling fell piece im still falling every time im falling alone fall piece keep journal memory im feeling lonely cant breathe fall piece im falling fell piece im still falling every time im falling alone fall piece every time im falling alone fall piece every time im falling alone fall piece year ive tried go memory die im waiting find find falling im falling every time im falling alone fall piece every time im falling alone fall piece every time im falling alone fall piece every time im falling alone fall piece'. \\\n",
    "#The following lyrics is NEUTRAL: 'say demon say demon rock im rock gibraltar say demon say think know im getting kind low think know im getting kind low made sun shine take air breathe let back tell make think know im getting kind low think know im getting kind low wanted dont say'. \\\n",
    "#The following lyrics is NEGATIVE: 'voice aeon angelus satani os pro nobis lucifer alone suffered fall torment shame ill smite heaven golden pride never pity thee immaculate divine satan elohim none dare stand way thou bow none eden feculence conjure serpent messenger savior world decay concord temptation fall eve thine kingdom power thine kingdom glory forever scholar unlight great volcano excrement rippling eager erupt reconstellate firmament behold great accuser megalinga throbbing zeal raptor yearning pierce rape seventh seal destroyer cosmos implore ungod implode sun there none wronging serpent cult untouched ignored serpent might trumpet blow shadow horn thine kingdom power thine kingdom glory forever lightning stab heaven thou quiver mount sinai spit rock tablet cofenant listen tempest rasp azazel apolyon black sun never set never rose habemus satanas caesar wrath empire fall petition lord fire santa sede burn phallus dei erect pole pole viva blasfemia coitus infinitus hear universe scream bleeding black hole horn careless god mourns'. \\\n",
    "#The following lyrics is POSITIVE: 'slowly turn page see smiling face hard believe today ten year ago invitation wedding celebration look promise picture show know loved book would right side fool overlooked promise love forever worse better wed still together idve loved book opened book often wouldnt forgotten much cared much meant solemn vow honor hold read know late say im sorry loved book would right side fool overlooked promise love forever worse better wed still together idve loved book loved book'. \\\n",
    "#The following lyrics is NEUTRAL: 'staring window tree cant see horizon see shes moment im knee ophelia standing doorway heart cannot together apart shes caught line denies every time ophelia let take want go pillar soul one know conversation halt sputter like flame falter reappears im caught word say name ophelia led forest lark content leave stumbling dark ive known time one false move mine ophelia let take want go pillar soul one know ophelia mustnt try tell feel cause everything dream real cant let go ophelia one else tell feel cause everything dream real dont ever let go' \\\n",
    "#Analyze the following lyrics and determine if their sentiment is either POSITIVE, NEGATIVE or NEUTRAL: '{texto}'\""
   ]
  },
  {
   "cell_type": "code",
   "execution_count": 41,
   "metadata": {},
   "outputs": [],
   "source": [
    "dotenv.load_dotenv()\n",
    "\n",
    "def analise_sentimento(texto: str, i: int) -> str:\n",
    "    CHAVE_API = \"\"\n",
    "    modelo_engine = \"text-davinci-003\"\n",
    "    \n",
    "    \n",
    "    \n",
    "    comando = f\"The following lyrics is POSITIVE: 'goodness sake got hippy hippy shake got shake got hippy hippy shake ooh cant sit still hippy hippy shake get fill hippy hippy shake yeah bag ooh hippy hippy shake well shake left shake right hippy shake shake might ooh baby ooh yeah come shake ooh bag ohthe hippy hippy shake well shake left shake right hippy shake shake might oh baby yeah come shake oh bag ooh hippy hippy shake ooh hippy hippy shake ooh hippy hippy shake'. \\\n",
    "               The following lyrics is NEGATIVE: 'long year since youve gone ive alone ive grown old fall piece im falling fell piece im still falling every time im falling alone fall piece keep journal memory im feeling lonely cant breathe fall piece im falling fell piece im still falling every time im falling alone fall piece every time im falling alone fall piece every time im falling alone fall piece year ive tried go memory die im waiting find find falling im falling every time im falling alone fall piece every time im falling alone fall piece every time im falling alone fall piece every time im falling alone fall piece'. \\\n",
    "               The following lyrics is NEUTRAL: 'say demon say demon rock im rock gibraltar say demon say think know im getting kind low think know im getting kind low made sun shine take air breathe let back tell make think know im getting kind low think know im getting kind low wanted dont say'. \\\n",
    "               The following lyrics is NEGATIVE: 'voice aeon angelus satani os pro nobis lucifer alone suffered fall torment shame ill smite heaven golden pride never pity thee immaculate divine satan elohim none dare stand way thou bow none eden feculence conjure serpent messenger savior world decay concord temptation fall eve thine kingdom power thine kingdom glory forever scholar unlight great volcano excrement rippling eager erupt reconstellate firmament behold great accuser megalinga throbbing zeal raptor yearning pierce rape seventh seal destroyer cosmos implore ungod implode sun there none wronging serpent cult untouched ignored serpent might trumpet blow shadow horn thine kingdom power thine kingdom glory forever lightning stab heaven thou quiver mount sinai spit rock tablet cofenant listen tempest rasp azazel apolyon black sun never set never rose habemus satanas caesar wrath empire fall petition lord fire santa sede burn phallus dei erect pole pole viva blasfemia coitus infinitus hear universe scream bleeding black hole horn careless god mourns'. \\\n",
    "               The following lyrics is POSITIVE: 'slowly turn page see smiling face hard believe today ten year ago invitation wedding celebration look promise picture show know loved book would right side fool overlooked promise love forever worse better wed still together idve loved book opened book often wouldnt forgotten much cared much meant solemn vow honor hold read know late say im sorry loved book would right side fool overlooked promise love forever worse better wed still together idve loved book loved book'. \\\n",
    "               The following lyrics is NEUTRAL: 'staring window tree cant see horizon see shes moment im knee ophelia standing doorway heart cannot together apart shes caught line denies every time ophelia let take want go pillar soul one know conversation halt sputter like flame falter reappears im caught word say name ophelia led forest lark content leave stumbling dark ive known time one false move mine ophelia let take want go pillar soul one know ophelia mustnt try tell feel cause everything dream real cant let go ophelia one else tell feel cause everything dream real dont ever let go' \\\n",
    "               Analyze the following lyrics and determine if their sentiment is either POSITIVE, NEGATIVE or NEUTRAL: '{texto}'\"\n",
    "    \n",
    "    cabecalho = {\n",
    "        \"Content-Type\": \"application/json\",\n",
    "        \"Authorization\": f\"Bearer {CHAVE_API}\"\n",
    "    }\n",
    "\n",
    "    dados = {\n",
    "        \"prompt\": comando,\n",
    "        \"temperature\": 0,\n",
    "        \"max_tokens\": 2047,\n",
    "        \"n\": 1,\n",
    "        \"stop\": None,\n",
    "    }\n",
    "\n",
    "    resposta = requests.post(\n",
    "        f\"https://api.openai.com/v1/engines/{modelo_engine}/completions\",\n",
    "        headers=cabecalho,\n",
    "        json=dados\n",
    "    )\n",
    "\n",
    "    resposta_json = resposta.json()\n",
    "    resultado = resposta_json['choices'][0]['text'].strip()\n",
    "\n",
    "    data = {\n",
    "        'resultado': resultado,\n",
    "    }\n",
    "\n",
    "    return data"
   ]
  },
  {
   "cell_type": "code",
   "execution_count": null,
   "metadata": {},
   "outputs": [],
   "source": [
    "grupos = dividir_por_tokens(lyrics)\n",
    "few_shot = []\n",
    "\n",
    "for i, grupo in enumerate(grupos):\n",
    "    resultado = analise_sentimento(grupo, i)\n",
    "    few_shot.append(resultado)"
   ]
  },
  {
   "cell_type": "code",
   "execution_count": 48,
   "metadata": {},
   "outputs": [
    {
     "name": "stdout",
     "output_type": "stream",
     "text": [
      "Dados salvos com sucesso no arquivo JSON.\n"
     ]
    }
   ],
   "source": [
    "# Nome do arquivo JSON para salvar os resultados\n",
    "nome_arquivo_json = \"few-shot.json\"\n",
    "\n",
    "# Salvar os resultados no arquivo JSON\n",
    "with open(nome_arquivo_json, 'w') as arquivo_json:\n",
    "    json.dump(few_shot, arquivo_json)\n",
    "\n",
    "print(\"Dados salvos com sucesso no arquivo JSON.\")\n",
    "\n"
   ]
  }
 ],
 "metadata": {
  "kernelspec": {
   "display_name": "daa",
   "language": "python",
   "name": "python3"
  },
  "language_info": {
   "codemirror_mode": {
    "name": "ipython",
    "version": 3
   },
   "file_extension": ".py",
   "mimetype": "text/x-python",
   "name": "python",
   "nbconvert_exporter": "python",
   "pygments_lexer": "ipython3",
   "version": "3.9.0"
  },
  "orig_nbformat": 4
 },
 "nbformat": 4,
 "nbformat_minor": 2
}
