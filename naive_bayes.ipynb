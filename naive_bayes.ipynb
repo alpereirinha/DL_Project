{
 "cells": [
  {
   "cell_type": "code",
   "execution_count": 9,
   "metadata": {},
   "outputs": [],
   "source": [
    "import pandas as pd\n",
    "import numpy as np\n",
    "\n",
    "from sklearn.feature_extraction.text import CountVectorizer, TfidfVectorizer\n",
    "from sklearn.naive_bayes import MultinomialNB\n",
    "from sklearn import metrics"
   ]
  },
  {
   "cell_type": "code",
   "execution_count": 3,
   "metadata": {},
   "outputs": [],
   "source": [
    "df_train = pd.read_csv('./dataset/train.csv')\n",
    "df_test = pd.read_csv('./dataset/test.csv')"
   ]
  },
  {
   "cell_type": "code",
   "execution_count": 5,
   "metadata": {},
   "outputs": [
    {
     "name": "stdout",
     "output_type": "stream",
     "text": [
      "Accuracy: 45.95360824742268 %\n"
     ]
    }
   ],
   "source": [
    "# Preparação dos dados\n",
    "X_train = df_train['lyrics'].fillna('')\n",
    "y_train = df_train['sentiment']\n",
    "X_test = df_test['lyrics'].fillna('')\n",
    "y_test = df_test['sentiment']\n",
    "\n",
    "# Vetorização dos textos das letras\n",
    "vectorizer = CountVectorizer()\n",
    "X_train_vectorized = vectorizer.fit_transform(X_train)\n",
    "X_test_vectorized = vectorizer.transform(X_test)\n",
    "\n",
    "# Treinamento do modelo Naive Bayes\n",
    "nb_classifier = MultinomialNB(alpha=0.2)\n",
    "nb_classifier.fit(X_train_vectorized, y_train)\n",
    "\n",
    "# Previsões e avaliação do modelo\n",
    "y_pred = nb_classifier.predict(X_test_vectorized)\n",
    "accuracy = metrics.accuracy_score(y_test, y_pred)\n",
    "\n",
    "print(\"Accuracy:\", accuracy * 100, \"%\")\n"
   ]
  },
  {
   "cell_type": "code",
   "execution_count": 6,
   "metadata": {},
   "outputs": [
    {
     "name": "stdout",
     "output_type": "stream",
     "text": [
      "Accuracy: 46.02448453608247 %\n"
     ]
    }
   ],
   "source": [
    "# Preparação dos dados\n",
    "X_train = df_train['lyrics'].fillna('')\n",
    "y_train = df_train['sentiment']\n",
    "X_test = df_test['lyrics'].fillna('')\n",
    "y_test = df_test['sentiment']\n",
    "\n",
    "# Vetorização dos textos das letras\n",
    "vectorizer = TfidfVectorizer()\n",
    "X_train_vectorized = vectorizer.fit_transform(X_train)\n",
    "X_test_vectorized = vectorizer.transform(X_test)\n",
    "\n",
    "# Treinamento do modelo Naive Bayes\n",
    "nb_classifier = MultinomialNB(alpha=0.2)\n",
    "nb_classifier.fit(X_train_vectorized, y_train)\n",
    "\n",
    "# Previsões e avaliação do modelo\n",
    "y_pred = nb_classifier.predict(X_test_vectorized)\n",
    "accuracy = metrics.accuracy_score(y_test, y_pred)\n",
    "\n",
    "print(\"Accuracy:\", accuracy * 100, \"%\")"
   ]
  }
 ],
 "metadata": {
  "kernelspec": {
   "display_name": "daa",
   "language": "python",
   "name": "python3"
  },
  "language_info": {
   "codemirror_mode": {
    "name": "ipython",
    "version": 3
   },
   "file_extension": ".py",
   "mimetype": "text/x-python",
   "name": "python",
   "nbconvert_exporter": "python",
   "pygments_lexer": "ipython3",
   "version": "3.9.0"
  },
  "orig_nbformat": 4
 },
 "nbformat": 4,
 "nbformat_minor": 2
}
