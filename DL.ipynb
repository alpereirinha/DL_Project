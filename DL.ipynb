{
 "cells": [
  {
   "attachments": {},
   "cell_type": "markdown",
   "metadata": {},
   "source": [
    "# Imports"
   ]
  },
  {
   "cell_type": "code",
   "execution_count": 20,
   "metadata": {},
   "outputs": [],
   "source": [
    "import pandas as pd\n",
    "import time\n",
    "import numpy as np\n",
    "import string\n",
    "import torch\n",
    "\n",
    "import random\n",
    "# For deterministic results. \n",
    "SEED = 0\n",
    "\n",
    "random.seed(SEED)\n",
    "np.random.seed(SEED)\n",
    "torch.manual_seed(SEED)\n",
    "torch.backends.cudnn.deterministic = True\n",
    "\n",
    "# For visualizations\n",
    "from wordcloud import WordCloud\n",
    "import matplotlib.pyplot as plt\n",
    "\n",
    "from nltk.corpus import stopwords\n",
    "from nltk.stem import WordNetLemmatizer \n",
    "import string\n",
    "\n",
    "from sklearn.model_selection import train_test_split"
   ]
  },
  {
   "attachments": {},
   "cell_type": "markdown",
   "metadata": {},
   "source": [
    "# Load/Data Exploration"
   ]
  },
  {
   "cell_type": "code",
   "execution_count": 21,
   "metadata": {},
   "outputs": [
    {
     "name": "stdout",
     "output_type": "stream",
     "text": [
      "Time to load the data:  1.42478609085083\n"
     ]
    }
   ],
   "source": [
    "#Read the data\n",
    "start = time.time()\n",
    "df = pd.read_csv(\"./dataset/lyrics.csv\")\n",
    "end = time.time()\n",
    "\n",
    "#Print the time it took to load the data\n",
    "print(\"Time to load the data: \", end - start)"
   ]
  },
  {
   "cell_type": "code",
   "execution_count": 22,
   "metadata": {},
   "outputs": [
    {
     "data": {
      "text/html": [
       "<div>\n",
       "<style scoped>\n",
       "    .dataframe tbody tr th:only-of-type {\n",
       "        vertical-align: middle;\n",
       "    }\n",
       "\n",
       "    .dataframe tbody tr th {\n",
       "        vertical-align: top;\n",
       "    }\n",
       "\n",
       "    .dataframe thead th {\n",
       "        text-align: right;\n",
       "    }\n",
       "</style>\n",
       "<table border=\"1\" class=\"dataframe\">\n",
       "  <thead>\n",
       "    <tr style=\"text-align: right;\">\n",
       "      <th></th>\n",
       "      <th>Unnamed: 0</th>\n",
       "      <th>artist</th>\n",
       "      <th>seq</th>\n",
       "      <th>song</th>\n",
       "      <th>label</th>\n",
       "    </tr>\n",
       "  </thead>\n",
       "  <tbody>\n",
       "    <tr>\n",
       "      <th>0</th>\n",
       "      <td>0</td>\n",
       "      <td>Elijah Blake</td>\n",
       "      <td>No, no\\r\\nI ain't ever trapped out the bando\\r...</td>\n",
       "      <td>Everyday</td>\n",
       "      <td>0.626</td>\n",
       "    </tr>\n",
       "    <tr>\n",
       "      <th>1</th>\n",
       "      <td>1</td>\n",
       "      <td>Elijah Blake</td>\n",
       "      <td>The drinks go down and smoke goes up, I feel m...</td>\n",
       "      <td>Live Till We Die</td>\n",
       "      <td>0.630</td>\n",
       "    </tr>\n",
       "    <tr>\n",
       "      <th>2</th>\n",
       "      <td>2</td>\n",
       "      <td>Elijah Blake</td>\n",
       "      <td>She don't live on planet Earth no more\\r\\nShe ...</td>\n",
       "      <td>The Otherside</td>\n",
       "      <td>0.240</td>\n",
       "    </tr>\n",
       "    <tr>\n",
       "      <th>3</th>\n",
       "      <td>3</td>\n",
       "      <td>Elijah Blake</td>\n",
       "      <td>Trippin' off that Grigio, mobbin', lights low\\...</td>\n",
       "      <td>Pinot</td>\n",
       "      <td>0.536</td>\n",
       "    </tr>\n",
       "    <tr>\n",
       "      <th>4</th>\n",
       "      <td>4</td>\n",
       "      <td>Elijah Blake</td>\n",
       "      <td>I see a midnight panther, so gallant and so br...</td>\n",
       "      <td>Shadows &amp; Diamonds</td>\n",
       "      <td>0.371</td>\n",
       "    </tr>\n",
       "  </tbody>\n",
       "</table>\n",
       "</div>"
      ],
      "text/plain": [
       "   Unnamed: 0        artist  \\\n",
       "0           0  Elijah Blake   \n",
       "1           1  Elijah Blake   \n",
       "2           2  Elijah Blake   \n",
       "3           3  Elijah Blake   \n",
       "4           4  Elijah Blake   \n",
       "\n",
       "                                                 seq                song  \\\n",
       "0  No, no\\r\\nI ain't ever trapped out the bando\\r...            Everyday   \n",
       "1  The drinks go down and smoke goes up, I feel m...    Live Till We Die   \n",
       "2  She don't live on planet Earth no more\\r\\nShe ...       The Otherside   \n",
       "3  Trippin' off that Grigio, mobbin', lights low\\...               Pinot   \n",
       "4  I see a midnight panther, so gallant and so br...  Shadows & Diamonds   \n",
       "\n",
       "   label  \n",
       "0  0.626  \n",
       "1  0.630  \n",
       "2  0.240  \n",
       "3  0.536  \n",
       "4  0.371  "
      ]
     },
     "execution_count": 22,
     "metadata": {},
     "output_type": "execute_result"
    }
   ],
   "source": [
    "#Show the first 5 rows\n",
    "df.head()"
   ]
  },
  {
   "cell_type": "code",
   "execution_count": 23,
   "metadata": {},
   "outputs": [
    {
     "data": {
      "text/html": [
       "<div>\n",
       "<style scoped>\n",
       "    .dataframe tbody tr th:only-of-type {\n",
       "        vertical-align: middle;\n",
       "    }\n",
       "\n",
       "    .dataframe tbody tr th {\n",
       "        vertical-align: top;\n",
       "    }\n",
       "\n",
       "    .dataframe thead th {\n",
       "        text-align: right;\n",
       "    }\n",
       "</style>\n",
       "<table border=\"1\" class=\"dataframe\">\n",
       "  <thead>\n",
       "    <tr style=\"text-align: right;\">\n",
       "      <th></th>\n",
       "      <th>Unnamed: 0</th>\n",
       "      <th>artist</th>\n",
       "      <th>seq</th>\n",
       "      <th>song</th>\n",
       "      <th>label</th>\n",
       "    </tr>\n",
       "  </thead>\n",
       "  <tbody>\n",
       "    <tr>\n",
       "      <th>158348</th>\n",
       "      <td>158348</td>\n",
       "      <td>Adam Green</td>\n",
       "      <td>And we live on borrowed time,\\r\\nBut this head...</td>\n",
       "      <td>Friends of Mine</td>\n",
       "      <td>0.737</td>\n",
       "    </tr>\n",
       "    <tr>\n",
       "      <th>158349</th>\n",
       "      <td>158349</td>\n",
       "      <td>Adam Green</td>\n",
       "      <td>Frozin in time forever\\r\\nCarrying that torch ...</td>\n",
       "      <td>Frozen in Time</td>\n",
       "      <td>0.482</td>\n",
       "    </tr>\n",
       "    <tr>\n",
       "      <th>158350</th>\n",
       "      <td>158350</td>\n",
       "      <td>Adam Green</td>\n",
       "      <td>Hard to be a girl. \\r\\nSo nice to be a boy. \\r...</td>\n",
       "      <td>Hard to Be a Girl</td>\n",
       "      <td>0.733</td>\n",
       "    </tr>\n",
       "    <tr>\n",
       "      <th>158351</th>\n",
       "      <td>158351</td>\n",
       "      <td>Adam Green</td>\n",
       "      <td>I want to chose to die,\\r\\nAnd be buried with ...</td>\n",
       "      <td>I Wanna Die</td>\n",
       "      <td>0.361</td>\n",
       "    </tr>\n",
       "    <tr>\n",
       "      <th>158352</th>\n",
       "      <td>158352</td>\n",
       "      <td>Adam Green</td>\n",
       "      <td>Musical ladders\\r\\nLeaning on mountains\\r\\nBat...</td>\n",
       "      <td>Musical Ladders</td>\n",
       "      <td>0.263</td>\n",
       "    </tr>\n",
       "  </tbody>\n",
       "</table>\n",
       "</div>"
      ],
      "text/plain": [
       "        Unnamed: 0      artist  \\\n",
       "158348      158348  Adam Green   \n",
       "158349      158349  Adam Green   \n",
       "158350      158350  Adam Green   \n",
       "158351      158351  Adam Green   \n",
       "158352      158352  Adam Green   \n",
       "\n",
       "                                                      seq               song  \\\n",
       "158348  And we live on borrowed time,\\r\\nBut this head...    Friends of Mine   \n",
       "158349  Frozin in time forever\\r\\nCarrying that torch ...     Frozen in Time   \n",
       "158350  Hard to be a girl. \\r\\nSo nice to be a boy. \\r...  Hard to Be a Girl   \n",
       "158351  I want to chose to die,\\r\\nAnd be buried with ...        I Wanna Die   \n",
       "158352  Musical ladders\\r\\nLeaning on mountains\\r\\nBat...    Musical Ladders   \n",
       "\n",
       "        label  \n",
       "158348  0.737  \n",
       "158349  0.482  \n",
       "158350  0.733  \n",
       "158351  0.361  \n",
       "158352  0.263  "
      ]
     },
     "execution_count": 23,
     "metadata": {},
     "output_type": "execute_result"
    }
   ],
   "source": [
    "#Show the last 5 rows\n",
    "df.tail()"
   ]
  },
  {
   "cell_type": "code",
   "execution_count": 24,
   "metadata": {},
   "outputs": [
    {
     "name": "stdout",
     "output_type": "stream",
     "text": [
      "<class 'pandas.core.frame.DataFrame'>\n",
      "RangeIndex: 158353 entries, 0 to 158352\n",
      "Data columns (total 5 columns):\n",
      " #   Column      Non-Null Count   Dtype  \n",
      "---  ------      --------------   -----  \n",
      " 0   Unnamed: 0  158353 non-null  int64  \n",
      " 1   artist      158353 non-null  object \n",
      " 2   seq         158353 non-null  object \n",
      " 3   song        158353 non-null  object \n",
      " 4   label       158353 non-null  float64\n",
      "dtypes: float64(1), int64(1), object(3)\n",
      "memory usage: 6.0+ MB\n"
     ]
    }
   ],
   "source": [
    "#Summary of the data\n",
    "df.info()"
   ]
  },
  {
   "cell_type": "code",
   "execution_count": 25,
   "metadata": {},
   "outputs": [
    {
     "data": {
      "text/html": [
       "<div>\n",
       "<style scoped>\n",
       "    .dataframe tbody tr th:only-of-type {\n",
       "        vertical-align: middle;\n",
       "    }\n",
       "\n",
       "    .dataframe tbody tr th {\n",
       "        vertical-align: top;\n",
       "    }\n",
       "\n",
       "    .dataframe thead th {\n",
       "        text-align: right;\n",
       "    }\n",
       "</style>\n",
       "<table border=\"1\" class=\"dataframe\">\n",
       "  <thead>\n",
       "    <tr style=\"text-align: right;\">\n",
       "      <th></th>\n",
       "      <th>Unnamed: 0</th>\n",
       "      <th>label</th>\n",
       "    </tr>\n",
       "  </thead>\n",
       "  <tbody>\n",
       "    <tr>\n",
       "      <th>count</th>\n",
       "      <td>158353.000000</td>\n",
       "      <td>158353.000000</td>\n",
       "    </tr>\n",
       "    <tr>\n",
       "      <th>mean</th>\n",
       "      <td>79176.000000</td>\n",
       "      <td>0.491052</td>\n",
       "    </tr>\n",
       "    <tr>\n",
       "      <th>std</th>\n",
       "      <td>45712.717926</td>\n",
       "      <td>0.249619</td>\n",
       "    </tr>\n",
       "    <tr>\n",
       "      <th>min</th>\n",
       "      <td>0.000000</td>\n",
       "      <td>0.000000</td>\n",
       "    </tr>\n",
       "    <tr>\n",
       "      <th>25%</th>\n",
       "      <td>39588.000000</td>\n",
       "      <td>0.286000</td>\n",
       "    </tr>\n",
       "    <tr>\n",
       "      <th>50%</th>\n",
       "      <td>79176.000000</td>\n",
       "      <td>0.483000</td>\n",
       "    </tr>\n",
       "    <tr>\n",
       "      <th>75%</th>\n",
       "      <td>118764.000000</td>\n",
       "      <td>0.691000</td>\n",
       "    </tr>\n",
       "    <tr>\n",
       "      <th>max</th>\n",
       "      <td>158352.000000</td>\n",
       "      <td>0.998000</td>\n",
       "    </tr>\n",
       "  </tbody>\n",
       "</table>\n",
       "</div>"
      ],
      "text/plain": [
       "          Unnamed: 0          label\n",
       "count  158353.000000  158353.000000\n",
       "mean    79176.000000       0.491052\n",
       "std     45712.717926       0.249619\n",
       "min         0.000000       0.000000\n",
       "25%     39588.000000       0.286000\n",
       "50%     79176.000000       0.483000\n",
       "75%    118764.000000       0.691000\n",
       "max    158352.000000       0.998000"
      ]
     },
     "execution_count": 25,
     "metadata": {},
     "output_type": "execute_result"
    }
   ],
   "source": [
    "#Describe statistics of the data\n",
    "df.describe()"
   ]
  },
  {
   "cell_type": "code",
   "execution_count": 26,
   "metadata": {},
   "outputs": [
    {
     "data": {
      "text/plain": [
       "(158353, 5)"
      ]
     },
     "execution_count": 26,
     "metadata": {},
     "output_type": "execute_result"
    }
   ],
   "source": [
    "#Dimensions of the data as a tuple\n",
    "df.shape"
   ]
  },
  {
   "cell_type": "code",
   "execution_count": 27,
   "metadata": {},
   "outputs": [
    {
     "data": {
      "text/plain": [
       "Index(['Unnamed: 0', 'artist', 'seq', 'song', 'label'], dtype='object')"
      ]
     },
     "execution_count": 27,
     "metadata": {},
     "output_type": "execute_result"
    }
   ],
   "source": [
    "#Columns names of the data\n",
    "df.columns"
   ]
  },
  {
   "cell_type": "code",
   "execution_count": 28,
   "metadata": {},
   "outputs": [
    {
     "data": {
      "text/plain": [
       "Unnamed: 0      int64\n",
       "artist         object\n",
       "seq            object\n",
       "song           object\n",
       "label         float64\n",
       "dtype: object"
      ]
     },
     "execution_count": 28,
     "metadata": {},
     "output_type": "execute_result"
    }
   ],
   "source": [
    "#Data types of each column\n",
    "df.dtypes"
   ]
  },
  {
   "cell_type": "code",
   "execution_count": 29,
   "metadata": {},
   "outputs": [
    {
     "data": {
      "text/html": [
       "<div>\n",
       "<style scoped>\n",
       "    .dataframe tbody tr th:only-of-type {\n",
       "        vertical-align: middle;\n",
       "    }\n",
       "\n",
       "    .dataframe tbody tr th {\n",
       "        vertical-align: top;\n",
       "    }\n",
       "\n",
       "    .dataframe thead th {\n",
       "        text-align: right;\n",
       "    }\n",
       "</style>\n",
       "<table border=\"1\" class=\"dataframe\">\n",
       "  <thead>\n",
       "    <tr style=\"text-align: right;\">\n",
       "      <th></th>\n",
       "      <th>Unnamed: 0</th>\n",
       "      <th>artist</th>\n",
       "      <th>seq</th>\n",
       "      <th>song</th>\n",
       "      <th>label</th>\n",
       "    </tr>\n",
       "  </thead>\n",
       "  <tbody>\n",
       "    <tr>\n",
       "      <th>0</th>\n",
       "      <td>False</td>\n",
       "      <td>False</td>\n",
       "      <td>False</td>\n",
       "      <td>False</td>\n",
       "      <td>False</td>\n",
       "    </tr>\n",
       "    <tr>\n",
       "      <th>1</th>\n",
       "      <td>False</td>\n",
       "      <td>False</td>\n",
       "      <td>False</td>\n",
       "      <td>False</td>\n",
       "      <td>False</td>\n",
       "    </tr>\n",
       "    <tr>\n",
       "      <th>2</th>\n",
       "      <td>False</td>\n",
       "      <td>False</td>\n",
       "      <td>False</td>\n",
       "      <td>False</td>\n",
       "      <td>False</td>\n",
       "    </tr>\n",
       "    <tr>\n",
       "      <th>3</th>\n",
       "      <td>False</td>\n",
       "      <td>False</td>\n",
       "      <td>False</td>\n",
       "      <td>False</td>\n",
       "      <td>False</td>\n",
       "    </tr>\n",
       "    <tr>\n",
       "      <th>4</th>\n",
       "      <td>False</td>\n",
       "      <td>False</td>\n",
       "      <td>False</td>\n",
       "      <td>False</td>\n",
       "      <td>False</td>\n",
       "    </tr>\n",
       "    <tr>\n",
       "      <th>...</th>\n",
       "      <td>...</td>\n",
       "      <td>...</td>\n",
       "      <td>...</td>\n",
       "      <td>...</td>\n",
       "      <td>...</td>\n",
       "    </tr>\n",
       "    <tr>\n",
       "      <th>158348</th>\n",
       "      <td>False</td>\n",
       "      <td>False</td>\n",
       "      <td>False</td>\n",
       "      <td>False</td>\n",
       "      <td>False</td>\n",
       "    </tr>\n",
       "    <tr>\n",
       "      <th>158349</th>\n",
       "      <td>False</td>\n",
       "      <td>False</td>\n",
       "      <td>False</td>\n",
       "      <td>False</td>\n",
       "      <td>False</td>\n",
       "    </tr>\n",
       "    <tr>\n",
       "      <th>158350</th>\n",
       "      <td>False</td>\n",
       "      <td>False</td>\n",
       "      <td>False</td>\n",
       "      <td>False</td>\n",
       "      <td>False</td>\n",
       "    </tr>\n",
       "    <tr>\n",
       "      <th>158351</th>\n",
       "      <td>False</td>\n",
       "      <td>False</td>\n",
       "      <td>False</td>\n",
       "      <td>False</td>\n",
       "      <td>False</td>\n",
       "    </tr>\n",
       "    <tr>\n",
       "      <th>158352</th>\n",
       "      <td>False</td>\n",
       "      <td>False</td>\n",
       "      <td>False</td>\n",
       "      <td>False</td>\n",
       "      <td>False</td>\n",
       "    </tr>\n",
       "  </tbody>\n",
       "</table>\n",
       "<p>158353 rows × 5 columns</p>\n",
       "</div>"
      ],
      "text/plain": [
       "        Unnamed: 0  artist    seq   song  label\n",
       "0            False   False  False  False  False\n",
       "1            False   False  False  False  False\n",
       "2            False   False  False  False  False\n",
       "3            False   False  False  False  False\n",
       "4            False   False  False  False  False\n",
       "...            ...     ...    ...    ...    ...\n",
       "158348       False   False  False  False  False\n",
       "158349       False   False  False  False  False\n",
       "158350       False   False  False  False  False\n",
       "158351       False   False  False  False  False\n",
       "158352       False   False  False  False  False\n",
       "\n",
       "[158353 rows x 5 columns]"
      ]
     },
     "execution_count": 29,
     "metadata": {},
     "output_type": "execute_result"
    }
   ],
   "source": [
    "#Missing or null values in the data\n",
    "df.isnull()"
   ]
  },
  {
   "attachments": {},
   "cell_type": "markdown",
   "metadata": {},
   "source": [
    "# Data Preparation"
   ]
  },
  {
   "cell_type": "code",
   "execution_count": 30,
   "metadata": {},
   "outputs": [],
   "source": [
    "#Creating a new column with the \"sentiment\" of the lyrics\n",
    "def atribuir_sentimento(valor):\n",
    "    if valor < 0.4:\n",
    "        return 'negative'\n",
    "    elif valor > 0.6:\n",
    "        return 'positive'\n",
    "    else:\n",
    "        return 'neutral'\n",
    "\n",
    "# Aplicar a função a cada valor da coluna 'label' e criar uma nova coluna 'sentiment'\n",
    "df['sentiment'] = df['label'].apply(atribuir_sentimento)"
   ]
  },
  {
   "cell_type": "code",
   "execution_count": 31,
   "metadata": {},
   "outputs": [],
   "source": [
    "df = df.rename(columns={'seq': 'lyrics'})\n",
    "df = df[['lyrics', 'sentiment']]"
   ]
  },
  {
   "cell_type": "code",
   "execution_count": 32,
   "metadata": {},
   "outputs": [
    {
     "name": "stderr",
     "output_type": "stream",
     "text": [
      "<ipython-input-32-1849f94512e8>:2: FutureWarning: The default value of regex will change from True to False in a future version.\n",
      "  df['lyrics'] = df['lyrics'].str.replace(\"[\\(\\[].*?[\\)\\]]\", '')\n",
      "<ipython-input-32-1849f94512e8>:6: FutureWarning: The default value of regex will change from True to False in a future version.\n",
      "  df['lyrics'] = df['lyrics'].str.replace('[{}]'.format(string.punctuation), '')\n"
     ]
    }
   ],
   "source": [
    "#Removing unnecessary characters from lyrics\n",
    "df['lyrics'] = df['lyrics'].str.replace(\"[\\(\\[].*?[\\)\\]]\", '')\n",
    "df['lyrics'] = df['lyrics'].str.replace(\"\\n\", ' ')\n",
    "df['lyrics'] = df['lyrics'].str.replace(\"\\r\", ' ')\n",
    "df['lyrics'] = df['lyrics'].str.lower()\n",
    "df['lyrics'] = df['lyrics'].str.replace('[{}]'.format(string.punctuation), '')"
   ]
  },
  {
   "cell_type": "code",
   "execution_count": 33,
   "metadata": {},
   "outputs": [],
   "source": [
    "def lyrics_to_words(document):\n",
    "    \"\"\"\n",
    "    This function splits the text of lyrics to  single words, removing stopwords and doing the lemmatization to each word\n",
    "\n",
    "    parameters:\n",
    "    document: text to split to single words\n",
    "    \"\"\"\n",
    "    stop_words = set(stopwords.words('english'))\n",
    "    exclude = set(string.punctuation)\n",
    "    lemma = WordNetLemmatizer()\n",
    "    stopwordremoval = \" \".join([i for i in document.lower().split() if i not in stop_words])\n",
    "    punctuationremoval = ''.join(ch for ch in stopwordremoval if ch not in exclude)\n",
    "    normalized = \" \".join(lemma.lemmatize(word) for word in punctuationremoval.split())\n",
    "    return normalized"
   ]
  },
  {
   "cell_type": "code",
   "execution_count": 34,
   "metadata": {},
   "outputs": [
    {
     "data": {
      "text/html": [
       "<div>\n",
       "<style scoped>\n",
       "    .dataframe tbody tr th:only-of-type {\n",
       "        vertical-align: middle;\n",
       "    }\n",
       "\n",
       "    .dataframe tbody tr th {\n",
       "        vertical-align: top;\n",
       "    }\n",
       "\n",
       "    .dataframe thead th {\n",
       "        text-align: right;\n",
       "    }\n",
       "</style>\n",
       "<table border=\"1\" class=\"dataframe\">\n",
       "  <thead>\n",
       "    <tr style=\"text-align: right;\">\n",
       "      <th></th>\n",
       "      <th>lyrics</th>\n",
       "      <th>sentiment</th>\n",
       "    </tr>\n",
       "  </thead>\n",
       "  <tbody>\n",
       "    <tr>\n",
       "      <th>0</th>\n",
       "      <td>no no  i aint ever trapped out the bando  but ...</td>\n",
       "      <td>positive</td>\n",
       "    </tr>\n",
       "    <tr>\n",
       "      <th>1</th>\n",
       "      <td>the drinks go down and smoke goes up i feel my...</td>\n",
       "      <td>positive</td>\n",
       "    </tr>\n",
       "    <tr>\n",
       "      <th>2</th>\n",
       "      <td>she dont live on planet earth no more  she fou...</td>\n",
       "      <td>negative</td>\n",
       "    </tr>\n",
       "    <tr>\n",
       "      <th>3</th>\n",
       "      <td>trippin off that grigio mobbin lights low  tri...</td>\n",
       "      <td>neutral</td>\n",
       "    </tr>\n",
       "    <tr>\n",
       "      <th>4</th>\n",
       "      <td>i see a midnight panther so gallant and so bra...</td>\n",
       "      <td>negative</td>\n",
       "    </tr>\n",
       "    <tr>\n",
       "      <th>...</th>\n",
       "      <td>...</td>\n",
       "      <td>...</td>\n",
       "    </tr>\n",
       "    <tr>\n",
       "      <th>158348</th>\n",
       "      <td>and we live on borrowed time  but this headsho...</td>\n",
       "      <td>positive</td>\n",
       "    </tr>\n",
       "    <tr>\n",
       "      <th>158349</th>\n",
       "      <td>frozin in time forever  carrying that torch fo...</td>\n",
       "      <td>neutral</td>\n",
       "    </tr>\n",
       "    <tr>\n",
       "      <th>158350</th>\n",
       "      <td>hard to be a girl   so nice to be a boy   in m...</td>\n",
       "      <td>positive</td>\n",
       "    </tr>\n",
       "    <tr>\n",
       "      <th>158351</th>\n",
       "      <td>i want to chose to die  and be buried with a r...</td>\n",
       "      <td>negative</td>\n",
       "    </tr>\n",
       "    <tr>\n",
       "      <th>158352</th>\n",
       "      <td>musical ladders  leaning on mountains  bathed ...</td>\n",
       "      <td>negative</td>\n",
       "    </tr>\n",
       "  </tbody>\n",
       "</table>\n",
       "<p>158353 rows × 2 columns</p>\n",
       "</div>"
      ],
      "text/plain": [
       "                                                   lyrics sentiment\n",
       "0       no no  i aint ever trapped out the bando  but ...  positive\n",
       "1       the drinks go down and smoke goes up i feel my...  positive\n",
       "2       she dont live on planet earth no more  she fou...  negative\n",
       "3       trippin off that grigio mobbin lights low  tri...   neutral\n",
       "4       i see a midnight panther so gallant and so bra...  negative\n",
       "...                                                   ...       ...\n",
       "158348  and we live on borrowed time  but this headsho...  positive\n",
       "158349  frozin in time forever  carrying that torch fo...   neutral\n",
       "158350  hard to be a girl   so nice to be a boy   in m...  positive\n",
       "158351  i want to chose to die  and be buried with a r...  negative\n",
       "158352  musical ladders  leaning on mountains  bathed ...  negative\n",
       "\n",
       "[158353 rows x 2 columns]"
      ]
     },
     "execution_count": 34,
     "metadata": {},
     "output_type": "execute_result"
    }
   ],
   "source": [
    "df"
   ]
  },
  {
   "cell_type": "code",
   "execution_count": 35,
   "metadata": {},
   "outputs": [],
   "source": [
    "df['lyrics'] = df['lyrics'].apply(lyrics_to_words)"
   ]
  },
  {
   "cell_type": "code",
   "execution_count": 36,
   "metadata": {},
   "outputs": [
    {
     "data": {
      "text/html": [
       "<div>\n",
       "<style scoped>\n",
       "    .dataframe tbody tr th:only-of-type {\n",
       "        vertical-align: middle;\n",
       "    }\n",
       "\n",
       "    .dataframe tbody tr th {\n",
       "        vertical-align: top;\n",
       "    }\n",
       "\n",
       "    .dataframe thead th {\n",
       "        text-align: right;\n",
       "    }\n",
       "</style>\n",
       "<table border=\"1\" class=\"dataframe\">\n",
       "  <thead>\n",
       "    <tr style=\"text-align: right;\">\n",
       "      <th></th>\n",
       "      <th>lyrics</th>\n",
       "      <th>sentiment</th>\n",
       "    </tr>\n",
       "  </thead>\n",
       "  <tbody>\n",
       "    <tr>\n",
       "      <th>0</th>\n",
       "      <td>aint ever trapped bando oh lord dont get wrong...</td>\n",
       "      <td>positive</td>\n",
       "    </tr>\n",
       "    <tr>\n",
       "      <th>1</th>\n",
       "      <td>drink go smoke go feel got let go care get los...</td>\n",
       "      <td>positive</td>\n",
       "    </tr>\n",
       "    <tr>\n",
       "      <th>2</th>\n",
       "      <td>dont live planet earth found love venus thats ...</td>\n",
       "      <td>negative</td>\n",
       "    </tr>\n",
       "    <tr>\n",
       "      <th>3</th>\n",
       "      <td>trippin grigio mobbin light low trippin grigio...</td>\n",
       "      <td>neutral</td>\n",
       "    </tr>\n",
       "    <tr>\n",
       "      <th>4</th>\n",
       "      <td>see midnight panther gallant brave found found...</td>\n",
       "      <td>negative</td>\n",
       "    </tr>\n",
       "    <tr>\n",
       "      <th>...</th>\n",
       "      <td>...</td>\n",
       "      <td>...</td>\n",
       "    </tr>\n",
       "    <tr>\n",
       "      <th>158348</th>\n",
       "      <td>live borrowed time headshot pretty good ive sc...</td>\n",
       "      <td>positive</td>\n",
       "    </tr>\n",
       "    <tr>\n",
       "      <th>158349</th>\n",
       "      <td>frozin time forever carrying torch long hear h...</td>\n",
       "      <td>neutral</td>\n",
       "    </tr>\n",
       "    <tr>\n",
       "      <th>158350</th>\n",
       "      <td>hard girl nice boy room night pretty site here...</td>\n",
       "      <td>positive</td>\n",
       "    </tr>\n",
       "    <tr>\n",
       "      <th>158351</th>\n",
       "      <td>want chose die buried rubix cube sleep inside ...</td>\n",
       "      <td>negative</td>\n",
       "    </tr>\n",
       "    <tr>\n",
       "      <th>158352</th>\n",
       "      <td>musical ladder leaning mountain bathed white l...</td>\n",
       "      <td>negative</td>\n",
       "    </tr>\n",
       "  </tbody>\n",
       "</table>\n",
       "<p>158353 rows × 2 columns</p>\n",
       "</div>"
      ],
      "text/plain": [
       "                                                   lyrics sentiment\n",
       "0       aint ever trapped bando oh lord dont get wrong...  positive\n",
       "1       drink go smoke go feel got let go care get los...  positive\n",
       "2       dont live planet earth found love venus thats ...  negative\n",
       "3       trippin grigio mobbin light low trippin grigio...   neutral\n",
       "4       see midnight panther gallant brave found found...  negative\n",
       "...                                                   ...       ...\n",
       "158348  live borrowed time headshot pretty good ive sc...  positive\n",
       "158349  frozin time forever carrying torch long hear h...   neutral\n",
       "158350  hard girl nice boy room night pretty site here...  positive\n",
       "158351  want chose die buried rubix cube sleep inside ...  negative\n",
       "158352  musical ladder leaning mountain bathed white l...  negative\n",
       "\n",
       "[158353 rows x 2 columns]"
      ]
     },
     "execution_count": 36,
     "metadata": {},
     "output_type": "execute_result"
    }
   ],
   "source": [
    "df"
   ]
  },
  {
   "attachments": {},
   "cell_type": "markdown",
   "metadata": {},
   "source": [
    "# Data Visualization"
   ]
  },
  {
   "cell_type": "code",
   "execution_count": 37,
   "metadata": {},
   "outputs": [
    {
     "data": {
      "image/png": "[encoded data removed]",
      "text/plain": [
       "<Figure size 432x288 with 1 Axes>"
      ]
     },
     "metadata": {
      "needs_background": "light"
     },
     "output_type": "display_data"
    }
   ],
   "source": [
    "# Calcular a contagem de cada categoria\n",
    "contagem = df['sentiment'].value_counts()\n",
    "\n",
    "# Calcular as porcentagens\n",
    "porcentagens = contagem / contagem.sum() * 100\n",
    "\n",
    "# Criar o gráfico de colunas\n",
    "plt.bar(porcentagens.index, porcentagens)\n",
    "\n",
    "# Adicionar rótulos aos valores nas colunas\n",
    "for i, valor in enumerate(porcentagens):\n",
    "    plt.text(i, valor, f'{valor:.2f}%', ha='center', va='bottom')\n",
    "\n",
    "# Adicionar título ao gráfico\n",
    "plt.title('Porcentagem de Positivos, Negativos e Neutros')\n",
    "\n",
    "# Exibir o gráfico\n",
    "plt.show()"
   ]
  },
  {
   "attachments": {},
   "cell_type": "markdown",
   "metadata": {},
   "source": [
    "# Split data to CSV"
   ]
  },
  {
   "cell_type": "code",
   "execution_count": 39,
   "metadata": {},
   "outputs": [],
   "source": [
    "# Dividir os dados em treinamento e teste de forma balanceada\n",
    "#train_data, test_data = train_test_split(df, test_size=0.3, random_state=42, stratify=df['sentiment'])\n",
    "\n",
    "# Salvar o dataframe original em um arquivo CSV\n",
    "#df.to_csv('original_data.csv', index=False)\n",
    "\n",
    "# Selecionar apenas as colunas 'seq' e 'sentiment' para o conjunto de teste\n",
    "#test_data = test_data[['lyrics', 'sentiment']]\n",
    "\n",
    "# Remover linhas com valores ausentes do conjunto de treinamento\n",
    "#train_data = train_data.dropna()\n",
    "\n",
    "# Gravar o conjunto de treinamento em um arquivo CSV\n",
    "#train_data.to_csv('train.csv', index=False)\n",
    "\n",
    "# Remover linhas com valores ausentes do conjunto de teste\n",
    "#test_data = test_data.dropna()\n",
    "\n",
    "# Gravar o conjunto de teste em um arquivo CSV\n",
    "#test_data.to_csv('test.csv', index=False)"
   ]
  },
  {
   "cell_type": "code",
   "execution_count": null,
   "metadata": {},
   "outputs": [],
   "source": []
  }
 ],
 "metadata": {
  "kernelspec": {
   "display_name": "daa",
   "language": "python",
   "name": "python3"
  },
  "language_info": {
   "codemirror_mode": {
    "name": "ipython",
    "version": 3
   },
   "file_extension": ".py",
   "mimetype": "text/x-python",
   "name": "python",
   "nbconvert_exporter": "python",
   "pygments_lexer": "ipython3",
   "version": "3.9.0"
  },
  "orig_nbformat": 4
 },
 "nbformat": 4,
 "nbformat_minor": 2
}
