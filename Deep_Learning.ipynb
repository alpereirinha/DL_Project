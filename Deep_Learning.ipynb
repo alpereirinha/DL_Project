{
 "cells": [
  {
   "attachments": {},
   "cell_type": "markdown",
   "id": "6aeacf4e-3c09-4805-b67e-0479b7bf2446",
   "metadata": {
    "tags": []
   },
   "source": [
    "# Imports"
   ]
  },
  {
   "cell_type": "code",
   "execution_count": 1,
   "id": "b4043559",
   "metadata": {},
   "outputs": [],
   "source": [
    "import pandas as pd\n",
    "import time\n",
    "import numpy as np"
   ]
  },
  {
   "attachments": {},
   "cell_type": "markdown",
   "id": "07fc2919",
   "metadata": {},
   "source": [
    "# Data Exploration"
   ]
  },
  {
   "cell_type": "code",
   "execution_count": 2,
   "id": "2ef4ee4c",
   "metadata": {},
   "outputs": [
    {
     "name": "stdout",
     "output_type": "stream",
     "text": [
      "Time to load the data:  131.07218599319458\n"
     ]
    }
   ],
   "source": [
    "#Read the data\n",
    "start = time.time()\n",
    "df_original = pd.read_csv(\"originalData.csv\")\n",
    "end = time.time()\n",
    "\n",
    "#Print the time it took to load the data\n",
    "print(\"Time to load the data: \", end - start)"
   ]
  },
  {
   "cell_type": "code",
   "execution_count": 3,
   "id": "2e62d9f6",
   "metadata": {},
   "outputs": [
    {
     "name": "stdout",
     "output_type": "stream",
     "text": [
      "Number of remaining rows: 295671\n"
     ]
    }
   ],
   "source": [
    "n_rows = len(df_original)\n",
    "n_rows_to_drop = int(0.95 * n_rows)  # Calculate the number of rows to drop\n",
    "\n",
    "# Drop 80% of the rows randomly\n",
    "df = df_original.sample(frac=1.0 - 0.95, random_state=42)  # Set a random state for reproducibility\n",
    "df.reset_index(drop=True, inplace=True)  # Reset the index\n",
    "\n",
    "# Verify the number of rows in the resulting DataFrame\n",
    "print(\"Number of remaining rows:\", len(df))"
   ]
  },
  {
   "cell_type": "code",
   "execution_count": 4,
   "id": "ba8f020c",
   "metadata": {},
   "outputs": [
    {
     "data": {
      "text/html": [
       "<div>\n",
       "<style scoped>\n",
       "    .dataframe tbody tr th:only-of-type {\n",
       "        vertical-align: middle;\n",
       "    }\n",
       "\n",
       "    .dataframe tbody tr th {\n",
       "        vertical-align: top;\n",
       "    }\n",
       "\n",
       "    .dataframe thead th {\n",
       "        text-align: right;\n",
       "    }\n",
       "</style>\n",
       "<table border=\"1\" class=\"dataframe\">\n",
       "  <thead>\n",
       "    <tr style=\"text-align: right;\">\n",
       "      <th></th>\n",
       "      <th>title</th>\n",
       "      <th>tag</th>\n",
       "      <th>artist</th>\n",
       "      <th>year</th>\n",
       "      <th>views</th>\n",
       "      <th>features</th>\n",
       "      <th>lyrics</th>\n",
       "      <th>id</th>\n",
       "    </tr>\n",
       "  </thead>\n",
       "  <tbody>\n",
       "    <tr>\n",
       "      <th>0</th>\n",
       "      <td>Está Muy Bien</td>\n",
       "      <td>rock</td>\n",
       "      <td>David Lebn</td>\n",
       "      <td>1980</td>\n",
       "      <td>8</td>\n",
       "      <td>{\"David Lebón\"}</td>\n",
       "      <td>[Letra de \"Está Muy Bien\"]\\n\\n[Verso 1]\\nMuy b...</td>\n",
       "      <td>4830984</td>\n",
       "    </tr>\n",
       "    <tr>\n",
       "      <th>1</th>\n",
       "      <td>Lil Peep - Runaway Türkçe Çeviri</td>\n",
       "      <td>rap</td>\n",
       "      <td>Genius Trke eviri</td>\n",
       "      <td>2017</td>\n",
       "      <td>5152</td>\n",
       "      <td>{\"Genius Türkçe Çeviri\"}</td>\n",
       "      <td>[Intro]\\nBuradan kaç\\nHerkes çok sahtekâr\\nHer...</td>\n",
       "      <td>3923651</td>\n",
       "    </tr>\n",
       "    <tr>\n",
       "      <th>2</th>\n",
       "      <td>Pas ce soir</td>\n",
       "      <td>rap</td>\n",
       "      <td>Oxmo Puccino</td>\n",
       "      <td>2012</td>\n",
       "      <td>3384</td>\n",
       "      <td>{}</td>\n",
       "      <td>Passé la trentaine tu comprendras\\nQue les bon...</td>\n",
       "      <td>89421</td>\n",
       "    </tr>\n",
       "    <tr>\n",
       "      <th>3</th>\n",
       "      <td>Überall Kirchen Session</td>\n",
       "      <td>pop</td>\n",
       "      <td>Die Hchste Eisenbahn</td>\n",
       "      <td>2020</td>\n",
       "      <td>77</td>\n",
       "      <td>{\"Die Höchste Eisenbahn\"}</td>\n",
       "      <td>[Instrumental]</td>\n",
       "      <td>5730279</td>\n",
       "    </tr>\n",
       "    <tr>\n",
       "      <th>4</th>\n",
       "      <td>Une certaine mixture</td>\n",
       "      <td>rap</td>\n",
       "      <td>Toni-L</td>\n",
       "      <td>1996</td>\n",
       "      <td>68</td>\n",
       "      <td>{Linguist,\"Frero (FRA)\"}</td>\n",
       "      <td>[Intro:]\\nLa mixture est dans la place\\nToni l...</td>\n",
       "      <td>703031</td>\n",
       "    </tr>\n",
       "  </tbody>\n",
       "</table>\n",
       "</div>"
      ],
      "text/plain": [
       "                              title   tag                artist  year  views  \\\n",
       "0                     Está Muy Bien  rock            David Lebn  1980      8   \n",
       "1  Lil Peep - Runaway Türkçe Çeviri   rap     Genius Trke eviri  2017   5152   \n",
       "2                       Pas ce soir   rap          Oxmo Puccino  2012   3384   \n",
       "3           Überall Kirchen Session   pop  Die Hchste Eisenbahn  2020     77   \n",
       "4              Une certaine mixture   rap                Toni-L  1996     68   \n",
       "\n",
       "                    features  \\\n",
       "0            {\"David Lebón\"}   \n",
       "1   {\"Genius Türkçe Çeviri\"}   \n",
       "2                         {}   \n",
       "3  {\"Die Höchste Eisenbahn\"}   \n",
       "4   {Linguist,\"Frero (FRA)\"}   \n",
       "\n",
       "                                              lyrics       id  \n",
       "0  [Letra de \"Está Muy Bien\"]\\n\\n[Verso 1]\\nMuy b...  4830984  \n",
       "1  [Intro]\\nBuradan kaç\\nHerkes çok sahtekâr\\nHer...  3923651  \n",
       "2  Passé la trentaine tu comprendras\\nQue les bon...    89421  \n",
       "3                                     [Instrumental]  5730279  \n",
       "4  [Intro:]\\nLa mixture est dans la place\\nToni l...   703031  "
      ]
     },
     "execution_count": 4,
     "metadata": {},
     "output_type": "execute_result"
    }
   ],
   "source": [
    "#Show the first 5 rows\n",
    "df.head()"
   ]
  },
  {
   "cell_type": "code",
   "execution_count": 5,
   "id": "1927da54",
   "metadata": {},
   "outputs": [
    {
     "data": {
      "text/html": [
       "<div>\n",
       "<style scoped>\n",
       "    .dataframe tbody tr th:only-of-type {\n",
       "        vertical-align: middle;\n",
       "    }\n",
       "\n",
       "    .dataframe tbody tr th {\n",
       "        vertical-align: top;\n",
       "    }\n",
       "\n",
       "    .dataframe thead th {\n",
       "        text-align: right;\n",
       "    }\n",
       "</style>\n",
       "<table border=\"1\" class=\"dataframe\">\n",
       "  <thead>\n",
       "    <tr style=\"text-align: right;\">\n",
       "      <th></th>\n",
       "      <th>title</th>\n",
       "      <th>tag</th>\n",
       "      <th>artist</th>\n",
       "      <th>year</th>\n",
       "      <th>views</th>\n",
       "      <th>features</th>\n",
       "      <th>lyrics</th>\n",
       "      <th>id</th>\n",
       "    </tr>\n",
       "  </thead>\n",
       "  <tbody>\n",
       "    <tr>\n",
       "      <th>295666</th>\n",
       "      <td>Look It Up</td>\n",
       "      <td>pop</td>\n",
       "      <td>Ashton Shepherd</td>\n",
       "      <td>2011</td>\n",
       "      <td>353</td>\n",
       "      <td>{}</td>\n",
       "      <td>The word is faithful, look it up\\nIt don't mea...</td>\n",
       "      <td>1723643</td>\n",
       "    </tr>\n",
       "    <tr>\n",
       "      <th>295667</th>\n",
       "      <td>Bailão</td>\n",
       "      <td>pop</td>\n",
       "      <td>Ju Faustino</td>\n",
       "      <td>2019</td>\n",
       "      <td>29</td>\n",
       "      <td>{}</td>\n",
       "      <td>[Verso: Ju Faustino]\\nEu não vou mais ficar at...</td>\n",
       "      <td>4754196</td>\n",
       "    </tr>\n",
       "    <tr>\n",
       "      <th>295668</th>\n",
       "      <td>I Should Care</td>\n",
       "      <td>pop</td>\n",
       "      <td>Nicola Arigliano</td>\n",
       "      <td>2004</td>\n",
       "      <td>22</td>\n",
       "      <td>{}</td>\n",
       "      <td>I should care\\nI should go around weeping\\nI s...</td>\n",
       "      <td>1123173</td>\n",
       "    </tr>\n",
       "    <tr>\n",
       "      <th>295669</th>\n",
       "      <td>In the Name of Scotland</td>\n",
       "      <td>rock</td>\n",
       "      <td>Serenity</td>\n",
       "      <td>2022</td>\n",
       "      <td>55</td>\n",
       "      <td>{}</td>\n",
       "      <td>Rise against English Crown, until freedom will...</td>\n",
       "      <td>7869402</td>\n",
       "    </tr>\n",
       "    <tr>\n",
       "      <th>295670</th>\n",
       "      <td>Love Theme from St. Elmos Fire Instrumental</td>\n",
       "      <td>pop</td>\n",
       "      <td>David Foster</td>\n",
       "      <td>1985</td>\n",
       "      <td>364</td>\n",
       "      <td>{}</td>\n",
       "      <td>[Instrumental]</td>\n",
       "      <td>971662</td>\n",
       "    </tr>\n",
       "  </tbody>\n",
       "</table>\n",
       "</div>"
      ],
      "text/plain": [
       "                                              title   tag            artist  \\\n",
       "295666                                   Look It Up   pop   Ashton Shepherd   \n",
       "295667                                       Bailão   pop       Ju Faustino   \n",
       "295668                                I Should Care   pop  Nicola Arigliano   \n",
       "295669                      In the Name of Scotland  rock          Serenity   \n",
       "295670  Love Theme from St. Elmos Fire Instrumental   pop      David Foster   \n",
       "\n",
       "        year  views features  \\\n",
       "295666  2011    353       {}   \n",
       "295667  2019     29       {}   \n",
       "295668  2004     22       {}   \n",
       "295669  2022     55       {}   \n",
       "295670  1985    364       {}   \n",
       "\n",
       "                                                   lyrics       id  \n",
       "295666  The word is faithful, look it up\\nIt don't mea...  1723643  \n",
       "295667  [Verso: Ju Faustino]\\nEu não vou mais ficar at...  4754196  \n",
       "295668  I should care\\nI should go around weeping\\nI s...  1123173  \n",
       "295669  Rise against English Crown, until freedom will...  7869402  \n",
       "295670                                     [Instrumental]   971662  "
      ]
     },
     "execution_count": 5,
     "metadata": {},
     "output_type": "execute_result"
    }
   ],
   "source": [
    "#Show the last 5 rows\n",
    "df.tail()"
   ]
  },
  {
   "cell_type": "code",
   "execution_count": 6,
   "id": "d5c1e0e6",
   "metadata": {},
   "outputs": [
    {
     "name": "stdout",
     "output_type": "stream",
     "text": [
      "<class 'pandas.core.frame.DataFrame'>\n",
      "RangeIndex: 295671 entries, 0 to 295670\n",
      "Data columns (total 8 columns):\n",
      " #   Column    Non-Null Count   Dtype \n",
      "---  ------    --------------   ----- \n",
      " 0   title     295650 non-null  object\n",
      " 1   tag       295671 non-null  object\n",
      " 2   artist    295671 non-null  object\n",
      " 3   year      295671 non-null  int64 \n",
      " 4   views     295671 non-null  int64 \n",
      " 5   features  295671 non-null  object\n",
      " 6   lyrics    295555 non-null  object\n",
      " 7   id        295671 non-null  int64 \n",
      "dtypes: int64(3), object(5)\n",
      "memory usage: 18.0+ MB\n"
     ]
    }
   ],
   "source": [
    "#Summary of the data\n",
    "df.info()"
   ]
  },
  {
   "cell_type": "code",
   "execution_count": 7,
   "id": "ac273adf",
   "metadata": {},
   "outputs": [
    {
     "data": {
      "text/html": [
       "<div>\n",
       "<style scoped>\n",
       "    .dataframe tbody tr th:only-of-type {\n",
       "        vertical-align: middle;\n",
       "    }\n",
       "\n",
       "    .dataframe tbody tr th {\n",
       "        vertical-align: top;\n",
       "    }\n",
       "\n",
       "    .dataframe thead th {\n",
       "        text-align: right;\n",
       "    }\n",
       "</style>\n",
       "<table border=\"1\" class=\"dataframe\">\n",
       "  <thead>\n",
       "    <tr style=\"text-align: right;\">\n",
       "      <th></th>\n",
       "      <th>year</th>\n",
       "      <th>views</th>\n",
       "      <th>id</th>\n",
       "    </tr>\n",
       "  </thead>\n",
       "  <tbody>\n",
       "    <tr>\n",
       "      <th>count</th>\n",
       "      <td>295671.000000</td>\n",
       "      <td>2.956710e+05</td>\n",
       "      <td>2.956710e+05</td>\n",
       "    </tr>\n",
       "    <tr>\n",
       "      <th>mean</th>\n",
       "      <td>2010.683665</td>\n",
       "      <td>2.638833e+03</td>\n",
       "      <td>4.029159e+06</td>\n",
       "    </tr>\n",
       "    <tr>\n",
       "      <th>std</th>\n",
       "      <td>45.115338</td>\n",
       "      <td>3.829286e+04</td>\n",
       "      <td>2.295500e+06</td>\n",
       "    </tr>\n",
       "    <tr>\n",
       "      <th>min</th>\n",
       "      <td>1.000000</td>\n",
       "      <td>0.000000e+00</td>\n",
       "      <td>1.000000e+00</td>\n",
       "    </tr>\n",
       "    <tr>\n",
       "      <th>25%</th>\n",
       "      <td>2010.000000</td>\n",
       "      <td>1.600000e+01</td>\n",
       "      <td>1.825062e+06</td>\n",
       "    </tr>\n",
       "    <tr>\n",
       "      <th>50%</th>\n",
       "      <td>2016.000000</td>\n",
       "      <td>6.400000e+01</td>\n",
       "      <td>4.167588e+06</td>\n",
       "    </tr>\n",
       "    <tr>\n",
       "      <th>75%</th>\n",
       "      <td>2019.000000</td>\n",
       "      <td>3.530000e+02</td>\n",
       "      <td>6.005609e+06</td>\n",
       "    </tr>\n",
       "    <tr>\n",
       "      <th>max</th>\n",
       "      <td>2030.000000</td>\n",
       "      <td>8.351197e+06</td>\n",
       "      <td>7.882847e+06</td>\n",
       "    </tr>\n",
       "  </tbody>\n",
       "</table>\n",
       "</div>"
      ],
      "text/plain": [
       "                year         views            id\n",
       "count  295671.000000  2.956710e+05  2.956710e+05\n",
       "mean     2010.683665  2.638833e+03  4.029159e+06\n",
       "std        45.115338  3.829286e+04  2.295500e+06\n",
       "min         1.000000  0.000000e+00  1.000000e+00\n",
       "25%      2010.000000  1.600000e+01  1.825062e+06\n",
       "50%      2016.000000  6.400000e+01  4.167588e+06\n",
       "75%      2019.000000  3.530000e+02  6.005609e+06\n",
       "max      2030.000000  8.351197e+06  7.882847e+06"
      ]
     },
     "execution_count": 7,
     "metadata": {},
     "output_type": "execute_result"
    }
   ],
   "source": [
    "#Describe statistics of the data\n",
    "df.describe()"
   ]
  },
  {
   "cell_type": "code",
   "execution_count": 8,
   "id": "649de6f3",
   "metadata": {},
   "outputs": [
    {
     "data": {
      "text/plain": [
       "(295671, 8)"
      ]
     },
     "execution_count": 8,
     "metadata": {},
     "output_type": "execute_result"
    }
   ],
   "source": [
    "#Dimensions of the data as a tuple\n",
    "df.shape"
   ]
  },
  {
   "cell_type": "code",
   "execution_count": 9,
   "id": "8b0f55e8",
   "metadata": {},
   "outputs": [
    {
     "data": {
      "text/plain": [
       "Index(['title', 'tag', 'artist', 'year', 'views', 'features', 'lyrics', 'id'], dtype='object')"
      ]
     },
     "execution_count": 9,
     "metadata": {},
     "output_type": "execute_result"
    }
   ],
   "source": [
    "#Columns names of the data\n",
    "df.columns"
   ]
  },
  {
   "cell_type": "code",
   "execution_count": 10,
   "id": "fa845c5c",
   "metadata": {},
   "outputs": [
    {
     "data": {
      "text/plain": [
       "title       object\n",
       "tag         object\n",
       "artist      object\n",
       "year         int64\n",
       "views        int64\n",
       "features    object\n",
       "lyrics      object\n",
       "id           int64\n",
       "dtype: object"
      ]
     },
     "execution_count": 10,
     "metadata": {},
     "output_type": "execute_result"
    }
   ],
   "source": [
    "#Data types of each column\n",
    "df.dtypes"
   ]
  },
  {
   "cell_type": "code",
   "execution_count": 11,
   "id": "4127c876",
   "metadata": {},
   "outputs": [
    {
     "data": {
      "text/html": [
       "<div>\n",
       "<style scoped>\n",
       "    .dataframe tbody tr th:only-of-type {\n",
       "        vertical-align: middle;\n",
       "    }\n",
       "\n",
       "    .dataframe tbody tr th {\n",
       "        vertical-align: top;\n",
       "    }\n",
       "\n",
       "    .dataframe thead th {\n",
       "        text-align: right;\n",
       "    }\n",
       "</style>\n",
       "<table border=\"1\" class=\"dataframe\">\n",
       "  <thead>\n",
       "    <tr style=\"text-align: right;\">\n",
       "      <th></th>\n",
       "      <th>title</th>\n",
       "      <th>tag</th>\n",
       "      <th>artist</th>\n",
       "      <th>year</th>\n",
       "      <th>views</th>\n",
       "      <th>features</th>\n",
       "      <th>lyrics</th>\n",
       "      <th>id</th>\n",
       "    </tr>\n",
       "  </thead>\n",
       "  <tbody>\n",
       "    <tr>\n",
       "      <th>0</th>\n",
       "      <td>False</td>\n",
       "      <td>False</td>\n",
       "      <td>False</td>\n",
       "      <td>False</td>\n",
       "      <td>False</td>\n",
       "      <td>False</td>\n",
       "      <td>False</td>\n",
       "      <td>False</td>\n",
       "    </tr>\n",
       "    <tr>\n",
       "      <th>1</th>\n",
       "      <td>False</td>\n",
       "      <td>False</td>\n",
       "      <td>False</td>\n",
       "      <td>False</td>\n",
       "      <td>False</td>\n",
       "      <td>False</td>\n",
       "      <td>False</td>\n",
       "      <td>False</td>\n",
       "    </tr>\n",
       "    <tr>\n",
       "      <th>2</th>\n",
       "      <td>False</td>\n",
       "      <td>False</td>\n",
       "      <td>False</td>\n",
       "      <td>False</td>\n",
       "      <td>False</td>\n",
       "      <td>False</td>\n",
       "      <td>False</td>\n",
       "      <td>False</td>\n",
       "    </tr>\n",
       "    <tr>\n",
       "      <th>3</th>\n",
       "      <td>False</td>\n",
       "      <td>False</td>\n",
       "      <td>False</td>\n",
       "      <td>False</td>\n",
       "      <td>False</td>\n",
       "      <td>False</td>\n",
       "      <td>False</td>\n",
       "      <td>False</td>\n",
       "    </tr>\n",
       "    <tr>\n",
       "      <th>4</th>\n",
       "      <td>False</td>\n",
       "      <td>False</td>\n",
       "      <td>False</td>\n",
       "      <td>False</td>\n",
       "      <td>False</td>\n",
       "      <td>False</td>\n",
       "      <td>False</td>\n",
       "      <td>False</td>\n",
       "    </tr>\n",
       "    <tr>\n",
       "      <th>...</th>\n",
       "      <td>...</td>\n",
       "      <td>...</td>\n",
       "      <td>...</td>\n",
       "      <td>...</td>\n",
       "      <td>...</td>\n",
       "      <td>...</td>\n",
       "      <td>...</td>\n",
       "      <td>...</td>\n",
       "    </tr>\n",
       "    <tr>\n",
       "      <th>295666</th>\n",
       "      <td>False</td>\n",
       "      <td>False</td>\n",
       "      <td>False</td>\n",
       "      <td>False</td>\n",
       "      <td>False</td>\n",
       "      <td>False</td>\n",
       "      <td>False</td>\n",
       "      <td>False</td>\n",
       "    </tr>\n",
       "    <tr>\n",
       "      <th>295667</th>\n",
       "      <td>False</td>\n",
       "      <td>False</td>\n",
       "      <td>False</td>\n",
       "      <td>False</td>\n",
       "      <td>False</td>\n",
       "      <td>False</td>\n",
       "      <td>False</td>\n",
       "      <td>False</td>\n",
       "    </tr>\n",
       "    <tr>\n",
       "      <th>295668</th>\n",
       "      <td>False</td>\n",
       "      <td>False</td>\n",
       "      <td>False</td>\n",
       "      <td>False</td>\n",
       "      <td>False</td>\n",
       "      <td>False</td>\n",
       "      <td>False</td>\n",
       "      <td>False</td>\n",
       "    </tr>\n",
       "    <tr>\n",
       "      <th>295669</th>\n",
       "      <td>False</td>\n",
       "      <td>False</td>\n",
       "      <td>False</td>\n",
       "      <td>False</td>\n",
       "      <td>False</td>\n",
       "      <td>False</td>\n",
       "      <td>False</td>\n",
       "      <td>False</td>\n",
       "    </tr>\n",
       "    <tr>\n",
       "      <th>295670</th>\n",
       "      <td>False</td>\n",
       "      <td>False</td>\n",
       "      <td>False</td>\n",
       "      <td>False</td>\n",
       "      <td>False</td>\n",
       "      <td>False</td>\n",
       "      <td>False</td>\n",
       "      <td>False</td>\n",
       "    </tr>\n",
       "  </tbody>\n",
       "</table>\n",
       "<p>295671 rows × 8 columns</p>\n",
       "</div>"
      ],
      "text/plain": [
       "        title    tag  artist   year  views  features  lyrics     id\n",
       "0       False  False   False  False  False     False   False  False\n",
       "1       False  False   False  False  False     False   False  False\n",
       "2       False  False   False  False  False     False   False  False\n",
       "3       False  False   False  False  False     False   False  False\n",
       "4       False  False   False  False  False     False   False  False\n",
       "...       ...    ...     ...    ...    ...       ...     ...    ...\n",
       "295666  False  False   False  False  False     False   False  False\n",
       "295667  False  False   False  False  False     False   False  False\n",
       "295668  False  False   False  False  False     False   False  False\n",
       "295669  False  False   False  False  False     False   False  False\n",
       "295670  False  False   False  False  False     False   False  False\n",
       "\n",
       "[295671 rows x 8 columns]"
      ]
     },
     "execution_count": 11,
     "metadata": {},
     "output_type": "execute_result"
    }
   ],
   "source": [
    "#Missing or null values in the data\n",
    "df.isnull()"
   ]
  },
  {
   "attachments": {},
   "cell_type": "markdown",
   "id": "4222b04f",
   "metadata": {},
   "source": [
    "# Data Preparation"
   ]
  },
  {
   "cell_type": "code",
   "execution_count": 12,
   "id": "9f9da3b7",
   "metadata": {},
   "outputs": [],
   "source": [
    "#Drop columns \"id\", \"views\" and \"features\"\n",
    "df.drop([\"id\", \"views\", \"features\"], axis=1, inplace=True)"
   ]
  },
  {
   "cell_type": "code",
   "execution_count": 13,
   "id": "d81b4f8f",
   "metadata": {},
   "outputs": [
    {
     "name": "stdout",
     "output_type": "stream",
     "text": [
      "Number of null values in the column lyrics:  116\n"
     ]
    }
   ],
   "source": [
    "#Check if the column \"lyrics\" has null values\n",
    "null_values = df[\"lyrics\"].isnull().sum()\n",
    "print(\"Number of null values in the column lyrics: \", null_values)\n",
    "\n",
    "#Drop rows with null values in the column \"lyrics\"\n",
    "df.dropna(subset=['lyrics'], inplace=True)"
   ]
  },
  {
   "cell_type": "code",
   "execution_count": 17,
   "id": "e9bcd2d3",
   "metadata": {},
   "outputs": [
    {
     "name": "stderr",
     "output_type": "stream",
     "text": [
      "[nltk_data] Downloading package stopwords to\n",
      "[nltk_data]     /home/pereira/nltk_data...\n",
      "[nltk_data]   Package stopwords is already up-to-date!\n",
      "[nltk_data] Downloading package wordnet to /home/pereira/nltk_data...\n",
      "[nltk_data]   Package wordnet is already up-to-date!\n",
      "[nltk_data] Downloading package omw-1.4 to /home/pereira/nltk_data...\n",
      "[nltk_data]   Package omw-1.4 is already up-to-date!\n"
     ]
    },
    {
     "ename": "",
     "evalue": "",
     "output_type": "error",
     "traceback": [
      "\u001b[1;31mCanceled future for execute_request message before replies were done"
     ]
    },
    {
     "ename": "",
     "evalue": "",
     "output_type": "error",
     "traceback": [
      "\u001b[1;31mThe Kernel crashed while executing code in the the current cell or a previous cell. Please review the code in the cell(s) to identify a possible cause of the failure. Click <a href='https://aka.ms/vscodeJupyterKernelCrash'>here</a> for more info. View Jupyter <a href='command:jupyter.viewOutput'>log</a> for further details."
     ]
    }
   ],
   "source": [
    "import pandas as pd\n",
    "import string\n",
    "import nltk\n",
    "from nltk.corpus import stopwords\n",
    "from nltk.stem import WordNetLemmatizer\n",
    "\n",
    "# Set up NLTK resources\n",
    "nltk.download('stopwords')\n",
    "nltk.download('wordnet')\n",
    "nltk.download('omw-1.4')\n",
    "\n",
    "# Make a copy of the DataFrame\n",
    "df_clean = df.copy()\n",
    "\n",
    "def unique(list1):\n",
    "    unique_list = []\n",
    "    for x in list1:\n",
    "        if x not in unique_list:\n",
    "            unique_list.append(x)\n",
    "    return unique_list\n",
    "\n",
    "def lyrics_to_words(document):\n",
    "    stop_words = set(stopwords.words('english'))\n",
    "    exclude = set(string.punctuation)\n",
    "    lemma = WordNetLemmatizer()\n",
    "    stopword_removal = \" \".join([i for i in document.lower().split() if i not in stop_words])\n",
    "    punctuation_removal = ''.join(ch for ch in stopword_removal if ch not in exclude)\n",
    "    normalized = \" \".join(lemma.lemmatize(word) for word in punctuation_removal.split())\n",
    "    return normalized\n",
    "\n",
    "# Create a new column 'clean_words' to store the unique words of each lyrics song\n",
    "words = []\n",
    "\n",
    "# Define batch size\n",
    "batch_size = 10000\n",
    "\n",
    "# Iterate over batches of data\n",
    "for i in range(0, len(df_clean), batch_size):\n",
    "    # Process a batch of data\n",
    "    batch = df_clean['lyrics'].iloc[i:i+batch_size].tolist()\n",
    "    batch_words = [unique(lyrics_to_words(lyric).split()) for lyric in batch]\n",
    "    words.extend(batch_words)\n",
    "\n",
    "# Assign the 'clean_words' column with the processed data\n",
    "df_clean['clean_words'] = words"
   ]
  }
 ],
 "metadata": {
  "kernelspec": {
   "display_name": "Python 3",
   "language": "python",
   "name": "python3"
  },
  "language_info": {
   "codemirror_mode": {
    "name": "ipython",
    "version": 3
   },
   "file_extension": ".py",
   "mimetype": "text/x-python",
   "name": "python",
   "nbconvert_exporter": "python",
   "pygments_lexer": "ipython3",
   "version": "3.9.0"
  }
 },
 "nbformat": 4,
 "nbformat_minor": 5
}
