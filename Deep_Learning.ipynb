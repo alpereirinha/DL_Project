{
 "cells": [
  {
   "attachments": {},
   "cell_type": "markdown",
   "id": "6aeacf4e-3c09-4805-b67e-0479b7bf2446",
   "metadata": {
    "tags": []
   },
   "source": [
    "# Imports"
   ]
  },
  {
   "cell_type": "code",
   "execution_count": 23,
   "id": "4f1aaf8c-54b4-4e02-8b7e-39edbe445827",
   "metadata": {},
   "outputs": [],
   "source": [
    "import pandas as pd\n",
    "import pyspark\n",
    "import string\n",
    "import time\n",
    "\n",
    "from pyspark.sql import SparkSession\n",
    "from pyspark.sql import functions as f\n",
    "from pyspark.sql.functions import col, isnull, sum, split, when, lower, regexp_replace, trim"
   ]
  },
  {
   "attachments": {},
   "cell_type": "markdown",
   "id": "305e8134-17aa-4313-8dbd-b6343f721523",
   "metadata": {},
   "source": [
    "# Data Preparation (Pyspark)"
   ]
  },
  {
   "cell_type": "code",
   "execution_count": 24,
   "id": "fe430cfa-e837-46e7-82ac-530f0b56ace9",
   "metadata": {},
   "outputs": [
    {
     "name": "stdout",
     "output_type": "stream",
     "text": [
      "Demorou  0.1201789379119873  seconds\n"
     ]
    }
   ],
   "source": [
    "#Load the dataset\n",
    "\n",
    "start = time.time()\n",
    "\n",
    "# Create a SparkSession\n",
    "spark = SparkSession.builder.appName(\"ReadCSV\").getOrCreate()\n",
    "\n",
    "# Read the CSV file into a DataFrame\n",
    "df0 = spark.read.format(\"csv\").option(\"header\", \"true\").load(\"originalData.csv\")\n",
    "\n",
    "end = time.time()\n",
    "\n",
    "print('Demorou ', (end - start), \" seconds\")"
   ]
  },
  {
   "cell_type": "code",
   "execution_count": 25,
   "id": "14a4e8d3-f13b-4a6d-8c2d-1afd961b1d35",
   "metadata": {},
   "outputs": [],
   "source": [
    "#Drop the column \"views\", \"features\" and \"id\"\n",
    "df0 = df0.drop(*[\"id\", \"features\", \"views\"])"
   ]
  },
  {
   "cell_type": "code",
   "execution_count": 26,
   "id": "8d21a6dc-fe50-458e-9641-2020569ff8f4",
   "metadata": {},
   "outputs": [],
   "source": [
    "#Drop the rows that have nulls values in the \"lyrics\" column\n",
    "df0 = df0.na.drop(subset=[\"lyrics\"])"
   ]
  },
  {
   "cell_type": "code",
   "execution_count": 27,
   "id": "7dbb87b5-cc3c-42ac-9d27-5422549621f2",
   "metadata": {},
   "outputs": [],
   "source": [
    "#Drop the years before 1900 and after 2022\n",
    "df0 = df0.filter((df0.year >= 1900) & (df0.year <= 2022))"
   ]
  },
  {
   "cell_type": "code",
   "execution_count": 28,
   "id": "d5f597b3-b5cb-47f2-b9d9-f7b54fa00a37",
   "metadata": {},
   "outputs": [],
   "source": [
    "#Drop the rows that have nulls values in the \"title\" column\n",
    "df0 = df0.na.drop(subset=[\"title\"])"
   ]
  },
  {
   "cell_type": "code",
   "execution_count": 29,
   "id": "9d6dfab0-8e96-42bf-9dcc-1849bea90c6b",
   "metadata": {},
   "outputs": [],
   "source": [
    "#Drop the rows that have nulls values in the \"tag\" column\n",
    "df0 = df0.na.drop(subset=[\"tag\"])"
   ]
  },
  {
   "cell_type": "code",
   "execution_count": 30,
   "id": "f9f7a1cc-7e03-4d49-aab8-c336552e8c94",
   "metadata": {},
   "outputs": [
    {
     "name": "stdout",
     "output_type": "stream",
     "text": [
      "+-----+---+------+----+------+\n",
      "|title|tag|artist|year|lyrics|\n",
      "+-----+---+------+----+------+\n",
      "|    0|  0|     0|   0|     0|\n",
      "+-----+---+------+----+------+\n",
      "\n"
     ]
    }
   ],
   "source": [
    "# Create a new column with Boolean values indicating whether each row is null or not\n",
    "df_with_nulls = df0.select([sum(col(c).isNull().cast(\"int\")).alias(c) for c in df0.columns])\n",
    "\n",
    "# Display the result\n",
    "df_with_nulls.show()"
   ]
  },
  {
   "cell_type": "code",
   "execution_count": 31,
   "id": "841e02e2-eff6-4c9b-8cd5-47028d9c1cf2",
   "metadata": {},
   "outputs": [],
   "source": [
    "df0 = df0.withColumn(\"decade\", when((df0.year >= 1900) & (df0.year < 1910), \"00s\")\n",
    "                              .when((df0.year >= 1910) & (df0.year < 1920), \"10s\")\n",
    "                              .when((df0.year >= 1920) & (df0.year < 1930), \"20s\")\n",
    "                              .when((df0.year >= 1930) & (df0.year < 1940), \"30s\")\n",
    "                              .when((df0.year >= 1940) & (df0.year < 1950), \"40s\")\n",
    "                              .when((df0.year >= 1950) & (df0.year < 1960), \"50s\")\n",
    "                              .when((df0.year >= 1960) & (df0.year < 1980), \"60s\")\n",
    "                              .when((df0.year >= 1970) & (df0.year < 1980), \"70s\")\n",
    "                              .when((df0.year >= 1980) & (df0.year < 1990), \"80s\")\n",
    "                              .when((df0.year >= 1990) & (df0.year < 2000), \"90s\")\n",
    "                              .when((df0.year >= 2000) & (df0.year < 2010), \"000s\")\n",
    "                              .when((df0.year >= 2010) & (df0.year < 2020), \"010s\")\n",
    "                              .when(df0.year >= 2020, \"020s\")\n",
    "                             .otherwise(\"unknown\"))"
   ]
  },
  {
   "cell_type": "code",
   "execution_count": 10,
   "id": "6a537e13-1642-43fa-8856-a0d11b7c8428",
   "metadata": {},
   "outputs": [
    {
     "name": "stdout",
     "output_type": "stream",
     "text": [
      "+--------------------+---+---------+----+--------------------+------+\n",
      "|               title|tag|   artist|year|              lyrics|decade|\n",
      "+--------------------+---+---------+----+--------------------+------+\n",
      "|           Killa Cam|rap|  Cam'ron|2004|   \"\"Opera Steve\"\"}\"|  000s|\n",
      "|          Can I Live|rap|    JAY-Z|1996|[Produced by Irv ...|   90s|\n",
      "|   Forgive Me Father|rap| Fabolous|2003|Maybe cause I'm e...|  000s|\n",
      "|        Down and Out|rap|  Cam'ron|2004|      \"\"Kanye West\"\"|  000s|\n",
      "|              Fly In|rap|Lil Wayne|2005|             [Intro]|  000s|\n",
      "|      Lollipop Remix|rap|Lil Wayne|2008|  \"\"Static Major\"\"}\"|  000s|\n",
      "|          Im Not You|rap|   Clipse|2002|\"\"Roscoe P. Coldc...|  000s|\n",
      "|         Family Ties|rap|  Cam'ron|2004|     \"\"Lady Wray\"\"}\"|  000s|\n",
      "|   Rockin and Rollin|rap|  Cam'ron|1998|           [Verse 1]|   90s|\n",
      "|       Lord You Know|rap|  Cam'ron|2004|   \"\"Juelz Santana\"\"|  000s|\n",
      "|    Money On My Mind|rap|Lil Wayne|2005|             [Intro]|  000s|\n",
      "|     Think Yall Know|rap| Fabolous|2003|           [Verse 1]|  000s|\n",
      "|              DEvils|rap|    JAY-Z|1996|[Produced by DJ P...|   90s|\n",
      "|        December 4th|rap|    JAY-Z|2003|[Produced by Just...|  000s|\n",
      "|        98 Freestyle|rap|    Big L|2000|           [Verse 1]|  000s|\n",
      "|What Happened to ...|rap|  Birdman|2002|    [Intro: Birdman]|  000s|\n",
      "|Its Hot Some Like...|rap|    JAY-Z|1999|[Produced by Timb...|   90s|\n",
      "| Losing Weight Pt. 2|rap|  Cam'ron|2002| \"\"Juelz Santana\"\"}\"|  000s|\n",
      "|       Its Like That|rap|    JAY-Z|1998|[Intro: Jay-Z, Ki...|   90s|\n",
      "|  More Gangsta Music|rap|  Cam'ron|2004| \"\"Juelz Santana\"\"}\"|  000s|\n",
      "+--------------------+---+---------+----+--------------------+------+\n",
      "only showing top 20 rows\n",
      "\n"
     ]
    }
   ],
   "source": [
    "df0.show()"
   ]
  },
  {
   "cell_type": "code",
   "execution_count": 33,
   "id": "201221d3",
   "metadata": {},
   "outputs": [
    {
     "name": "stdout",
     "output_type": "stream",
     "text": [
      "+--------------------------------+\n",
      "|lyrics                          |\n",
      "+--------------------------------+\n",
      "|\"\"Opera Steve\"\"}\"               |\n",
      "|[Produced by Irv Gotti]         |\n",
      "|Maybe cause I'm eatin           |\n",
      "|\"\"Kanye West\"\"                  |\n",
      "|[Intro]                         |\n",
      "|\"\"Static Major\"\"}\"              |\n",
      "|\"\"Roscoe P. Coldchain\"\"}\"       |\n",
      "|\"\"Lady Wray\"\"}\"                 |\n",
      "|[Verse 1]                       |\n",
      "|\"\"Juelz Santana\"\"               |\n",
      "|[Intro]                         |\n",
      "|[Verse 1]                       |\n",
      "|[Produced by DJ Premier]        |\n",
      "|[Produced by Just Blaze]        |\n",
      "|[Verse 1]                       |\n",
      "|[Intro: Birdman]                |\n",
      "|[Produced by Timbaland]         |\n",
      "|\"\"Juelz Santana\"\"}\"             |\n",
      "|[Intro: Jay-Z, Kid Capri & Both]|\n",
      "|\"\"Juelz Santana\"\"}\"             |\n",
      "+--------------------------------+\n",
      "only showing top 20 rows\n",
      "\n"
     ]
    }
   ],
   "source": [
    "df0.select(\"lyrics\").show(truncate=False)"
   ]
  },
  {
   "cell_type": "code",
   "execution_count": 11,
   "id": "cd78a98c",
   "metadata": {},
   "outputs": [
    {
     "name": "stdout",
     "output_type": "stream",
     "text": [
      "\"\"Kanye West\"\"\n"
     ]
    }
   ],
   "source": [
    "\"\"\" result = df0.filter((df0[\"title\"].contains(\"Down and Out\")) & (df0[\"artist\"] == \"Cam'ron\")).select(\"lyrics\").collect()\n",
    "for row in result:\n",
    "    print(row[\"lyrics\"]) \"\"\""
   ]
  },
  {
   "cell_type": "code",
   "execution_count": 34,
   "id": "f612f3c2",
   "metadata": {},
   "outputs": [],
   "source": [
    "#Convert \"lyrics\" column to lowercase\n",
    "df0 = df0.withColumn(\"lyrics\", lower(df0[\"lyrics\"]))"
   ]
  },
  {
   "cell_type": "code",
   "execution_count": 35,
   "id": "2d0227e1",
   "metadata": {},
   "outputs": [],
   "source": [
    "#Replace the words \"verse\", \"1\", \"2\", \"3\", \"chorus\", \"bridge\", \"outro\", \"instrumental\", \"intro\", \"guitar\", \"solo\" for \"\"\n",
    "df0 = df0.withColumn(\"lyrics\", regexp_replace(df0[\"lyrics\"], r\"verse |[1|2|3]|chorus|bridge|outro|instrumental|intro|guitar|solo\", \"\"))"
   ]
  },
  {
   "cell_type": "code",
   "execution_count": 36,
   "id": "738a7fb6",
   "metadata": {},
   "outputs": [],
   "source": [
    "#Replace the words \"[\" and \"]\" for \"\"\n",
    "df0 = df0.withColumn(\"lyrics\", regexp_replace(df0[\"lyrics\"], r\"\\[\", \"\"))\n",
    "df0 = df0.withColumn(\"lyrics\", regexp_replace(df0[\"lyrics\"], r\"\\]\", \"\"))"
   ]
  },
  {
   "cell_type": "code",
   "execution_count": 37,
   "id": "5782d77e",
   "metadata": {},
   "outputs": [],
   "source": [
    "#Replace the words \"(\", \")\" and \"-\" for \"\"\n",
    "df0 = df0.withColumn(\"lyrics\", regexp_replace(\"lyrics\", r\"[^\\w\\d'\\s]+\", \"\"))\n",
    "df0 = df0.withColumn(\"lyrics\", regexp_replace(\"lyrics\", \"efil ym fo flah\", \"\"))"
   ]
  },
  {
   "cell_type": "code",
   "execution_count": 38,
   "id": "0e0c4051",
   "metadata": {},
   "outputs": [],
   "source": [
    "#Remove the \"\\n\" and replace for \" \"\n",
    "df0 = df0.withColumn(\"lyrics\", regexp_replace(\"lyrics\", \"\\n\", \" \"))"
   ]
  },
  {
   "cell_type": "code",
   "execution_count": 39,
   "id": "e547cec1",
   "metadata": {},
   "outputs": [],
   "source": [
    "df0 = df0.withColumn(\"lyrics\", trim(df0[\"lyrics\"]))"
   ]
  },
  {
   "cell_type": "code",
   "execution_count": 40,
   "id": "b77731ea",
   "metadata": {},
   "outputs": [
    {
     "name": "stdout",
     "output_type": "stream",
     "text": [
      "+-----+---+------+----+------+------+\n",
      "|title|tag|artist|year|lyrics|decade|\n",
      "+-----+---+------+----+------+------+\n",
      "|    0|  0|     0|   0|     0|     0|\n",
      "+-----+---+------+----+------+------+\n",
      "\n"
     ]
    }
   ],
   "source": [
    "# Create a new column with Boolean values indicating whether each row is null or not\n",
    "df_with_nulls1 = df0.select([sum(col(c).isNull().cast(\"int\")).alias(c) for c in df0.columns])\n",
    "\n",
    "# Display the result\n",
    "df_with_nulls1.show()"
   ]
  },
  {
   "cell_type": "code",
   "execution_count": 22,
   "id": "a574cbce",
   "metadata": {},
   "outputs": [
    {
     "name": "stdout",
     "output_type": "stream",
     "text": [
      "+--------------------+---+---------+----+--------------------+------+\n",
      "|               title|tag|   artist|year|              lyrics|decade|\n",
      "+--------------------+---+---------+----+--------------------+------+\n",
      "|           Killa Cam|rap|  Cam'ron|2004|         opera steve|  000s|\n",
      "|          Can I Live|rap|    JAY-Z|1996|produced by irv g...|   90s|\n",
      "|   Forgive Me Father|rap| Fabolous|2003|maybe cause i'm e...|  000s|\n",
      "|        Down and Out|rap|  Cam'ron|2004|          kanye west|  000s|\n",
      "|              Fly In|rap|Lil Wayne|2005|                    |  000s|\n",
      "|      Lollipop Remix|rap|Lil Wayne|2008|        static major|  000s|\n",
      "|          Im Not You|rap|   Clipse|2002|  roscoe p coldchain|  000s|\n",
      "|         Family Ties|rap|  Cam'ron|2004|           lady wray|  000s|\n",
      "|   Rockin and Rollin|rap|  Cam'ron|1998|                    |   90s|\n",
      "|       Lord You Know|rap|  Cam'ron|2004|       juelz santana|  000s|\n",
      "|    Money On My Mind|rap|Lil Wayne|2005|                    |  000s|\n",
      "|     Think Yall Know|rap| Fabolous|2003|                    |  000s|\n",
      "|              DEvils|rap|    JAY-Z|1996|produced by dj pr...|   90s|\n",
      "|        December 4th|rap|    JAY-Z|2003|produced by just ...|  000s|\n",
      "|        98 Freestyle|rap|    Big L|2000|                    |  000s|\n",
      "|What Happened to ...|rap|  Birdman|2002|             birdman|  000s|\n",
      "|Its Hot Some Like...|rap|    JAY-Z|1999|produced by timba...|   90s|\n",
      "| Losing Weight Pt. 2|rap|  Cam'ron|2002|       juelz santana|  000s|\n",
      "|       Its Like That|rap|    JAY-Z|1998|jayz kid capri  both|   90s|\n",
      "|  More Gangsta Music|rap|  Cam'ron|2004|       juelz santana|  000s|\n",
      "+--------------------+---+---------+----+--------------------+------+\n",
      "only showing top 20 rows\n",
      "\n"
     ]
    }
   ],
   "source": [
    "df0.show()"
   ]
  },
  {
   "cell_type": "code",
   "execution_count": null,
   "id": "896caf9e",
   "metadata": {},
   "outputs": [],
   "source": [
    "#df0 = df0.withColumn(\"lyrics\", regexp_replace(df0[\"lyrics\"], r'\\[.*?\\]', ''))\n"
   ]
  },
  {
   "cell_type": "code",
   "execution_count": 14,
   "id": "fa437c6e",
   "metadata": {},
   "outputs": [],
   "source": []
  },
  {
   "cell_type": "code",
   "execution_count": 13,
   "id": "700b6b53",
   "metadata": {},
   "outputs": [],
   "source": []
  },
  {
   "cell_type": "code",
   "execution_count": 20,
   "id": "16a1ef1a",
   "metadata": {},
   "outputs": [],
   "source": [
    "#Remove the \"\\n\" and replace the \"efil ym fo flah\" for \"\"\n",
    "df0 = df0.withColumn(\"lyrics\", regexp_replace(\"lyrics\", r\"[^\\w\\d'\\s]+\", \"\"))\n",
    "df0 = df0.withColumn(\"lyrics\", regexp_replace(\"lyrics\", \"efil ym fo flah\", \"\"))\n"
   ]
  },
  {
   "cell_type": "code",
   "execution_count": 21,
   "id": "1d2cb057",
   "metadata": {},
   "outputs": [
    {
     "name": "stdout",
     "output_type": "stream",
     "text": [
      "+--------------------+---+---------+----+--------------------+------+\n",
      "|               title|tag|   artist|year|              lyrics|decade|\n",
      "+--------------------+---+---------+----+--------------------+------+\n",
      "|           Killa Cam|rap|  Cam'ron|2004|         opera steve|  000s|\n",
      "|          Can I Live|rap|    JAY-Z|1996|produced by irv g...|   90s|\n",
      "|   Forgive Me Father|rap| Fabolous|2003|maybe cause i'm e...|  000s|\n",
      "|        Down and Out|rap|  Cam'ron|2004|          kanye west|  000s|\n",
      "|              Fly In|rap|Lil Wayne|2005|                    |  000s|\n",
      "|      Lollipop Remix|rap|Lil Wayne|2008|        static major|  000s|\n",
      "|          Im Not You|rap|   Clipse|2002|  roscoe p coldchain|  000s|\n",
      "|         Family Ties|rap|  Cam'ron|2004|           lady wray|  000s|\n",
      "|   Rockin and Rollin|rap|  Cam'ron|1998|                    |   90s|\n",
      "|       Lord You Know|rap|  Cam'ron|2004|       juelz santana|  000s|\n",
      "|    Money On My Mind|rap|Lil Wayne|2005|                    |  000s|\n",
      "|     Think Yall Know|rap| Fabolous|2003|                    |  000s|\n",
      "|              DEvils|rap|    JAY-Z|1996|produced by dj pr...|   90s|\n",
      "|        December 4th|rap|    JAY-Z|2003|produced by just ...|  000s|\n",
      "|        98 Freestyle|rap|    Big L|2000|                    |  000s|\n",
      "|What Happened to ...|rap|  Birdman|2002|             birdman|  000s|\n",
      "|Its Hot Some Like...|rap|    JAY-Z|1999|produced by timba...|   90s|\n",
      "| Losing Weight Pt. 2|rap|  Cam'ron|2002|       juelz santana|  000s|\n",
      "|       Its Like That|rap|    JAY-Z|1998| jayz kid capri  ...|   90s|\n",
      "|  More Gangsta Music|rap|  Cam'ron|2004|       juelz santana|  000s|\n",
      "+--------------------+---+---------+----+--------------------+------+\n",
      "only showing top 20 rows\n",
      "\n"
     ]
    }
   ],
   "source": [
    "df0.show()"
   ]
  },
  {
   "attachments": {},
   "cell_type": "markdown",
   "id": "4ab648fc-35e7-4229-8088-51e6c1aebf85",
   "metadata": {
    "jp-MarkdownHeadingCollapsed": true,
    "tags": []
   },
   "source": [
    "# Data Visualization"
   ]
  },
  {
   "cell_type": "code",
   "execution_count": 3,
   "id": "dcf0f01c-cc84-4a66-9b90-34b1b807b86b",
   "metadata": {},
   "outputs": [
    {
     "data": {
      "text/html": [
       "<div>\n",
       "<style scoped>\n",
       "    .dataframe tbody tr th:only-of-type {\n",
       "        vertical-align: middle;\n",
       "    }\n",
       "\n",
       "    .dataframe tbody tr th {\n",
       "        vertical-align: top;\n",
       "    }\n",
       "\n",
       "    .dataframe thead th {\n",
       "        text-align: right;\n",
       "    }\n",
       "</style>\n",
       "<table border=\"1\" class=\"dataframe\">\n",
       "  <thead>\n",
       "    <tr style=\"text-align: right;\">\n",
       "      <th></th>\n",
       "      <th>title</th>\n",
       "      <th>tag</th>\n",
       "      <th>artist</th>\n",
       "      <th>year</th>\n",
       "      <th>views</th>\n",
       "      <th>features</th>\n",
       "      <th>lyrics</th>\n",
       "      <th>id</th>\n",
       "    </tr>\n",
       "  </thead>\n",
       "  <tbody>\n",
       "    <tr>\n",
       "      <th>0</th>\n",
       "      <td>Killa Cam</td>\n",
       "      <td>rap</td>\n",
       "      <td>Cam'ron</td>\n",
       "      <td>2004</td>\n",
       "      <td>173166</td>\n",
       "      <td>{\"Cam\\\\'ron\",\"Opera Steve\"}</td>\n",
       "      <td>[Chorus: Opera Steve &amp; Cam'ron]\\nKilla Cam, Ki...</td>\n",
       "      <td>1</td>\n",
       "    </tr>\n",
       "    <tr>\n",
       "      <th>1</th>\n",
       "      <td>Can I Live</td>\n",
       "      <td>rap</td>\n",
       "      <td>JAY-Z</td>\n",
       "      <td>1996</td>\n",
       "      <td>468624</td>\n",
       "      <td>{}</td>\n",
       "      <td>[Produced by Irv Gotti]\\n\\n[Intro]\\nYeah, hah,...</td>\n",
       "      <td>3</td>\n",
       "    </tr>\n",
       "    <tr>\n",
       "      <th>2</th>\n",
       "      <td>Forgive Me Father</td>\n",
       "      <td>rap</td>\n",
       "      <td>Fabolous</td>\n",
       "      <td>2003</td>\n",
       "      <td>4743</td>\n",
       "      <td>{}</td>\n",
       "      <td>Maybe cause I'm eatin\\nAnd these bastards fien...</td>\n",
       "      <td>4</td>\n",
       "    </tr>\n",
       "    <tr>\n",
       "      <th>3</th>\n",
       "      <td>Down and Out</td>\n",
       "      <td>rap</td>\n",
       "      <td>Cam'ron</td>\n",
       "      <td>2004</td>\n",
       "      <td>144404</td>\n",
       "      <td>{\"Cam\\\\'ron\",\"Kanye West\",\"Syleena Johnson\"}</td>\n",
       "      <td>[Produced by Kanye West and Brian Miller]\\n\\n[...</td>\n",
       "      <td>5</td>\n",
       "    </tr>\n",
       "    <tr>\n",
       "      <th>4</th>\n",
       "      <td>Fly In</td>\n",
       "      <td>rap</td>\n",
       "      <td>Lil Wayne</td>\n",
       "      <td>2005</td>\n",
       "      <td>78271</td>\n",
       "      <td>{}</td>\n",
       "      <td>[Intro]\\nSo they ask me\\n\"Young boy\\nWhat you ...</td>\n",
       "      <td>6</td>\n",
       "    </tr>\n",
       "  </tbody>\n",
       "</table>\n",
       "</div>"
      ],
      "text/plain": [
       "               title  tag     artist  year   views  \\\n",
       "0          Killa Cam  rap    Cam'ron  2004  173166   \n",
       "1         Can I Live  rap      JAY-Z  1996  468624   \n",
       "2  Forgive Me Father  rap   Fabolous  2003    4743   \n",
       "3       Down and Out  rap    Cam'ron  2004  144404   \n",
       "4             Fly In  rap  Lil Wayne  2005   78271   \n",
       "\n",
       "                                       features  \\\n",
       "0                   {\"Cam\\\\'ron\",\"Opera Steve\"}   \n",
       "1                                            {}   \n",
       "2                                            {}   \n",
       "3  {\"Cam\\\\'ron\",\"Kanye West\",\"Syleena Johnson\"}   \n",
       "4                                            {}   \n",
       "\n",
       "                                              lyrics  id  \n",
       "0  [Chorus: Opera Steve & Cam'ron]\\nKilla Cam, Ki...   1  \n",
       "1  [Produced by Irv Gotti]\\n\\n[Intro]\\nYeah, hah,...   3  \n",
       "2  Maybe cause I'm eatin\\nAnd these bastards fien...   4  \n",
       "3  [Produced by Kanye West and Brian Miller]\\n\\n[...   5  \n",
       "4  [Intro]\\nSo they ask me\\n\"Young boy\\nWhat you ...   6  "
      ]
     },
     "execution_count": 3,
     "metadata": {},
     "output_type": "execute_result"
    }
   ],
   "source": [
    "data.head()"
   ]
  },
  {
   "cell_type": "code",
   "execution_count": 6,
   "id": "3f216c7c-ace9-43f0-8fbe-20eb0a8225ea",
   "metadata": {},
   "outputs": [
    {
     "data": {
      "text/html": [
       "<div>\n",
       "<style scoped>\n",
       "    .dataframe tbody tr th:only-of-type {\n",
       "        vertical-align: middle;\n",
       "    }\n",
       "\n",
       "    .dataframe tbody tr th {\n",
       "        vertical-align: top;\n",
       "    }\n",
       "\n",
       "    .dataframe thead th {\n",
       "        text-align: right;\n",
       "    }\n",
       "</style>\n",
       "<table border=\"1\" class=\"dataframe\">\n",
       "  <thead>\n",
       "    <tr style=\"text-align: right;\">\n",
       "      <th></th>\n",
       "      <th>title</th>\n",
       "      <th>tag</th>\n",
       "      <th>artist</th>\n",
       "      <th>year</th>\n",
       "      <th>views</th>\n",
       "      <th>features</th>\n",
       "      <th>lyrics</th>\n",
       "      <th>id</th>\n",
       "    </tr>\n",
       "  </thead>\n",
       "  <tbody>\n",
       "    <tr>\n",
       "      <th>5913406</th>\n",
       "      <td>Raise Our Hands</td>\n",
       "      <td>pop</td>\n",
       "      <td>Culture Code, Pag &amp; Mylo</td>\n",
       "      <td>2016</td>\n",
       "      <td>3</td>\n",
       "      <td>{Elex,\"Culture Code / Pag &amp; Mylo\"}</td>\n",
       "      <td>[Verse 1]\\nHere our purpose feels alive\\nWe ar...</td>\n",
       "      <td>7882845</td>\n",
       "    </tr>\n",
       "    <tr>\n",
       "      <th>5913407</th>\n",
       "      <td>CEO</td>\n",
       "      <td>rap</td>\n",
       "      <td>Antropolita</td>\n",
       "      <td>2022</td>\n",
       "      <td>5</td>\n",
       "      <td>{}</td>\n",
       "      <td>Jestem CEO w tym\\nTo jara twoją bitch\\nNikt na...</td>\n",
       "      <td>7882846</td>\n",
       "    </tr>\n",
       "    <tr>\n",
       "      <th>5913408</th>\n",
       "      <td>JokAir - Big Drip ft. ARÓN  LineMa Traducción ...</td>\n",
       "      <td>rap</td>\n",
       "      <td>Genius Traducciones al Espaol</td>\n",
       "      <td>2022</td>\n",
       "      <td>1</td>\n",
       "      <td>{\"Genius Traducciones al Español\"}</td>\n",
       "      <td>[Instrumental]</td>\n",
       "      <td>7882847</td>\n",
       "    </tr>\n",
       "    <tr>\n",
       "      <th>5913409</th>\n",
       "      <td>New Number</td>\n",
       "      <td>country</td>\n",
       "      <td>Alana Springsteen</td>\n",
       "      <td>2022</td>\n",
       "      <td>1</td>\n",
       "      <td>{}</td>\n",
       "      <td>[Verse 1]\\nYou need a new number, one that ain...</td>\n",
       "      <td>7882848</td>\n",
       "    </tr>\n",
       "    <tr>\n",
       "      <th>5913410</th>\n",
       "      <td>Gone</td>\n",
       "      <td>rap</td>\n",
       "      <td>VAPO</td>\n",
       "      <td>2022</td>\n",
       "      <td>2</td>\n",
       "      <td>{\"Loco (로꼬)\"}</td>\n",
       "      <td>[Instrumental]</td>\n",
       "      <td>7882849</td>\n",
       "    </tr>\n",
       "  </tbody>\n",
       "</table>\n",
       "</div>"
      ],
      "text/plain": [
       "                                                     title      tag  \\\n",
       "5913406                                    Raise Our Hands      pop   \n",
       "5913407                                                CEO      rap   \n",
       "5913408  JokAir - Big Drip ft. ARÓN  LineMa Traducción ...      rap   \n",
       "5913409                                         New Number  country   \n",
       "5913410                                               Gone      rap   \n",
       "\n",
       "                                artist  year  views  \\\n",
       "5913406       Culture Code, Pag & Mylo  2016      3   \n",
       "5913407                    Antropolita  2022      5   \n",
       "5913408  Genius Traducciones al Espaol  2022      1   \n",
       "5913409              Alana Springsteen  2022      1   \n",
       "5913410                           VAPO  2022      2   \n",
       "\n",
       "                                   features  \\\n",
       "5913406  {Elex,\"Culture Code / Pag & Mylo\"}   \n",
       "5913407                                  {}   \n",
       "5913408  {\"Genius Traducciones al Español\"}   \n",
       "5913409                                  {}   \n",
       "5913410                       {\"Loco (로꼬)\"}   \n",
       "\n",
       "                                                    lyrics       id  \n",
       "5913406  [Verse 1]\\nHere our purpose feels alive\\nWe ar...  7882845  \n",
       "5913407  Jestem CEO w tym\\nTo jara twoją bitch\\nNikt na...  7882846  \n",
       "5913408                                     [Instrumental]  7882847  \n",
       "5913409  [Verse 1]\\nYou need a new number, one that ain...  7882848  \n",
       "5913410                                     [Instrumental]  7882849  "
      ]
     },
     "execution_count": 6,
     "metadata": {},
     "output_type": "execute_result"
    }
   ],
   "source": [
    "data.tail()"
   ]
  },
  {
   "cell_type": "code",
   "execution_count": 7,
   "id": "40fc663d-4782-41cd-8c9f-69f7d635a3b1",
   "metadata": {},
   "outputs": [
    {
     "name": "stdout",
     "output_type": "stream",
     "text": [
      "<class 'pandas.core.frame.DataFrame'>\n",
      "RangeIndex: 5913411 entries, 0 to 5913410\n",
      "Data columns (total 8 columns):\n",
      " #   Column    Dtype \n",
      "---  ------    ----- \n",
      " 0   title     object\n",
      " 1   tag       object\n",
      " 2   artist    object\n",
      " 3   year      int64 \n",
      " 4   views     int64 \n",
      " 5   features  object\n",
      " 6   lyrics    object\n",
      " 7   id        int64 \n",
      "dtypes: int64(3), object(5)\n",
      "memory usage: 360.9+ MB\n"
     ]
    }
   ],
   "source": [
    "data.info()"
   ]
  },
  {
   "cell_type": "code",
   "execution_count": 8,
   "id": "4f1239a1-1a11-40e5-a4b9-fd077c5c4ef4",
   "metadata": {},
   "outputs": [
    {
     "data": {
      "text/html": [
       "<div>\n",
       "<style scoped>\n",
       "    .dataframe tbody tr th:only-of-type {\n",
       "        vertical-align: middle;\n",
       "    }\n",
       "\n",
       "    .dataframe tbody tr th {\n",
       "        vertical-align: top;\n",
       "    }\n",
       "\n",
       "    .dataframe thead th {\n",
       "        text-align: right;\n",
       "    }\n",
       "</style>\n",
       "<table border=\"1\" class=\"dataframe\">\n",
       "  <thead>\n",
       "    <tr style=\"text-align: right;\">\n",
       "      <th></th>\n",
       "      <th>year</th>\n",
       "      <th>views</th>\n",
       "      <th>id</th>\n",
       "    </tr>\n",
       "  </thead>\n",
       "  <tbody>\n",
       "    <tr>\n",
       "      <th>count</th>\n",
       "      <td>5.913411e+06</td>\n",
       "      <td>5.913411e+06</td>\n",
       "      <td>5.913411e+06</td>\n",
       "    </tr>\n",
       "    <tr>\n",
       "      <th>mean</th>\n",
       "      <td>2.010663e+03</td>\n",
       "      <td>2.670159e+03</td>\n",
       "      <td>4.028247e+06</td>\n",
       "    </tr>\n",
       "    <tr>\n",
       "      <th>std</th>\n",
       "      <td>4.430131e+01</td>\n",
       "      <td>4.409858e+04</td>\n",
       "      <td>2.296420e+06</td>\n",
       "    </tr>\n",
       "    <tr>\n",
       "      <th>min</th>\n",
       "      <td>1.000000e+00</td>\n",
       "      <td>0.000000e+00</td>\n",
       "      <td>1.000000e+00</td>\n",
       "    </tr>\n",
       "    <tr>\n",
       "      <th>25%</th>\n",
       "      <td>2.010000e+03</td>\n",
       "      <td>1.600000e+01</td>\n",
       "      <td>1.821168e+06</td>\n",
       "    </tr>\n",
       "    <tr>\n",
       "      <th>50%</th>\n",
       "      <td>2.016000e+03</td>\n",
       "      <td>6.400000e+01</td>\n",
       "      <td>4.161274e+06</td>\n",
       "    </tr>\n",
       "    <tr>\n",
       "      <th>75%</th>\n",
       "      <td>2.019000e+03</td>\n",
       "      <td>3.490000e+02</td>\n",
       "      <td>6.007914e+06</td>\n",
       "    </tr>\n",
       "    <tr>\n",
       "      <th>max</th>\n",
       "      <td>2.100000e+03</td>\n",
       "      <td>2.335142e+07</td>\n",
       "      <td>7.882849e+06</td>\n",
       "    </tr>\n",
       "  </tbody>\n",
       "</table>\n",
       "</div>"
      ],
      "text/plain": [
       "               year         views            id\n",
       "count  5.913411e+06  5.913411e+06  5.913411e+06\n",
       "mean   2.010663e+03  2.670159e+03  4.028247e+06\n",
       "std    4.430131e+01  4.409858e+04  2.296420e+06\n",
       "min    1.000000e+00  0.000000e+00  1.000000e+00\n",
       "25%    2.010000e+03  1.600000e+01  1.821168e+06\n",
       "50%    2.016000e+03  6.400000e+01  4.161274e+06\n",
       "75%    2.019000e+03  3.490000e+02  6.007914e+06\n",
       "max    2.100000e+03  2.335142e+07  7.882849e+06"
      ]
     },
     "execution_count": 8,
     "metadata": {},
     "output_type": "execute_result"
    }
   ],
   "source": [
    "data.describe()"
   ]
  },
  {
   "cell_type": "code",
   "execution_count": 10,
   "id": "243d694f-89dd-4c6d-9ccb-32355325cfc8",
   "metadata": {},
   "outputs": [
    {
     "data": {
      "text/plain": [
       "pop        2519256\n",
       "rap        1962010\n",
       "rock        892220\n",
       "rb          225342\n",
       "misc        208714\n",
       "country     105869\n",
       "Name: tag, dtype: int64"
      ]
     },
     "execution_count": 10,
     "metadata": {},
     "output_type": "execute_result"
    }
   ],
   "source": [
    "data_tag = data['tag'].value_counts()\n",
    "data_tag"
   ]
  },
  {
   "cell_type": "code",
   "execution_count": 11,
   "id": "c30be183-94b6-46c0-89e1-cddf5d9b0b3c",
   "metadata": {},
   "outputs": [
    {
     "data": {
      "text/plain": [
       "2020    683728\n",
       "2021    630730\n",
       "2019    576789\n",
       "2015    521246\n",
       "2018    481585\n",
       "         ...  \n",
       "1100         1\n",
       "1437         1\n",
       "936          1\n",
       "1769         1\n",
       "615          1\n",
       "Name: year, Length: 747, dtype: int64"
      ]
     },
     "execution_count": 11,
     "metadata": {},
     "output_type": "execute_result"
    }
   ],
   "source": [
    "data_year = data['year'].value_counts()\n",
    "data_year"
   ]
  },
  {
   "cell_type": "code",
   "execution_count": null,
   "id": "737cc607-b58b-4e59-bb7a-e6a14143e687",
   "metadata": {},
   "outputs": [],
   "source": []
  }
 ],
 "metadata": {
  "kernelspec": {
   "display_name": "Python 3",
   "language": "python",
   "name": "python3"
  },
  "language_info": {
   "codemirror_mode": {
    "name": "ipython",
    "version": 3
   },
   "file_extension": ".py",
   "mimetype": "text/x-python",
   "name": "python",
   "nbconvert_exporter": "python",
   "pygments_lexer": "ipython3",
   "version": "3.9.0"
  }
 },
 "nbformat": 4,
 "nbformat_minor": 5
}
