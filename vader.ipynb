{
 "cells": [
  {
   "attachments": {},
   "cell_type": "markdown",
   "metadata": {},
   "source": [
    "# Load data"
   ]
  },
  {
   "cell_type": "code",
   "execution_count": 1,
   "metadata": {},
   "outputs": [],
   "source": [
    "import pandas as pd\n",
    "import string\n",
    "import numpy as np\n",
    "\n",
    "import nltk\n",
    "from nltk.tokenize import word_tokenize\n",
    "from nltk.stem import WordNetLemmatizer \n",
    "from nltk.corpus import stopwords\n",
    "from nltk.sentiment import SentimentIntensityAnalyzer\n",
    "\n",
    "import plotly.express as px\n",
    "import plotly.io as pio"
   ]
  },
  {
   "cell_type": "code",
   "execution_count": 2,
   "metadata": {},
   "outputs": [
    {
     "data": {
      "text/html": [
       "<div>\n",
       "<style scoped>\n",
       "    .dataframe tbody tr th:only-of-type {\n",
       "        vertical-align: middle;\n",
       "    }\n",
       "\n",
       "    .dataframe tbody tr th {\n",
       "        vertical-align: top;\n",
       "    }\n",
       "\n",
       "    .dataframe thead th {\n",
       "        text-align: right;\n",
       "    }\n",
       "</style>\n",
       "<table border=\"1\" class=\"dataframe\">\n",
       "  <thead>\n",
       "    <tr style=\"text-align: right;\">\n",
       "      <th></th>\n",
       "      <th>lyrics</th>\n",
       "      <th>sentiment</th>\n",
       "    </tr>\n",
       "  </thead>\n",
       "  <tbody>\n",
       "    <tr>\n",
       "      <th>0</th>\n",
       "      <td>eliminate incompetent difference dont exist ha...</td>\n",
       "      <td>negative</td>\n",
       "    </tr>\n",
       "    <tr>\n",
       "      <th>1</th>\n",
       "      <td>hey oh hey yeah hey baby hey baby phone ringin...</td>\n",
       "      <td>positive</td>\n",
       "    </tr>\n",
       "    <tr>\n",
       "      <th>2</th>\n",
       "      <td>shadow dream dream shadow analogy shadow dream...</td>\n",
       "      <td>positive</td>\n",
       "    </tr>\n",
       "    <tr>\n",
       "      <th>3</th>\n",
       "      <td>every day clouding mind every day world redefi...</td>\n",
       "      <td>positive</td>\n",
       "    </tr>\n",
       "    <tr>\n",
       "      <th>4</th>\n",
       "      <td>call upon innocent call upon weak call avatar ...</td>\n",
       "      <td>neutral</td>\n",
       "    </tr>\n",
       "  </tbody>\n",
       "</table>\n",
       "</div>"
      ],
      "text/plain": [
       "                                              lyrics sentiment\n",
       "0  eliminate incompetent difference dont exist ha...  negative\n",
       "1  hey oh hey yeah hey baby hey baby phone ringin...  positive\n",
       "2  shadow dream dream shadow analogy shadow dream...  positive\n",
       "3  every day clouding mind every day world redefi...  positive\n",
       "4  call upon innocent call upon weak call avatar ...   neutral"
      ]
     },
     "execution_count": 2,
     "metadata": {},
     "output_type": "execute_result"
    }
   ],
   "source": [
    "df_test = pd.read_csv('test.csv')\n",
    "df_test.head()"
   ]
  },
  {
   "cell_type": "code",
   "execution_count": 3,
   "metadata": {},
   "outputs": [
    {
     "name": "stdout",
     "output_type": "stream",
     "text": [
      "lyrics       74\n",
      "sentiment     0\n",
      "dtype: int64\n"
     ]
    }
   ],
   "source": [
    "print(df_test.isnull().sum())\n",
    "df_test = df_test.dropna()"
   ]
  },
  {
   "cell_type": "code",
   "execution_count": 4,
   "metadata": {},
   "outputs": [],
   "source": [
    "def unique(list1):\n",
    "   # intilize a null list\n",
    "     unique_list = []\n",
    "   # traverse for all elements\n",
    "     for x in list1:\n",
    "         # check if exists in unique_list or not\n",
    "         if x not in unique_list:\n",
    "              unique_list.append(x)\n",
    "     return unique_list"
   ]
  },
  {
   "cell_type": "code",
   "execution_count": 5,
   "metadata": {},
   "outputs": [
    {
     "name": "stderr",
     "output_type": "stream",
     "text": [
      "[nltk_data] Downloading package vader_lexicon to\n",
      "[nltk_data]     /home/pereira/nltk_data...\n",
      "[nltk_data]   Package vader_lexicon is already up-to-date!\n"
     ]
    }
   ],
   "source": [
    "nltk.download('vader_lexicon')\n",
    "sia = SentimentIntensityAnalyzer()\n",
    "\n",
    "comp_score = []\n",
    "sentiment = []\n",
    "\n",
    "for i in df_test.loc[:,'lyrics']:\n",
    "    sentiment.append(sia.polarity_scores(i))\n",
    "\n",
    "\n",
    "df_test.loc[:,'sent_scores'] = sentiment\n",
    "df_test.loc[:,'comp_score'] = df_test.loc[:,'sent_scores'].apply(lambda x: x['compound'])\n",
    "df_test.loc[:,'sentiment_vader'] = df_test.loc[:,'comp_score'].apply(lambda x: 'positive' if x>0.2 else 'negative' if x<-0.2 else 'neutral')"
   ]
  },
  {
   "cell_type": "code",
   "execution_count": 6,
   "metadata": {},
   "outputs": [],
   "source": [
    "df = df_test.rename(columns={'comp_score': 'label_vader'})"
   ]
  },
  {
   "attachments": {},
   "cell_type": "markdown",
   "metadata": {},
   "source": [
    "# Data Visualization"
   ]
  },
  {
   "cell_type": "code",
   "execution_count": 7,
   "metadata": {},
   "outputs": [
    {
     "data": {
      "text/html": [
       "<div>\n",
       "<style scoped>\n",
       "    .dataframe tbody tr th:only-of-type {\n",
       "        vertical-align: middle;\n",
       "    }\n",
       "\n",
       "    .dataframe tbody tr th {\n",
       "        vertical-align: top;\n",
       "    }\n",
       "\n",
       "    .dataframe thead th {\n",
       "        text-align: right;\n",
       "    }\n",
       "</style>\n",
       "<table border=\"1\" class=\"dataframe\">\n",
       "  <thead>\n",
       "    <tr style=\"text-align: right;\">\n",
       "      <th></th>\n",
       "      <th>lyrics</th>\n",
       "      <th>sentiment</th>\n",
       "      <th>sent_scores</th>\n",
       "      <th>label_vader</th>\n",
       "      <th>sentiment_vader</th>\n",
       "    </tr>\n",
       "  </thead>\n",
       "  <tbody>\n",
       "    <tr>\n",
       "      <th>0</th>\n",
       "      <td>eliminate incompetent difference dont exist ha...</td>\n",
       "      <td>negative</td>\n",
       "      <td>{'neg': 0.238, 'neu': 0.735, 'pos': 0.028, 'co...</td>\n",
       "      <td>-0.9537</td>\n",
       "      <td>negative</td>\n",
       "    </tr>\n",
       "    <tr>\n",
       "      <th>1</th>\n",
       "      <td>hey oh hey yeah hey baby hey baby phone ringin...</td>\n",
       "      <td>positive</td>\n",
       "      <td>{'neg': 0.064, 'neu': 0.477, 'pos': 0.459, 'co...</td>\n",
       "      <td>0.9994</td>\n",
       "      <td>positive</td>\n",
       "    </tr>\n",
       "    <tr>\n",
       "      <th>2</th>\n",
       "      <td>shadow dream dream shadow analogy shadow dream...</td>\n",
       "      <td>positive</td>\n",
       "      <td>{'neg': 0.098, 'neu': 0.593, 'pos': 0.309, 'co...</td>\n",
       "      <td>0.9951</td>\n",
       "      <td>positive</td>\n",
       "    </tr>\n",
       "    <tr>\n",
       "      <th>3</th>\n",
       "      <td>every day clouding mind every day world redefi...</td>\n",
       "      <td>positive</td>\n",
       "      <td>{'neg': 0.075, 'neu': 0.774, 'pos': 0.151, 'co...</td>\n",
       "      <td>0.9143</td>\n",
       "      <td>positive</td>\n",
       "    </tr>\n",
       "    <tr>\n",
       "      <th>4</th>\n",
       "      <td>call upon innocent call upon weak call avatar ...</td>\n",
       "      <td>neutral</td>\n",
       "      <td>{'neg': 0.163, 'neu': 0.592, 'pos': 0.245, 'co...</td>\n",
       "      <td>0.9201</td>\n",
       "      <td>positive</td>\n",
       "    </tr>\n",
       "    <tr>\n",
       "      <th>...</th>\n",
       "      <td>...</td>\n",
       "      <td>...</td>\n",
       "      <td>...</td>\n",
       "      <td>...</td>\n",
       "      <td>...</td>\n",
       "    </tr>\n",
       "    <tr>\n",
       "      <th>47501</th>\n",
       "      <td>mama told didnt like rock roll said please mam...</td>\n",
       "      <td>positive</td>\n",
       "      <td>{'neg': 0.036, 'neu': 0.801, 'pos': 0.163, 'co...</td>\n",
       "      <td>0.8820</td>\n",
       "      <td>positive</td>\n",
       "    </tr>\n",
       "    <tr>\n",
       "      <th>47502</th>\n",
       "      <td>feel life rut modern world much want remove pa...</td>\n",
       "      <td>neutral</td>\n",
       "      <td>{'neg': 0.175, 'neu': 0.664, 'pos': 0.161, 'co...</td>\n",
       "      <td>-0.5856</td>\n",
       "      <td>negative</td>\n",
       "    </tr>\n",
       "    <tr>\n",
       "      <th>47503</th>\n",
       "      <td>many time said forever said love would always ...</td>\n",
       "      <td>neutral</td>\n",
       "      <td>{'neg': 0.156, 'neu': 0.601, 'pos': 0.243, 'co...</td>\n",
       "      <td>0.9302</td>\n",
       "      <td>positive</td>\n",
       "    </tr>\n",
       "    <tr>\n",
       "      <th>47504</th>\n",
       "      <td>ive never happy see photograph graced company ...</td>\n",
       "      <td>negative</td>\n",
       "      <td>{'neg': 0.157, 'neu': 0.523, 'pos': 0.32, 'com...</td>\n",
       "      <td>0.9325</td>\n",
       "      <td>positive</td>\n",
       "    </tr>\n",
       "    <tr>\n",
       "      <th>47505</th>\n",
       "      <td>come queen bee little mini dress shouting boy ...</td>\n",
       "      <td>positive</td>\n",
       "      <td>{'neg': 0.178, 'neu': 0.695, 'pos': 0.128, 'co...</td>\n",
       "      <td>-0.7452</td>\n",
       "      <td>negative</td>\n",
       "    </tr>\n",
       "  </tbody>\n",
       "</table>\n",
       "<p>47432 rows × 5 columns</p>\n",
       "</div>"
      ],
      "text/plain": [
       "                                                  lyrics sentiment  \\\n",
       "0      eliminate incompetent difference dont exist ha...  negative   \n",
       "1      hey oh hey yeah hey baby hey baby phone ringin...  positive   \n",
       "2      shadow dream dream shadow analogy shadow dream...  positive   \n",
       "3      every day clouding mind every day world redefi...  positive   \n",
       "4      call upon innocent call upon weak call avatar ...   neutral   \n",
       "...                                                  ...       ...   \n",
       "47501  mama told didnt like rock roll said please mam...  positive   \n",
       "47502  feel life rut modern world much want remove pa...   neutral   \n",
       "47503  many time said forever said love would always ...   neutral   \n",
       "47504  ive never happy see photograph graced company ...  negative   \n",
       "47505  come queen bee little mini dress shouting boy ...  positive   \n",
       "\n",
       "                                             sent_scores  label_vader  \\\n",
       "0      {'neg': 0.238, 'neu': 0.735, 'pos': 0.028, 'co...      -0.9537   \n",
       "1      {'neg': 0.064, 'neu': 0.477, 'pos': 0.459, 'co...       0.9994   \n",
       "2      {'neg': 0.098, 'neu': 0.593, 'pos': 0.309, 'co...       0.9951   \n",
       "3      {'neg': 0.075, 'neu': 0.774, 'pos': 0.151, 'co...       0.9143   \n",
       "4      {'neg': 0.163, 'neu': 0.592, 'pos': 0.245, 'co...       0.9201   \n",
       "...                                                  ...          ...   \n",
       "47501  {'neg': 0.036, 'neu': 0.801, 'pos': 0.163, 'co...       0.8820   \n",
       "47502  {'neg': 0.175, 'neu': 0.664, 'pos': 0.161, 'co...      -0.5856   \n",
       "47503  {'neg': 0.156, 'neu': 0.601, 'pos': 0.243, 'co...       0.9302   \n",
       "47504  {'neg': 0.157, 'neu': 0.523, 'pos': 0.32, 'com...       0.9325   \n",
       "47505  {'neg': 0.178, 'neu': 0.695, 'pos': 0.128, 'co...      -0.7452   \n",
       "\n",
       "      sentiment_vader  \n",
       "0            negative  \n",
       "1            positive  \n",
       "2            positive  \n",
       "3            positive  \n",
       "4            positive  \n",
       "...               ...  \n",
       "47501        positive  \n",
       "47502        negative  \n",
       "47503        positive  \n",
       "47504        positive  \n",
       "47505        negative  \n",
       "\n",
       "[47432 rows x 5 columns]"
      ]
     },
     "execution_count": 7,
     "metadata": {},
     "output_type": "execute_result"
    }
   ],
   "source": [
    "df"
   ]
  },
  {
   "cell_type": "code",
   "execution_count": 8,
   "metadata": {},
   "outputs": [],
   "source": [
    "from sklearn.metrics import accuracy_score\n",
    "\n",
    "def calculate_accuracy(df):\n",
    "    # Verificar se as colunas \"sentiment\" e \"sentiment_vader\" existem no DataFrame\n",
    "    if 'sentiment' not in df.columns or 'sentiment_vader' not in df.columns:\n",
    "        print(\"As colunas 'sentiment' e 'sentiment_vader' são necessárias no DataFrame.\")\n",
    "        return None\n",
    "    \n",
    "    # Obter os valores das colunas de sentimento real e sentimento previsto\n",
    "    true_sentiment = df['sentiment']\n",
    "    predicted_sentiment = df['sentiment_vader']\n",
    "    \n",
    "    # Calcular a precisão (accuracy)\n",
    "    accuracy = accuracy_score(true_sentiment, predicted_sentiment)\n",
    "    \n",
    "    return accuracy"
   ]
  },
  {
   "cell_type": "code",
   "execution_count": 9,
   "metadata": {},
   "outputs": [
    {
     "name": "stdout",
     "output_type": "stream",
     "text": [
      "Accuracy of Vader: 37.44%\n"
     ]
    }
   ],
   "source": [
    "accuracy_score = calculate_accuracy(df)\n",
    "print(\"Accuracy of Vader: {:.2f}%\".format(accuracy_score * 100))"
   ]
  },
  {
   "cell_type": "code",
   "execution_count": null,
   "metadata": {},
   "outputs": [],
   "source": []
  }
 ],
 "metadata": {
  "kernelspec": {
   "display_name": "daa",
   "language": "python",
   "name": "python3"
  },
  "language_info": {
   "codemirror_mode": {
    "name": "ipython",
    "version": 3
   },
   "file_extension": ".py",
   "mimetype": "text/x-python",
   "name": "python",
   "nbconvert_exporter": "python",
   "pygments_lexer": "ipython3",
   "version": "3.9.0"
  },
  "orig_nbformat": 4
 },
 "nbformat": 4,
 "nbformat_minor": 2
}
