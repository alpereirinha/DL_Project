{
 "cells": [
  {
   "attachments": {},
   "cell_type": "markdown",
   "metadata": {},
   "source": [
    "# Load data"
   ]
  },
  {
   "cell_type": "code",
   "execution_count": 1,
   "metadata": {},
   "outputs": [],
   "source": [
    "import pandas as pd\n",
    "import string\n",
    "import numpy as np\n",
    "\n",
    "import nltk\n",
    "from nltk.tokenize import word_tokenize\n",
    "from nltk.stem import WordNetLemmatizer \n",
    "from nltk.corpus import stopwords\n",
    "from nltk.sentiment import SentimentIntensityAnalyzer\n",
    "\n",
    "import plotly.express as px\n",
    "import plotly.io as pio\n"
   ]
  },
  {
   "cell_type": "code",
   "execution_count": 2,
   "metadata": {},
   "outputs": [],
   "source": [
    "df = pd.read_csv('original_data.csv')"
   ]
  },
  {
   "cell_type": "code",
   "execution_count": 3,
   "metadata": {},
   "outputs": [
    {
     "data": {
      "text/html": [
       "<div>\n",
       "<style scoped>\n",
       "    .dataframe tbody tr th:only-of-type {\n",
       "        vertical-align: middle;\n",
       "    }\n",
       "\n",
       "    .dataframe tbody tr th {\n",
       "        vertical-align: top;\n",
       "    }\n",
       "\n",
       "    .dataframe thead th {\n",
       "        text-align: right;\n",
       "    }\n",
       "</style>\n",
       "<table border=\"1\" class=\"dataframe\">\n",
       "  <thead>\n",
       "    <tr style=\"text-align: right;\">\n",
       "      <th></th>\n",
       "      <th>artist</th>\n",
       "      <th>seq</th>\n",
       "      <th>song</th>\n",
       "      <th>label</th>\n",
       "      <th>sentiment</th>\n",
       "    </tr>\n",
       "  </thead>\n",
       "  <tbody>\n",
       "    <tr>\n",
       "      <th>0</th>\n",
       "      <td>Elijah Blake</td>\n",
       "      <td>no no  i aint ever trapped out the bando  but ...</td>\n",
       "      <td>Everyday</td>\n",
       "      <td>0.626</td>\n",
       "      <td>positive</td>\n",
       "    </tr>\n",
       "    <tr>\n",
       "      <th>1</th>\n",
       "      <td>Elijah Blake</td>\n",
       "      <td>the drinks go down and smoke goes up i feel my...</td>\n",
       "      <td>Live Till We Die</td>\n",
       "      <td>0.630</td>\n",
       "      <td>positive</td>\n",
       "    </tr>\n",
       "    <tr>\n",
       "      <th>2</th>\n",
       "      <td>Elijah Blake</td>\n",
       "      <td>she dont live on planet earth no more  she fou...</td>\n",
       "      <td>The Otherside</td>\n",
       "      <td>0.240</td>\n",
       "      <td>negative</td>\n",
       "    </tr>\n",
       "    <tr>\n",
       "      <th>3</th>\n",
       "      <td>Elijah Blake</td>\n",
       "      <td>trippin off that grigio mobbin lights low  tri...</td>\n",
       "      <td>Pinot</td>\n",
       "      <td>0.536</td>\n",
       "      <td>neutral</td>\n",
       "    </tr>\n",
       "    <tr>\n",
       "      <th>4</th>\n",
       "      <td>Elijah Blake</td>\n",
       "      <td>i see a midnight panther so gallant and so bra...</td>\n",
       "      <td>Shadows &amp; Diamonds</td>\n",
       "      <td>0.371</td>\n",
       "      <td>negative</td>\n",
       "    </tr>\n",
       "  </tbody>\n",
       "</table>\n",
       "</div>"
      ],
      "text/plain": [
       "         artist                                                seq  \\\n",
       "0  Elijah Blake  no no  i aint ever trapped out the bando  but ...   \n",
       "1  Elijah Blake  the drinks go down and smoke goes up i feel my...   \n",
       "2  Elijah Blake  she dont live on planet earth no more  she fou...   \n",
       "3  Elijah Blake  trippin off that grigio mobbin lights low  tri...   \n",
       "4  Elijah Blake  i see a midnight panther so gallant and so bra...   \n",
       "\n",
       "                 song  label sentiment  \n",
       "0            Everyday  0.626  positive  \n",
       "1    Live Till We Die  0.630  positive  \n",
       "2       The Otherside  0.240  negative  \n",
       "3               Pinot  0.536   neutral  \n",
       "4  Shadows & Diamonds  0.371  negative  "
      ]
     },
     "execution_count": 3,
     "metadata": {},
     "output_type": "execute_result"
    }
   ],
   "source": [
    "df.head()"
   ]
  },
  {
   "cell_type": "code",
   "execution_count": 4,
   "metadata": {},
   "outputs": [
    {
     "name": "stdout",
     "output_type": "stream",
     "text": [
      "artist         0\n",
      "seq          101\n",
      "song           0\n",
      "label          0\n",
      "sentiment      0\n",
      "dtype: int64\n"
     ]
    }
   ],
   "source": [
    "print(df.isnull().sum())\n",
    "df = df.dropna()"
   ]
  },
  {
   "cell_type": "code",
   "execution_count": 5,
   "metadata": {},
   "outputs": [],
   "source": [
    "def unique(list1):\n",
    "   # intilize a null list\n",
    "     unique_list = []\n",
    "   # traverse for all elements\n",
    "     for x in list1:\n",
    "         # check if exists in unique_list or not\n",
    "         if x not in unique_list:\n",
    "              unique_list.append(x)\n",
    "     return unique_list"
   ]
  },
  {
   "cell_type": "code",
   "execution_count": 6,
   "metadata": {},
   "outputs": [],
   "source": [
    "def lyrics_to_words(document):\n",
    "    \"\"\"\n",
    "    This function splits the text of lyrics to  single words, removing stopwords and doing the lemmatization to each word\n",
    "\n",
    "    parameters:\n",
    "    document: text to split to single words\n",
    "    \"\"\"\n",
    "    stop_words = set(stopwords.words('english'))\n",
    "    exclude = set(string.punctuation)\n",
    "    lemma = WordNetLemmatizer()\n",
    "    stopwordremoval = \" \".join([i for i in document.lower().split() if i not in stop_words])\n",
    "    punctuationremoval = ''.join(ch for ch in stopwordremoval if ch not in exclude)\n",
    "    normalized = \" \".join(lemma.lemmatize(word) for word in punctuationremoval.split())\n",
    "    return normalized"
   ]
  },
  {
   "cell_type": "code",
   "execution_count": 7,
   "metadata": {},
   "outputs": [
    {
     "name": "stderr",
     "output_type": "stream",
     "text": [
      "[nltk_data] Downloading package vader_lexicon to\n",
      "[nltk_data]     /home/pereira/nltk_data...\n",
      "[nltk_data]   Package vader_lexicon is already up-to-date!\n"
     ]
    }
   ],
   "source": [
    "nltk.download('vader_lexicon')\n",
    "sia = SentimentIntensityAnalyzer()\n",
    "\n",
    "comp_score = []\n",
    "sentiment = []\n",
    "\n",
    "for i in df.loc[:,'seq']:\n",
    "    sentiment.append(sia.polarity_scores(i))\n",
    "\n",
    "\n",
    "df.loc[:,'sent_scores'] = sentiment\n",
    "df.loc[:,'comp_score'] = df.loc[:,'sent_scores'].apply(lambda x: x['compound'])\n",
    "df.loc[:,'sentiment_vader'] = df.loc[:,'comp_score'].apply(lambda x: 'positive' if x>=0.6 else 'negative' if x<=-0.4 else 'neutral')"
   ]
  },
  {
   "cell_type": "code",
   "execution_count": 8,
   "metadata": {},
   "outputs": [],
   "source": [
    "df = df.drop('sent_scores', axis=1)\n",
    "df = df.drop('label', axis=1)\n",
    "df = df.drop('comp_score', axis=1)\n",
    "\n",
    "df = df.rename(columns={'comp_score': 'label_vader'})"
   ]
  },
  {
   "attachments": {},
   "cell_type": "markdown",
   "metadata": {},
   "source": [
    "# Data Visualization"
   ]
  },
  {
   "cell_type": "code",
   "execution_count": 9,
   "metadata": {},
   "outputs": [
    {
     "data": {
      "text/html": [
       "<div>\n",
       "<style scoped>\n",
       "    .dataframe tbody tr th:only-of-type {\n",
       "        vertical-align: middle;\n",
       "    }\n",
       "\n",
       "    .dataframe tbody tr th {\n",
       "        vertical-align: top;\n",
       "    }\n",
       "\n",
       "    .dataframe thead th {\n",
       "        text-align: right;\n",
       "    }\n",
       "</style>\n",
       "<table border=\"1\" class=\"dataframe\">\n",
       "  <thead>\n",
       "    <tr style=\"text-align: right;\">\n",
       "      <th></th>\n",
       "      <th>artist</th>\n",
       "      <th>seq</th>\n",
       "      <th>song</th>\n",
       "      <th>sentiment</th>\n",
       "      <th>sentiment_vader</th>\n",
       "    </tr>\n",
       "  </thead>\n",
       "  <tbody>\n",
       "    <tr>\n",
       "      <th>0</th>\n",
       "      <td>Elijah Blake</td>\n",
       "      <td>no no  i aint ever trapped out the bando  but ...</td>\n",
       "      <td>Everyday</td>\n",
       "      <td>positive</td>\n",
       "      <td>negative</td>\n",
       "    </tr>\n",
       "    <tr>\n",
       "      <th>1</th>\n",
       "      <td>Elijah Blake</td>\n",
       "      <td>the drinks go down and smoke goes up i feel my...</td>\n",
       "      <td>Live Till We Die</td>\n",
       "      <td>positive</td>\n",
       "      <td>negative</td>\n",
       "    </tr>\n",
       "    <tr>\n",
       "      <th>2</th>\n",
       "      <td>Elijah Blake</td>\n",
       "      <td>she dont live on planet earth no more  she fou...</td>\n",
       "      <td>The Otherside</td>\n",
       "      <td>negative</td>\n",
       "      <td>negative</td>\n",
       "    </tr>\n",
       "    <tr>\n",
       "      <th>3</th>\n",
       "      <td>Elijah Blake</td>\n",
       "      <td>trippin off that grigio mobbin lights low  tri...</td>\n",
       "      <td>Pinot</td>\n",
       "      <td>neutral</td>\n",
       "      <td>negative</td>\n",
       "    </tr>\n",
       "    <tr>\n",
       "      <th>4</th>\n",
       "      <td>Elijah Blake</td>\n",
       "      <td>i see a midnight panther so gallant and so bra...</td>\n",
       "      <td>Shadows &amp; Diamonds</td>\n",
       "      <td>negative</td>\n",
       "      <td>positive</td>\n",
       "    </tr>\n",
       "    <tr>\n",
       "      <th>...</th>\n",
       "      <td>...</td>\n",
       "      <td>...</td>\n",
       "      <td>...</td>\n",
       "      <td>...</td>\n",
       "      <td>...</td>\n",
       "    </tr>\n",
       "    <tr>\n",
       "      <th>158348</th>\n",
       "      <td>Adam Green</td>\n",
       "      <td>and we live on borrowed time  but this headsho...</td>\n",
       "      <td>Friends of Mine</td>\n",
       "      <td>positive</td>\n",
       "      <td>positive</td>\n",
       "    </tr>\n",
       "    <tr>\n",
       "      <th>158349</th>\n",
       "      <td>Adam Green</td>\n",
       "      <td>frozin in time forever  carrying that torch fo...</td>\n",
       "      <td>Frozen in Time</td>\n",
       "      <td>neutral</td>\n",
       "      <td>negative</td>\n",
       "    </tr>\n",
       "    <tr>\n",
       "      <th>158350</th>\n",
       "      <td>Adam Green</td>\n",
       "      <td>hard to be a girl   so nice to be a boy   in m...</td>\n",
       "      <td>Hard to Be a Girl</td>\n",
       "      <td>positive</td>\n",
       "      <td>positive</td>\n",
       "    </tr>\n",
       "    <tr>\n",
       "      <th>158351</th>\n",
       "      <td>Adam Green</td>\n",
       "      <td>i want to chose to die  and be buried with a r...</td>\n",
       "      <td>I Wanna Die</td>\n",
       "      <td>negative</td>\n",
       "      <td>neutral</td>\n",
       "    </tr>\n",
       "    <tr>\n",
       "      <th>158352</th>\n",
       "      <td>Adam Green</td>\n",
       "      <td>musical ladders  leaning on mountains  bathed ...</td>\n",
       "      <td>Musical Ladders</td>\n",
       "      <td>negative</td>\n",
       "      <td>neutral</td>\n",
       "    </tr>\n",
       "  </tbody>\n",
       "</table>\n",
       "<p>158252 rows × 5 columns</p>\n",
       "</div>"
      ],
      "text/plain": [
       "              artist                                                seq  \\\n",
       "0       Elijah Blake  no no  i aint ever trapped out the bando  but ...   \n",
       "1       Elijah Blake  the drinks go down and smoke goes up i feel my...   \n",
       "2       Elijah Blake  she dont live on planet earth no more  she fou...   \n",
       "3       Elijah Blake  trippin off that grigio mobbin lights low  tri...   \n",
       "4       Elijah Blake  i see a midnight panther so gallant and so bra...   \n",
       "...              ...                                                ...   \n",
       "158348    Adam Green  and we live on borrowed time  but this headsho...   \n",
       "158349    Adam Green  frozin in time forever  carrying that torch fo...   \n",
       "158350    Adam Green  hard to be a girl   so nice to be a boy   in m...   \n",
       "158351    Adam Green  i want to chose to die  and be buried with a r...   \n",
       "158352    Adam Green  musical ladders  leaning on mountains  bathed ...   \n",
       "\n",
       "                      song sentiment sentiment_vader  \n",
       "0                 Everyday  positive        negative  \n",
       "1         Live Till We Die  positive        negative  \n",
       "2            The Otherside  negative        negative  \n",
       "3                    Pinot   neutral        negative  \n",
       "4       Shadows & Diamonds  negative        positive  \n",
       "...                    ...       ...             ...  \n",
       "158348     Friends of Mine  positive        positive  \n",
       "158349      Frozen in Time   neutral        negative  \n",
       "158350   Hard to Be a Girl  positive        positive  \n",
       "158351         I Wanna Die  negative         neutral  \n",
       "158352     Musical Ladders  negative         neutral  \n",
       "\n",
       "[158252 rows x 5 columns]"
      ]
     },
     "execution_count": 9,
     "metadata": {},
     "output_type": "execute_result"
    }
   ],
   "source": [
    "df"
   ]
  },
  {
   "cell_type": "code",
   "execution_count": 10,
   "metadata": {},
   "outputs": [],
   "source": [
    "from sklearn.metrics import accuracy_score\n",
    "\n",
    "def calculate_accuracy(df):\n",
    "    # Verificar se as colunas \"sentiment\" e \"sentiment_vader\" existem no DataFrame\n",
    "    if 'sentiment' not in df.columns or 'sentiment_vader' not in df.columns:\n",
    "        print(\"As colunas 'sentiment' e 'sentiment_vader' são necessárias no DataFrame.\")\n",
    "        return None\n",
    "    \n",
    "    # Obter os valores das colunas de sentimento real e sentimento previsto\n",
    "    true_sentiment = df['sentiment']\n",
    "    predicted_sentiment = df['sentiment_vader']\n",
    "    \n",
    "    # Calcular a precisão (accuracy)\n",
    "    accuracy = accuracy_score(true_sentiment, predicted_sentiment)\n",
    "    \n",
    "    return accuracy"
   ]
  },
  {
   "cell_type": "code",
   "execution_count": 11,
   "metadata": {},
   "outputs": [
    {
     "name": "stdout",
     "output_type": "stream",
     "text": [
      "Acurácia do Vader: 36.82%\n"
     ]
    }
   ],
   "source": [
    "accuracy_score = calculate_accuracy(df)\n",
    "print(\"Accuracy of Vader: {:.2f}%\".format(accuracy_score * 100))"
   ]
  },
  {
   "cell_type": "code",
   "execution_count": null,
   "metadata": {},
   "outputs": [],
   "source": []
  }
 ],
 "metadata": {
  "kernelspec": {
   "display_name": "daa",
   "language": "python",
   "name": "python3"
  },
  "language_info": {
   "codemirror_mode": {
    "name": "ipython",
    "version": 3
   },
   "file_extension": ".py",
   "mimetype": "text/x-python",
   "name": "python",
   "nbconvert_exporter": "python",
   "pygments_lexer": "ipython3",
   "version": "3.9.0"
  },
  "orig_nbformat": 4
 },
 "nbformat": 4,
 "nbformat_minor": 2
}
