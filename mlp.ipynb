{
 "cells": [
  {
   "attachments": {},
   "cell_type": "markdown",
   "metadata": {},
   "source": [
    "# RNN"
   ]
  },
  {
   "attachments": {},
   "cell_type": "markdown",
   "metadata": {},
   "source": [
    "## Imports"
   ]
  },
  {
   "cell_type": "code",
   "execution_count": 1,
   "metadata": {},
   "outputs": [],
   "source": [
    "import pandas as pd\n",
    "import numpy as np\n",
    "from keras.models import Sequential\n",
    "from keras.layers import Dense\n",
    "\n",
    "from sklearn.model_selection import train_test_split\n",
    "from sklearn.preprocessing import LabelEncoder\n",
    "\n",
    "from tensorflow.keras.models import Sequential\n",
    "from tensorflow.keras.layers import Embedding, SimpleRNN, Dense\n",
    "from tensorflow.keras.preprocessing.text import Tokenizer\n",
    "from tensorflow.keras.utils import to_categorical\n",
    "from tensorflow.keras.preprocessing import sequence\n",
    "from tensorflow.keras import regularizers"
   ]
  },
  {
   "attachments": {},
   "cell_type": "markdown",
   "metadata": {},
   "source": [
    "## Load"
   ]
  },
  {
   "cell_type": "code",
   "execution_count": 2,
   "metadata": {},
   "outputs": [
    {
     "name": "stdout",
     "output_type": "stream",
     "text": [
      "Loading data...\n",
      "The output categories are: [2 0 1]\n",
      "The output categories are: [0 2 1]\n",
      "X_train shape: (110847, 500)\n",
      "y_train shape: (110847,)\n",
      "X_test shape: (47506, 500)\n",
      "y_test shape: (47506,)\n"
     ]
    }
   ],
   "source": [
    "max_features = 10000  # number of words to consider as features\n",
    "maxlen = 500  # cut texts after this number of words (among top max_features most common words)\n",
    "\n",
    "print('Loading data...')\n",
    "df_train = pd.read_csv('train.csv')\n",
    "df_test = pd.read_csv('test.csv')\n",
    "\n",
    "category_mapping = {'negative': 0, 'neutral': 1, 'positive': 2}\n",
    "df_train['sentiment'] = df_train['sentiment'].replace(category_mapping)\n",
    "df_test['sentiment'] = df_test['sentiment'].replace(category_mapping)\n",
    "\n",
    "# Verificar as categorias após a substituição\n",
    "output_categories = df_train['sentiment'].unique()\n",
    "print(f\"The output categories are: {output_categories}\")\n",
    "\n",
    "\n",
    "# Verificar as categorias após a substituição\n",
    "output_categories = df_test['sentiment'].unique()\n",
    "print(f\"The output categories are: {output_categories}\")\n",
    "\n",
    "\n",
    "# Preencher valores ausentes com uma string vazia\n",
    "df_train['lyrics'] = df_train['lyrics'].fillna('')\n",
    "df_test['lyrics'] = df_test['lyrics'].fillna('')\n",
    "\n",
    "# Continuar com o código de pré-processamento\n",
    "X_train = df_train['lyrics'].values\n",
    "y_train = df_train['sentiment'].values\n",
    "\n",
    "X_test = df_test['lyrics'].values\n",
    "y_test = df_test['sentiment'].values\n",
    "\n",
    "tokenizer = Tokenizer(num_words=max_features)\n",
    "tokenizer.fit_on_texts(X_train)\n",
    "\n",
    "X_train = tokenizer.texts_to_sequences(X_train)\n",
    "X_test = tokenizer.texts_to_sequences(X_test)\n",
    "\n",
    "X_train = sequence.pad_sequences(X_train, maxlen=maxlen)\n",
    "X_test = sequence.pad_sequences(X_test, maxlen=maxlen)\n",
    "\n",
    "print('X_train shape:', X_train.shape)\n",
    "print('y_train shape:', y_train.shape)\n",
    "print('X_test shape:', X_test.shape)\n",
    "print('y_test shape:', y_test.shape)"
   ]
  },
  {
   "cell_type": "code",
   "execution_count": 3,
   "metadata": {},
   "outputs": [
    {
     "name": "stdout",
     "output_type": "stream",
     "text": [
      "The output categories are [0 1 2]\n",
      "The number of unique words is 9978\n"
     ]
    }
   ],
   "source": [
    "print(\"The output categories are\", np.unique(y_train))\n",
    "print(\"The number of unique words is\", len(np.unique(np.hstack(X_test))))"
   ]
  },
  {
   "attachments": {},
   "cell_type": "markdown",
   "metadata": {},
   "source": [
    "## Define model"
   ]
  },
  {
   "cell_type": "code",
   "execution_count": 4,
   "metadata": {},
   "outputs": [],
   "source": [
    "num_classes = 3  # Número de classes (positive, negative, neutral)\n",
    "\n",
    "# Mapear os rótulos de string para valores inteiros\n",
    "label_encoder = LabelEncoder()\n",
    "y_train_encoded = label_encoder.fit_transform(y_train)\n",
    "y_test_encoded = label_encoder.transform(y_test)\n",
    "\n",
    "# Converter os rótulos para o formato one-hot\n",
    "y_train = to_categorical(y_train_encoded, num_classes)\n",
    "y_test = to_categorical(y_test_encoded, num_classes)\n"
   ]
  },
  {
   "cell_type": "code",
   "execution_count": 4,
   "metadata": {},
   "outputs": [],
   "source": [
    "#model = Sequential()\n",
    "#model.add(Embedding(max_features, 32))\n",
    "#model.add(SimpleRNN(32))\n",
    "#model.add(Dense(3, activation='softmax'))\n",
    "#model.summary()\n",
    "\n",
    "\n",
    "# Estamos a usar este\n",
    "#model = Sequential()\n",
    "#model.add(Embedding(max_features, 32, embeddings_regularizer=regularizers.l2(0.01)))  # Adiciona regularização L2\n",
    "#model.add(SimpleRNN(32))\n",
    "#model.add(Dense(3, activation='softmax'))\n",
    "#model.summary()"
   ]
  },
  {
   "cell_type": "code",
   "execution_count": 11,
   "metadata": {},
   "outputs": [
    {
     "name": "stdout",
     "output_type": "stream",
     "text": [
      "Model: \"sequential_2\"\n",
      "_________________________________________________________________\n",
      " Layer (type)                Output Shape              Param #   \n",
      "=================================================================\n",
      " embedding_2 (Embedding)     (None, None, 32)          320000    \n",
      "                                                                 \n",
      " dropout_1 (Dropout)         (None, None, 32)          0         \n",
      "                                                                 \n",
      " simple_rnn_1 (SimpleRNN)    (None, 32)                2080      \n",
      "                                                                 \n",
      " dense_2 (Dense)             (None, 3)                 99        \n",
      "                                                                 \n",
      "=================================================================\n",
      "Total params: 322,179\n",
      "Trainable params: 322,179\n",
      "Non-trainable params: 0\n",
      "_________________________________________________________________\n"
     ]
    }
   ],
   "source": [
    "from keras.layers import Dropout\n",
    "from keras import regularizers\n",
    "\n",
    "model = Sequential()\n",
    "model.add(Embedding(max_features, 32))\n",
    "model.add(Dropout(0.5))  # Adicionando Dropout com taxa de 0.5\n",
    "model.add(SimpleRNN(32, kernel_regularizer=regularizers.l2(0.01)))  # Adicionando regularização L2 com taxa de 0.01\n",
    "model.add(Dense(3, activation='sigmoid'))\n",
    "model.summary()\n"
   ]
  },
  {
   "cell_type": "code",
   "execution_count": 12,
   "metadata": {},
   "outputs": [
    {
     "name": "stderr",
     "output_type": "stream",
     "text": [
      "WARNING:absl:`lr` is deprecated, please use `learning_rate` instead, or use the legacy optimizer, e.g.,tf.keras.optimizers.legacy.Adam.\n"
     ]
    },
    {
     "name": "stdout",
     "output_type": "stream",
     "text": [
      "Epoch 1/12\n",
      "693/693 [==============================] - 48s 68ms/step - loss: 1.0999 - acc: 0.4695 - val_loss: 1.0069 - val_acc: 0.5268\n",
      "Epoch 2/12\n",
      "693/693 [==============================] - 47s 67ms/step - loss: 0.9978 - acc: 0.5318 - val_loss: 1.0164 - val_acc: 0.5114\n",
      "Epoch 3/12\n",
      "693/693 [==============================] - 49s 71ms/step - loss: 0.9775 - acc: 0.5468 - val_loss: 1.0030 - val_acc: 0.5292\n",
      "Epoch 4/12\n",
      "693/693 [==============================] - 50s 73ms/step - loss: 0.9570 - acc: 0.5588 - val_loss: 1.0113 - val_acc: 0.5323\n",
      "Epoch 5/12\n",
      "693/693 [==============================] - 52s 75ms/step - loss: 0.9359 - acc: 0.5720 - val_loss: 1.0280 - val_acc: 0.5088\n",
      "Epoch 6/12\n",
      "693/693 [==============================] - 53s 76ms/step - loss: 0.9079 - acc: 0.5911 - val_loss: 1.0263 - val_acc: 0.5217\n",
      "Epoch 7/12\n",
      "693/693 [==============================] - 53s 77ms/step - loss: 0.8849 - acc: 0.6057 - val_loss: 1.0393 - val_acc: 0.5149\n",
      "Epoch 8/12\n",
      "693/693 [==============================] - 45s 66ms/step - loss: 0.8629 - acc: 0.6183 - val_loss: 1.0597 - val_acc: 0.5070\n",
      "Epoch 9/12\n",
      "693/693 [==============================] - 52s 75ms/step - loss: 0.8404 - acc: 0.6310 - val_loss: 1.0731 - val_acc: 0.5018\n",
      "Epoch 10/12\n",
      "693/693 [==============================] - 52s 74ms/step - loss: 0.8407 - acc: 0.6311 - val_loss: 1.0926 - val_acc: 0.4904\n",
      "Epoch 11/12\n",
      "693/693 [==============================] - 54s 78ms/step - loss: 0.8172 - acc: 0.6429 - val_loss: 1.0962 - val_acc: 0.4950\n",
      "Epoch 12/12\n",
      "693/693 [==============================] - 51s 74ms/step - loss: 0.7905 - acc: 0.6582 - val_loss: 1.0990 - val_acc: 0.5039\n"
     ]
    }
   ],
   "source": [
    "from tensorflow.keras import optimizers\n",
    "\n",
    "optimizer = optimizers.Adam(lr=0.001)  # Definir a taxa de aprendizagem para 0.001\n",
    "model.compile(optimizer=optimizer, loss='categorical_crossentropy', metrics=['acc'])\n",
    "history = model.fit(X_train, y_train,\n",
    "                    epochs=12,\n",
    "                    batch_size=128,\n",
    "                    validation_split=0.2)"
   ]
  },
  {
   "cell_type": "code",
   "execution_count": 5,
   "metadata": {},
   "outputs": [
    {
     "name": "stdout",
     "output_type": "stream",
     "text": [
      "Model: \"sequential\"\n",
      "_________________________________________________________________\n",
      " Layer (type)                Output Shape              Param #   \n",
      "=================================================================\n",
      " embedding (Embedding)       (None, None, 32)          320000    \n",
      "                                                                 \n",
      " dropout (Dropout)           (None, None, 32)          0         \n",
      "                                                                 \n",
      " lstm (LSTM)                 (None, 128)               82432     \n",
      "                                                                 \n",
      " dense (Dense)               (None, 3)                 387       \n",
      "                                                                 \n",
      "=================================================================\n",
      "Total params: 402,819\n",
      "Trainable params: 402,819\n",
      "Non-trainable params: 0\n",
      "_________________________________________________________________\n"
     ]
    },
    {
     "name": "stderr",
     "output_type": "stream",
     "text": [
      "WARNING:absl:`lr` is deprecated, please use `learning_rate` instead, or use the legacy optimizer, e.g.,tf.keras.optimizers.legacy.Adam.\n"
     ]
    },
    {
     "name": "stdout",
     "output_type": "stream",
     "text": [
      "Epoch 1/12\n",
      "693/693 [==============================] - 289s 415ms/step - loss: 1.0589 - acc: 0.4845 - val_loss: 0.9996 - val_acc: 0.5282\n",
      "Epoch 2/12\n",
      "693/693 [==============================] - 247s 357ms/step - loss: 0.9889 - acc: 0.5347 - val_loss: 0.9965 - val_acc: 0.5291\n",
      "Epoch 3/12\n",
      "693/693 [==============================] - 247s 356ms/step - loss: 0.9758 - acc: 0.5440 - val_loss: 1.0082 - val_acc: 0.5267\n",
      "Epoch 4/12\n",
      "693/693 [==============================] - 259s 373ms/step - loss: 0.9665 - acc: 0.5507 - val_loss: 0.9962 - val_acc: 0.5292\n",
      "Epoch 5/12\n",
      "693/693 [==============================] - 271s 391ms/step - loss: 0.9607 - acc: 0.5547 - val_loss: 1.0015 - val_acc: 0.5264\n",
      "Epoch 6/12\n",
      "693/693 [==============================] - 271s 391ms/step - loss: 0.9560 - acc: 0.5574 - val_loss: 0.9994 - val_acc: 0.5293\n",
      "Epoch 7/12\n",
      "693/693 [==============================] - 267s 385ms/step - loss: 0.9529 - acc: 0.5590 - val_loss: 1.0004 - val_acc: 0.5275\n",
      "Epoch 8/12\n",
      "693/693 [==============================] - 203s 293ms/step - loss: 0.9504 - acc: 0.5619 - val_loss: 1.0081 - val_acc: 0.5212\n",
      "Epoch 9/12\n",
      "693/693 [==============================] - 204s 294ms/step - loss: 0.9467 - acc: 0.5639 - val_loss: 1.0037 - val_acc: 0.5269\n",
      "Epoch 10/12\n",
      "693/693 [==============================] - 204s 294ms/step - loss: 0.9456 - acc: 0.5652 - val_loss: 1.0082 - val_acc: 0.5256\n",
      "Epoch 11/12\n",
      "693/693 [==============================] - 204s 295ms/step - loss: 0.9439 - acc: 0.5663 - val_loss: 1.0061 - val_acc: 0.5276\n",
      "Epoch 12/12\n",
      "693/693 [==============================] - 205s 295ms/step - loss: 0.9428 - acc: 0.5670 - val_loss: 1.0103 - val_acc: 0.5267\n"
     ]
    }
   ],
   "source": [
    "from keras.layers import Dropout, LSTM\n",
    "from keras import regularizers\n",
    "from tensorflow.keras import optimizers\n",
    "\n",
    "model = Sequential()\n",
    "model.add(Embedding(max_features, 32))\n",
    "model.add(Dropout(0.7))\n",
    "model.add(LSTM(128, kernel_regularizer=regularizers.l2(0.01)))\n",
    "model.add(Dense(3, activation='softmax'))\n",
    "model.summary()\n",
    "\n",
    "optimizer = optimizers.Adam(lr=0.0001)\n",
    "model.compile(optimizer=optimizer, loss='categorical_crossentropy', metrics=['acc'])\n",
    "history = model.fit(X_train, y_train,\n",
    "                    epochs=12,\n",
    "                    batch_size=128,\n",
    "                    validation_split=0.2)\n"
   ]
  },
  {
   "cell_type": "code",
   "execution_count": 6,
   "metadata": {},
   "outputs": [
    {
     "name": "stdout",
     "output_type": "stream",
     "text": [
      "Accuracy: 55.34%\n"
     ]
    }
   ],
   "source": [
    "scores = model.evaluate(X_test, y_test, verbose=0)\n",
    "print(\"Accuracy: %.2f%%\" % (scores[1]*100))"
   ]
  },
  {
   "attachments": {},
   "cell_type": "markdown",
   "metadata": {},
   "source": [
    "## Plot"
   ]
  },
  {
   "cell_type": "code",
   "execution_count": 7,
   "metadata": {},
   "outputs": [
    {
     "data": {
      "image/png": "[encoded data removed]",
      "text/plain": [
       "<Figure size 432x288 with 1 Axes>"
      ]
     },
     "metadata": {
      "needs_background": "light"
     },
     "output_type": "display_data"
    },
    {
     "data": {
      "image/png": "[encoded data removed]",
      "text/plain": [
       "<Figure size 432x288 with 1 Axes>"
      ]
     },
     "metadata": {
      "needs_background": "light"
     },
     "output_type": "display_data"
    }
   ],
   "source": [
    "import matplotlib.pyplot as plt\n",
    "\n",
    "acc = history.history['acc']\n",
    "val_acc = history.history['val_acc']\n",
    "loss = history.history['loss']\n",
    "val_loss = history.history['val_loss']\n",
    "\n",
    "epochs = range(len(acc))\n",
    "\n",
    "plt.plot(epochs, acc, 'orange', label='Training acc')\n",
    "plt.plot(epochs, val_acc, 'b', label='Validation acc')\n",
    "plt.title('Training and validation accuracy')\n",
    "plt.legend()\n",
    "\n",
    "plt.figure()\n",
    "\n",
    "plt.plot(epochs, loss, 'orange', label='Training loss')\n",
    "plt.plot(epochs, val_loss, 'b', label='Validation loss')\n",
    "plt.title('Training and validation loss')\n",
    "plt.legend()\n",
    "\n",
    "plt.show()"
   ]
  },
  {
   "cell_type": "code",
   "execution_count": null,
   "metadata": {},
   "outputs": [],
   "source": []
  }
 ],
 "metadata": {
  "kernelspec": {
   "display_name": "daa",
   "language": "python",
   "name": "python3"
  },
  "language_info": {
   "codemirror_mode": {
    "name": "ipython",
    "version": 3
   },
   "file_extension": ".py",
   "mimetype": "text/x-python",
   "name": "python",
   "nbconvert_exporter": "python",
   "pygments_lexer": "ipython3",
   "version": "3.9.0"
  },
  "orig_nbformat": 4
 },
 "nbformat": 4,
 "nbformat_minor": 2
}
